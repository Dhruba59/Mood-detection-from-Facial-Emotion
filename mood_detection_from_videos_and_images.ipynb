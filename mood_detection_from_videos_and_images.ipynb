{
  "nbformat": 4,
  "nbformat_minor": 0,
  "metadata": {
    "colab": {
      "name": "mood detection from videos and images.ipynb",
      "provenance": [],
      "collapsed_sections": [],
      "toc_visible": true,
      "authorship_tag": "ABX9TyMzASeHpeMJgxRuWdlgryaE"
    },
    "kernelspec": {
      "name": "python3",
      "display_name": "Python 3"
    }
  },
  "cells": [
    {
      "cell_type": "code",
      "metadata": {
        "id": "kIDyKlHE9uuV"
      },
      "source": [
        "def stringToList(input):\r\n",
        "  lst = []\r\n",
        "  for i in input:\r\n",
        "    l = list(map(float, i.split(\" \")))\r\n",
        "    lst.append(l)\r\n",
        "  return lst"
      ],
      "execution_count": 9,
      "outputs": []
    },
    {
      "cell_type": "code",
      "metadata": {
        "id": "bvfCPgPJ9vci"
      },
      "source": [
        "def moodNamePrintFromLabel(n):\r\n",
        "  if n == 0: result = 'Angry '\r\n",
        "  elif n == 1: result = 'Disgust '\r\n",
        "  elif n == 2: result = 'Fear'\r\n",
        "  elif n == 3: result = 'Happy'\r\n",
        "  elif n == 4: result = 'Sad'\r\n",
        "  elif n == 5: result = 'Surprise'\r\n",
        "  elif n == 6: result = 'Neutral'\r\n",
        "  return result\r\n",
        "\r\n"
      ],
      "execution_count": 8,
      "outputs": []
    },
    {
      "cell_type": "code",
      "metadata": {
        "colab": {
          "base_uri": "https://localhost:8080/"
        },
        "id": "gfISzA7WxD5e",
        "outputId": "4a9c6c43-7bda-4577-95ed-5d95fd711e84"
      },
      "source": [
        "from google.colab import drive\r\n",
        "drive.mount('/content/drive')"
      ],
      "execution_count": 6,
      "outputs": [
        {
          "output_type": "stream",
          "text": [
            "Mounted at /content/drive\n"
          ],
          "name": "stdout"
        }
      ]
    },
    {
      "cell_type": "code",
      "metadata": {
        "id": "_O6gXlIqVsRv"
      },
      "source": [
        "import pandas as pd\r\n",
        "import numpy as np"
      ],
      "execution_count": 7,
      "outputs": []
    },
    {
      "cell_type": "code",
      "metadata": {
        "id": "NikBvZDmxLEo"
      },
      "source": [
        "\r\n",
        "data = pd.read_csv('/content/drive/My Drive/projects/train.csv')\r\n",
        "test_data = pd.read_csv('/content/drive/My Drive/projects/test.csv')"
      ],
      "execution_count": 10,
      "outputs": []
    },
    {
      "cell_type": "markdown",
      "metadata": {
        "id": "Nku8k1fHQmqI"
      },
      "source": [
        "**processing the data**"
      ]
    },
    {
      "cell_type": "code",
      "metadata": {
        "id": "2yeacQwxxOuh"
      },
      "source": [
        "X = data['pixels']\r\n",
        "Y = np.array(data['emotion'])\r\n",
        "\r\n",
        "x_test_data = np.array(test_data['pixels'])\r\n",
        "\r\n",
        "X = np.array(stringToList(X))/255.0\r\n",
        "X = np.reshape(X, (28709, 48,48,1))\r\n",
        "\r\n",
        "x_test_data = np.array(stringToList(x_test_data))\r\n",
        "x_test_data = np.reshape(x_test_data, (7178,48,48,1)) /255.0\r\n"
      ],
      "execution_count": 28,
      "outputs": []
    },
    {
      "cell_type": "code",
      "metadata": {
        "colab": {
          "base_uri": "https://localhost:8080/"
        },
        "id": "G6y7TbxXzhOn",
        "outputId": "ae54c71b-219c-409b-aa84-07ada70cdc39"
      },
      "source": [
        "print(X.shape)\r\n",
        "print(Y.shape)"
      ],
      "execution_count": null,
      "outputs": [
        {
          "output_type": "stream",
          "text": [
            "(28709, 48, 48, 1)\n",
            "(28709,)\n"
          ],
          "name": "stdout"
        }
      ]
    },
    {
      "cell_type": "markdown",
      "metadata": {
        "id": "Vh9PCf9qQtTJ"
      },
      "source": [
        "**data splitting to test and training set**"
      ]
    },
    {
      "cell_type": "code",
      "metadata": {
        "id": "wmsgFrG-yzzf"
      },
      "source": [
        "from sklearn.model_selection import train_test_split\r\n",
        "x_train, x_test, y_train, y_test = train_test_split(X, Y, test_size = 0.2)"
      ],
      "execution_count": null,
      "outputs": []
    },
    {
      "cell_type": "code",
      "metadata": {
        "colab": {
          "base_uri": "https://localhost:8080/"
        },
        "id": "9TrHAPy-0jsJ",
        "outputId": "f33281bc-7dfa-4cb4-ef0f-36c94cd02e61"
      },
      "source": [
        "print(x_train.shape)\r\n",
        "print(y_train.shape)"
      ],
      "execution_count": null,
      "outputs": [
        {
          "output_type": "stream",
          "text": [
            "(22967, 48, 48, 1)\n",
            "(22967,)\n"
          ],
          "name": "stdout"
        }
      ]
    },
    {
      "cell_type": "code",
      "metadata": {
        "id": "s9-N9GxExSpg"
      },
      "source": [
        "import tensorflow as tf\r\n",
        "from tensorflow.keras.models import Sequential\r\n",
        "from tensorflow.keras.layers import Dense, Activation, Flatten, Conv2D, Dropout, MaxPooling2D, BatchNormalization"
      ],
      "execution_count": null,
      "outputs": []
    },
    {
      "cell_type": "code",
      "metadata": {
        "id": "b2f7xg2MQ9th"
      },
      "source": [
        "model = Sequential()\r\n",
        "#1st convo\r\n",
        "model.add(Conv2D(96, (3,3), input_shape = (48,48,1)))\r\n",
        "model.add(Activation('relu'))\r\n",
        "#polling\r\n",
        "model.add(MaxPooling2D(pool_size=(2,2)))\r\n",
        "model.add(BatchNormalization())\r\n",
        "\r\n",
        "\r\n",
        "#2nd convo\r\n",
        "model.add(Conv2D(256, (3,3)))\r\n",
        "model.add(Activation('relu'))\r\n",
        "#polling\r\n",
        "model.add(MaxPooling2D(pool_size=(2,2)))\r\n",
        "model.add(BatchNormalization())\r\n",
        "\r\n",
        "#3rd convo\r\n",
        "model.add(Conv2D(384, (3,3)))\r\n",
        "model.add(Activation('relu'))\r\n",
        "#polling\r\n",
        "model.add(MaxPooling2D(pool_size=(2,2)))\r\n",
        "model.add(BatchNormalization())\r\n",
        "\r\n",
        "#4th convo\r\n",
        "model.add(Conv2D(256, (3,3)))\r\n",
        "model.add(Activation('relu'))\r\n",
        "#polling\r\n",
        "model.add(MaxPooling2D(pool_size=(2,2)))\r\n",
        "model.add(BatchNormalization())\r\n",
        "\r\n",
        "\r\n",
        "\r\n",
        "\r\n",
        "#passing through dense layer\r\n",
        "model.add(Flatten())\r\n",
        "\r\n",
        "#1st dense layer\r\n",
        "model.add(Dense(1024))\r\n",
        "model.add(Activation('relu'))\r\n",
        "#dropout\r\n",
        "model.add(BatchNormalization())\r\n",
        "model.add(Dropout(0.4))\r\n",
        "\r\n",
        "\r\n",
        "#2nd dense layer\r\n",
        "model.add(Dense(1024))\r\n",
        "model.add(Activation('relu'))\r\n",
        "#dropout\r\n",
        "model.add(BatchNormalization())\r\n",
        "model.add(Dropout(0.4))\r\n",
        "\r\n",
        "\r\n",
        "#3rd dense layer\r\n",
        "model.add(Dense(256))\r\n",
        "model.add(Activation('relu'))\r\n",
        "#dropout\r\n",
        "model.add(Dropout(0.4))\r\n",
        "model.add(BatchNormalization())\r\n",
        "model.add(Activation('relu'))\r\n",
        "\r\n",
        "\r\n",
        "#output layer\r\n",
        "model.add(Dense(7))\r\n",
        "model.add(Activation('softmax'))\r\n",
        "\r\n",
        "model.compile(loss=\"sparse_categorical_crossentropy\",\r\n",
        "              optimizer = \"adam\",\r\n",
        "              metrics = ['sparse_categorical_accuracy'])\r\n",
        "model.fit(x_train, y_train, batch_size=32, epochs=10, validation_split=0.1)"
      ],
      "execution_count": null,
      "outputs": []
    },
    {
      "cell_type": "code",
      "metadata": {
        "id": "muYX6STVBug2"
      },
      "source": [
        "model.save('/content/drive/My Drive/projects/model.h5')"
      ],
      "execution_count": null,
      "outputs": []
    },
    {
      "cell_type": "markdown",
      "metadata": {
        "id": "w-LAC-jGQ4qa"
      },
      "source": [
        "**Loading the saved mood detection model from google drive**"
      ]
    },
    {
      "cell_type": "code",
      "metadata": {
        "id": "G2v_p5rLxVLw"
      },
      "source": [
        "from keras.models import load_model\r\n",
        "loaded_model = load_model('/content/drive/My Drive/projects/model.h5')"
      ],
      "execution_count": 11,
      "outputs": []
    },
    {
      "cell_type": "code",
      "metadata": {
        "colab": {
          "base_uri": "https://localhost:8080/"
        },
        "id": "0ONLK6a52Tnl",
        "outputId": "05b0f053-782a-4e75-feb0-6feea4d1722e"
      },
      "source": [
        "score = loaded_model.evaluate(x_test, y_test, verbose=1)"
      ],
      "execution_count": null,
      "outputs": [
        {
          "output_type": "stream",
          "text": [
            "180/180 [==============================] - 37s 203ms/step - loss: 0.6828 - sparse_categorical_accuracy: 0.7654\n"
          ],
          "name": "stdout"
        }
      ]
    },
    {
      "cell_type": "markdown",
      "metadata": {
        "id": "wdw4eRdtAxlG"
      },
      "source": [
        "**Taking input as image and videos and detecting faces and getting the face portion. Then passing these faces to the model and getting the mood detection output.**"
      ]
    },
    {
      "cell_type": "code",
      "metadata": {
        "id": "lS_uk9L5H_it"
      },
      "source": [
        "import cv2\r\n",
        "from PIL import Image\r\n",
        "import matplotlib.pyplot as plt\r\n",
        "from google.colab.patches import cv2_imshow\r\n",
        "\r\n",
        "\r\n",
        "def videoToMoodDetection(video_path):\r\n",
        "  #video_cap = cv2.VideoCapture(0)\r\n",
        "  video_cap = cv2.VideoCapture(video_path)\r\n",
        "\r\n",
        "  while (video_cap.isOpened()):\r\n",
        "    ret, frame = video_cap.read()\r\n",
        "\r\n",
        "    Gray_img = cv2.cvtColor(frame, cv2.COLOR_BGR2GRAY)\r\n",
        "\r\n",
        "    faces = face_casecade.detectMultiScale(Gray_img, 1.3, 5)\r\n",
        "\r\n",
        "    print(faces)\r\n",
        "\r\n",
        "    for (x,y,w,h) in faces:\r\n",
        "      pxl_lst = []\r\n",
        "      for i in range(y, y+h):\r\n",
        "        lst = []\r\n",
        "        for j in range(x, x+w):\r\n",
        "          lst.append(Gray_img[i][j])\r\n",
        "        pxl_lst.append(lst)\r\n",
        "      single_face = np.array(pxl_lst)\r\n",
        "      \r\n",
        "      print(\"/n/n/n/n/n/n/n\")\r\n",
        "      resized_img = cv2.resize(single_face, (48,48), interpolation = cv2.INTER_AREA)\r\n",
        "\r\n",
        "      #printing the 48*48 pixel images which will be passed to the model\r\n",
        "      cv2_imshow(resized_img)\r\n",
        "      \r\n",
        "      #resize for passing to the model\r\n",
        "      resized_img = np.reshape(resized_img,(1,48,48,1))/255.0\r\n",
        "\r\n",
        "      #passing to model\r\n",
        "      result = np.argmax(loaded_model.predict(resized_img), axis=-1)\r\n",
        "      if result is not None:\r\n",
        "        print(moodNamePrintFromLabel(result))\r\n",
        "  \r\n",
        "\r\n",
        "\r\n",
        "def imageToMoodDetection(img_path):\r\n",
        "\r\n",
        "  img = cv2.imread(img_path)\r\n",
        "\r\n",
        "  Gray_img = cv2.cvtColor(img, cv2.COLOR_BGR2GRAY)\r\n",
        "\r\n",
        "  faces = face_casecade.detectMultiScale(Gray_img, 1.3, 3)\r\n",
        "\r\n",
        "  for (x,y,w,h) in faces:\r\n",
        "      pxl_lst = []\r\n",
        "      for i in range(y, y+h):\r\n",
        "        lst = []\r\n",
        "        for j in range(x, x+w):\r\n",
        "          lst.append(Gray_img[i][j])\r\n",
        "        pxl_lst.append(lst)\r\n",
        "      single_face = np.array(pxl_lst)\r\n",
        "      single_face = np.reshape(single_face,(h,w,))\r\n",
        "      print(single_face)\r\n",
        "  \r\n",
        "      resized_img = cv2.resize(single_face, (48,48), interpolation = cv2.INTER_AREA)\r\n",
        "      cv2_imshow(resized_img)\r\n",
        "      print(resized_img.shape)\r\n",
        "      resized_img = np.reshape(resized_img,(1,48,48,1))/255.0\r\n",
        "\r\n",
        "      #passing to model\r\n",
        "      result = np.argmax(loaded_model.predict(resized_img), axis=-1)\r\n",
        "      if result is not None:\r\n",
        "        print(moodNamePrintFromLabel(result))\r\n",
        "\r\n",
        "  \r\n",
        "  \r\n",
        "  \r\n",
        "  \r\n",
        "\r\n"
      ],
      "execution_count": 109,
      "outputs": []
    },
    {
      "cell_type": "code",
      "metadata": {
        "colab": {
          "base_uri": "https://localhost:8080/",
          "height": 641
        },
        "id": "Y6p4OgKW-dlP",
        "outputId": "2054e819-361d-4300-8727-cea654f06e27"
      },
      "source": [
        "imageToMoodDetection('/content/DSC_2693.NEF.jpg')"
      ],
      "execution_count": 110,
      "outputs": [
        {
          "output_type": "stream",
          "text": [
            "[[43 34 29 ... 26 31 37]\n",
            " [33 29 27 ... 24 29 35]\n",
            " [24 25 27 ... 22 25 30]\n",
            " ...\n",
            " [50 50 51 ... 46 45 47]\n",
            " [50 51 53 ... 50 49 49]\n",
            " [53 51 51 ... 47 48 49]]\n"
          ],
          "name": "stdout"
        },
        {
          "output_type": "display_data",
          "data": {
            "image/png": "[encoded data removed]",
            "text/plain": [
              "<PIL.Image.Image image mode=L size=48x48 at 0x7FB89A8856A0>"
            ]
          },
          "metadata": {
            "tags": []
          }
        },
        {
          "output_type": "stream",
          "text": [
            "(48, 48)\n",
            "Happy\n",
            "[[ 68  45  39 ...  38  38  38]\n",
            " [ 65  44  40 ...  38  38  38]\n",
            " [ 60  46  43 ...  38  38  38]\n",
            " ...\n",
            " [192 198 199 ... 156 148 150]\n",
            " [182 188 184 ... 150 145 146]\n",
            " [162 161 169 ... 152 147 144]]\n"
          ],
          "name": "stdout"
        },
        {
          "output_type": "display_data",
          "data": {
            "image/png": "[encoded data removed]",
            "text/plain": [
              "<PIL.Image.Image image mode=L size=48x48 at 0x7FB89AC315F8>"
            ]
          },
          "metadata": {
            "tags": []
          }
        },
        {
          "output_type": "stream",
          "text": [
            "(48, 48)\n",
            "Sad\n",
            "[[ 29  33  36 ... 127 144 178]\n",
            " [ 27  33  32 ... 138 143 174]\n",
            " [ 29  29  28 ... 144 138 153]\n",
            " ...\n",
            " [ 20  21  21 ...  51  46  50]\n",
            " [ 22  20  18 ...  46  46  46]\n",
            " [ 22  20  18 ...  57  51  43]]\n"
          ],
          "name": "stdout"
        },
        {
          "output_type": "display_data",
          "data": {
            "image/png": "[encoded data removed]",
            "text/plain": [
              "<PIL.Image.Image image mode=L size=48x48 at 0x7FB8A795F1D0>"
            ]
          },
          "metadata": {
            "tags": []
          }
        },
        {
          "output_type": "stream",
          "text": [
            "(48, 48)\n",
            "Angry \n"
          ],
          "name": "stdout"
        }
      ]
    },
    {
      "cell_type": "code",
      "metadata": {
        "colab": {
          "base_uri": "https://localhost:8080/",
          "height": 1000
        },
        "id": "zvNVY6E383EU",
        "outputId": "2aba6458-f09f-4c70-ef27-3225c410280a"
      },
      "source": [
        "videoToMoodDetection('/content/video.mp4')"
      ],
      "execution_count": 95,
      "outputs": [
        {
          "output_type": "stream",
          "text": [
            "()\n",
            "()\n",
            "()\n",
            "()\n",
            "()\n",
            "()\n",
            "()\n",
            "()\n",
            "()\n",
            "()\n",
            "()\n",
            "()\n",
            "()\n",
            "()\n",
            "()\n",
            "()\n",
            "()\n",
            "()\n",
            "()\n",
            "()\n",
            "()\n",
            "()\n",
            "()\n",
            "()\n",
            "()\n",
            "()\n",
            "()\n",
            "()\n",
            "()\n",
            "()\n",
            "()\n",
            "()\n",
            "()\n",
            "()\n",
            "()\n",
            "()\n",
            "()\n",
            "()\n",
            "()\n",
            "()\n",
            "()\n",
            "()\n",
            "()\n",
            "()\n",
            "()\n",
            "()\n",
            "()\n",
            "()\n",
            "()\n",
            "()\n",
            "[[216  23 219 219]]\n",
            "[[ 58  78 108 ... 107 112 101]\n",
            " [ 71  97 120 ... 110 111 102]\n",
            " [ 94 116 122 ... 102 103 100]\n",
            " ...\n",
            " [ 28  28  28 ...  45  49  52]\n",
            " [ 29  29  28 ...  45  49  53]\n",
            " [ 30  30  29 ...  45  49  53]]\n",
            "/n/n/n/n/n/n/n\n"
          ],
          "name": "stdout"
        },
        {
          "output_type": "display_data",
          "data": {
            "image/png": "[encoded data removed]",
            "text/plain": [
              "<PIL.Image.Image image mode=L size=48x48 at 0x7FB8AC45E400>"
            ]
          },
          "metadata": {
            "tags": []
          }
        },
        {
          "output_type": "stream",
          "text": [
            "(48, 48)\n",
            "Neutral\n",
            "[[219  24 216 216]]\n",
            "[[127 125 124 ... 110 108  98]\n",
            " [116 120 101 ... 100 101 100]\n",
            " [101 107  75 ...  82  93 100]\n",
            " ...\n",
            " [ 28  28  28 ...  46  50  53]\n",
            " [ 28  28  28 ...  46  50  53]\n",
            " [ 28  28  26 ...  46  50  53]]\n",
            "/n/n/n/n/n/n/n\n"
          ],
          "name": "stdout"
        },
        {
          "output_type": "display_data",
          "data": {
            "image/png": "[encoded data removed]",
            "text/plain": [
              "<PIL.Image.Image image mode=L size=48x48 at 0x7FB8A38C1080>"
            ]
          },
          "metadata": {
            "tags": []
          }
        },
        {
          "output_type": "stream",
          "text": [
            "(48, 48)\n",
            "Neutral\n",
            "[[218  23 214 214]]\n",
            "[[124 135 134 ...  46  82 107]\n",
            " [127 125 127 ...  26  73 105]\n",
            " [120 117 118 ...  15  52  87]\n",
            " ...\n",
            " [ 28  28  28 ...  37  37  39]\n",
            " [ 26  28  28 ...  37  38  39]\n",
            " [ 26  28  28 ...  35  38  40]]\n",
            "/n/n/n/n/n/n/n\n"
          ],
          "name": "stdout"
        },
        {
          "output_type": "display_data",
          "data": {
            "image/png": "[encoded data removed]",
            "text/plain": [
              "<PIL.Image.Image image mode=L size=48x48 at 0x7FB8A38B8390>"
            ]
          },
          "metadata": {
            "tags": []
          }
        },
        {
          "output_type": "stream",
          "text": [
            "(48, 48)\n",
            "Neutral\n",
            "[[219  22 214 214]]\n",
            "[[137 131 123 ... 103 111 112]\n",
            " [137 131 124 ... 103 111 111]\n",
            " [128 129 109 ...  96 108 109]\n",
            " ...\n",
            " [ 28  28  28 ...  38  39  40]\n",
            " [ 28  28  28 ...  39  40  42]\n",
            " [ 28  28  28 ...  38  40  43]]\n",
            "/n/n/n/n/n/n/n\n"
          ],
          "name": "stdout"
        },
        {
          "output_type": "display_data",
          "data": {
            "image/png": "[encoded data removed]",
            "text/plain": [
              "<PIL.Image.Image image mode=L size=48x48 at 0x7FB8A3435358>"
            ]
          },
          "metadata": {
            "tags": []
          }
        },
        {
          "output_type": "stream",
          "text": [
            "(48, 48)\n",
            "Neutral\n",
            "[[217  20 217 217]]\n",
            "[[ 57 103 127 ... 112 109  97]\n",
            " [ 74 117 131 ... 112 112 101]\n",
            " [ 90 128 137 ... 111 112 102]\n",
            " ...\n",
            " [ 26  28  28 ...  40  42  46]\n",
            " [ 26  26  28 ...  40  43  47]\n",
            " [ 26  28  28 ...  43  44  50]]\n",
            "/n/n/n/n/n/n/n\n"
          ],
          "name": "stdout"
        },
        {
          "output_type": "display_data",
          "data": {
            "image/png": "[encoded data removed]",
            "text/plain": [
              "<PIL.Image.Image image mode=L size=48x48 at 0x7FB8A796C550>"
            ]
          },
          "metadata": {
            "tags": []
          }
        },
        {
          "output_type": "stream",
          "text": [
            "(48, 48)\n",
            "Neutral\n",
            "[[219  21 215 215]]\n",
            "[[117 131 127 ... 109 114 111]\n",
            " [128 137 131 ... 104 112 111]\n",
            " [131 135 132 ... 103 112 110]\n",
            " ...\n",
            " [ 28  28  28 ...  40  40  43]\n",
            " [ 28  28  28 ...  39  40  44]\n",
            " [ 28  28  26 ...  39  42  45]]\n",
            "/n/n/n/n/n/n/n\n"
          ],
          "name": "stdout"
        },
        {
          "output_type": "display_data",
          "data": {
            "image/png": "[encoded data removed]",
            "text/plain": [
              "<PIL.Image.Image image mode=L size=48x48 at 0x7FB89AE39A58>"
            ]
          },
          "metadata": {
            "tags": []
          }
        },
        {
          "output_type": "stream",
          "text": [
            "(48, 48)\n",
            "Neutral\n",
            "[[219  20 214 214]]\n",
            "[[111 128 125 ... 104 112 112]\n",
            " [123 130 127 ...  96 110 114]\n",
            " [132 136 129 ...  88 107 112]\n",
            " ...\n",
            " [ 28  28  28 ...  38  38  38]\n",
            " [ 28  28  28 ...  38  39  39]\n",
            " [ 28  28  26 ...  38  40  40]]\n",
            "/n/n/n/n/n/n/n\n"
          ],
          "name": "stdout"
        },
        {
          "output_type": "display_data",
          "data": {
            "image/png": "[encoded data removed]",
            "text/plain": [
              "<PIL.Image.Image image mode=L size=48x48 at 0x7FB8A796C550>"
            ]
          },
          "metadata": {
            "tags": []
          }
        },
        {
          "output_type": "stream",
          "text": [
            "(48, 48)\n",
            "Neutral\n",
            "[[218  20 215 215]]\n",
            "[[ 70 111 128 ... 100 111 112]\n",
            " [ 87 123 130 ...  91 108 114]\n",
            " [102 132 136 ...  81 103 112]\n",
            " ...\n",
            " [ 28  28  28 ...  38  40  39]\n",
            " [ 28  28  28 ...  37  40  40]\n",
            " [ 28  28  28 ...  35  39  40]]\n",
            "/n/n/n/n/n/n/n\n"
          ],
          "name": "stdout"
        },
        {
          "output_type": "display_data",
          "data": {
            "image/png": "[encoded data removed]",
            "text/plain": [
              "<PIL.Image.Image image mode=L size=48x48 at 0x7FB8A796C550>"
            ]
          },
          "metadata": {
            "tags": []
          }
        },
        {
          "output_type": "stream",
          "text": [
            "(48, 48)\n",
            "Neutral\n",
            "[[218  20 215 215]]\n",
            "[[ 82 118 128 ... 100 111 112]\n",
            " [ 99 127 129 ...  91 108 114]\n",
            " [113 135 135 ...  81 103 112]\n",
            " ...\n",
            " [ 28  28  28 ...  38  40  39]\n",
            " [ 28  28  28 ...  37  40  40]\n",
            " [ 28  28  28 ...  35  39  40]]\n",
            "/n/n/n/n/n/n/n\n"
          ],
          "name": "stdout"
        },
        {
          "output_type": "display_data",
          "data": {
            "image/png": "[encoded data removed]",
            "text/plain": [
              "<PIL.Image.Image image mode=L size=48x48 at 0x7FB89A6112E8>"
            ]
          },
          "metadata": {
            "tags": []
          }
        },
        {
          "output_type": "stream",
          "text": [
            "(48, 48)\n",
            "Neutral\n",
            "[[218  20 215 215]]\n",
            "[[ 82 118 128 ... 100 111 112]\n",
            " [ 99 127 129 ...  91 108 114]\n",
            " [113 135 135 ...  81 103 112]\n",
            " ...\n",
            " [ 28  28  28 ...  38  40  39]\n",
            " [ 28  28  28 ...  37  40  40]\n",
            " [ 28  28  28 ...  35  39  40]]\n",
            "/n/n/n/n/n/n/n\n"
          ],
          "name": "stdout"
        },
        {
          "output_type": "display_data",
          "data": {
            "image/png": "[encoded data removed]",
            "text/plain": [
              "<PIL.Image.Image image mode=L size=48x48 at 0x7FB89A6112E8>"
            ]
          },
          "metadata": {
            "tags": []
          }
        },
        {
          "output_type": "stream",
          "text": [
            "(48, 48)\n",
            "Neutral\n",
            "[[218  21 214 214]]\n",
            "[[113 131 130 ...  67  93 108]\n",
            " [122 137 134 ...  49  83 107]\n",
            " [128 135 134 ...  30  73 103]\n",
            " ...\n",
            " [ 28  28  28 ...  37  35  37]\n",
            " [ 28  28  28 ...  37  35  35]\n",
            " [ 28  28  28 ...  36  33  35]]\n",
            "/n/n/n/n/n/n/n\n"
          ],
          "name": "stdout"
        },
        {
          "output_type": "display_data",
          "data": {
            "image/png": "[encoded data removed]",
            "text/plain": [
              "<PIL.Image.Image image mode=L size=48x48 at 0x7FB89B0D0518>"
            ]
          },
          "metadata": {
            "tags": []
          }
        },
        {
          "output_type": "stream",
          "text": [
            "(48, 48)\n",
            "Neutral\n",
            "[[219  20 214 214]]\n",
            "[[127 128 125 ... 103 112 108]\n",
            " [132 129 125 ...  97 110 108]\n",
            " [137 132 125 ...  90 109 108]\n",
            " ...\n",
            " [ 28  28  28 ...  36  37  38]\n",
            " [ 28  28  26 ...  36  36  38]\n",
            " [ 28  28  26 ...  35  37  39]]\n",
            "/n/n/n/n/n/n/n\n"
          ],
          "name": "stdout"
        },
        {
          "output_type": "display_data",
          "data": {
            "image/png": "[encoded data removed]",
            "text/plain": [
              "<PIL.Image.Image image mode=L size=48x48 at 0x7FB89B0D0518>"
            ]
          },
          "metadata": {
            "tags": []
          }
        },
        {
          "output_type": "stream",
          "text": [
            "(48, 48)\n",
            "Neutral\n",
            "[[218  17 217 217]]\n",
            "[[101 128 141 ...  87  72  61]\n",
            " [115 130 135 ...  96  80  66]\n",
            " [123 130 128 ... 102  88  69]\n",
            " ...\n",
            " [ 28  28  28 ...  39  42  45]\n",
            " [ 28  28  28 ...  39  43  47]\n",
            " [ 28  28  28 ...  40  45  50]]\n",
            "/n/n/n/n/n/n/n\n"
          ],
          "name": "stdout"
        },
        {
          "output_type": "display_data",
          "data": {
            "image/png": "[encoded data removed]",
            "text/plain": [
              "<PIL.Image.Image image mode=L size=48x48 at 0x7FB89B0D0518>"
            ]
          },
          "metadata": {
            "tags": []
          }
        },
        {
          "output_type": "stream",
          "text": [
            "(48, 48)\n",
            "Neutral\n",
            "[[216  16 218 218]]\n",
            "[[ 43  72 106 ...  83  74  66]\n",
            " [ 54  93 123 ...  94  77  64]\n",
            " [ 66 107 128 ... 101  85  69]\n",
            " ...\n",
            " [ 28  28  28 ...  37  39  43]\n",
            " [ 28  28  28 ...  38  40  45]\n",
            " [ 26  28  28 ...  38  43  48]]\n",
            "/n/n/n/n/n/n/n\n"
          ],
          "name": "stdout"
        },
        {
          "output_type": "display_data",
          "data": {
            "image/png": "[encoded data removed]",
            "text/plain": [
              "<PIL.Image.Image image mode=L size=48x48 at 0x7FB89AE39898>"
            ]
          },
          "metadata": {
            "tags": []
          }
        },
        {
          "output_type": "stream",
          "text": [
            "(48, 48)\n",
            "Neutral\n",
            "[[219  18 214 214]]\n",
            "[[129 130 129 ... 107  97  80]\n",
            " [125 125 127 ... 107 102  86]\n",
            " [125 123 122 ... 108 102  87]\n",
            " ...\n",
            " [ 29  29  26 ...  36  37  37]\n",
            " [ 28  28  26 ...  37  37  38]\n",
            " [ 28  26  26 ...  37  38  39]]\n",
            "/n/n/n/n/n/n/n\n"
          ],
          "name": "stdout"
        },
        {
          "output_type": "display_data",
          "data": {
            "image/png": "[encoded data removed]",
            "text/plain": [
              "<PIL.Image.Image image mode=L size=48x48 at 0x7FB89AE39898>"
            ]
          },
          "metadata": {
            "tags": []
          }
        },
        {
          "output_type": "stream",
          "text": [
            "(48, 48)\n",
            "Neutral\n",
            "[[212  16 222 222]]\n",
            "[[43 26 25 ... 71 63 61]\n",
            " [43 25 26 ... 78 66 60]\n",
            " [44 25 29 ... 85 67 59]\n",
            " ...\n",
            " [31 31 30 ... 42 44 46]\n",
            " [31 31 30 ... 42 44 46]\n",
            " [31 31 31 ... 42 44 46]]\n",
            "/n/n/n/n/n/n/n\n"
          ],
          "name": "stdout"
        },
        {
          "output_type": "display_data",
          "data": {
            "image/png": "[encoded data removed]",
            "text/plain": [
              "<PIL.Image.Image image mode=L size=48x48 at 0x7FB89A3F1EB8>"
            ]
          },
          "metadata": {
            "tags": []
          }
        },
        {
          "output_type": "stream",
          "text": [
            "(48, 48)\n",
            "Neutral\n",
            "[[212  16 222 222]]\n",
            "[[43 26 25 ... 71 63 61]\n",
            " [43 25 26 ... 78 66 60]\n",
            " [44 25 29 ... 85 67 59]\n",
            " ...\n",
            " [31 31 30 ... 42 44 46]\n",
            " [31 31 30 ... 42 44 46]\n",
            " [31 31 31 ... 43 44 46]]\n",
            "/n/n/n/n/n/n/n\n"
          ],
          "name": "stdout"
        },
        {
          "output_type": "display_data",
          "data": {
            "image/png": "[encoded data removed]",
            "text/plain": [
              "<PIL.Image.Image image mode=L size=48x48 at 0x7FB8A3435B38>"
            ]
          },
          "metadata": {
            "tags": []
          }
        },
        {
          "output_type": "stream",
          "text": [
            "(48, 48)\n",
            "Neutral\n",
            "[[212  17 220 220]]\n",
            "[[ 24  33  74 ...  97  80  68]\n",
            " [ 24  40  87 ... 102  86  67]\n",
            " [ 31  54 101 ... 102  88  68]\n",
            " ...\n",
            " [ 31  30  29 ...  36  38  39]\n",
            " [ 31  30  30 ...  35  38  40]\n",
            " [ 31  31  30 ...  36  38  40]]\n",
            "/n/n/n/n/n/n/n\n"
          ],
          "name": "stdout"
        },
        {
          "output_type": "display_data",
          "data": {
            "image/png": "[encoded data removed]",
            "text/plain": [
              "<PIL.Image.Image image mode=L size=48x48 at 0x7FB89A3F1320>"
            ]
          },
          "metadata": {
            "tags": []
          }
        },
        {
          "output_type": "stream",
          "text": [
            "(48, 48)\n",
            "Neutral\n",
            "[[212  16 221 221]]\n",
            "[[ 50  92 122 ...  63  58  57]\n",
            " [ 60 106 127 ...  60  56  54]\n",
            " [ 74 116 129 ...  61  58  57]\n",
            " ...\n",
            " [ 30  28  28 ...  40  43  46]\n",
            " [ 30  30  29 ...  42  44  46]\n",
            " [ 30  31  31 ...  42  43  45]]\n",
            "/n/n/n/n/n/n/n\n"
          ],
          "name": "stdout"
        },
        {
          "output_type": "display_data",
          "data": {
            "image/png": "[encoded data removed]",
            "text/plain": [
              "<PIL.Image.Image image mode=L size=48x48 at 0x7FB8AC45E470>"
            ]
          },
          "metadata": {
            "tags": []
          }
        },
        {
          "output_type": "stream",
          "text": [
            "(48, 48)\n",
            "Neutral\n",
            "()\n",
            "()\n",
            "()\n",
            "()\n",
            "()\n",
            "()\n",
            "()\n",
            "()\n",
            "()\n",
            "()\n",
            "()\n",
            "()\n",
            "()\n",
            "()\n",
            "()\n",
            "()\n",
            "()\n",
            "()\n",
            "()\n",
            "()\n",
            "()\n",
            "()\n",
            "()\n",
            "()\n",
            "()\n",
            "()\n",
            "()\n",
            "()\n",
            "()\n",
            "()\n",
            "()\n",
            "()\n",
            "()\n",
            "()\n",
            "()\n",
            "()\n",
            "()\n",
            "()\n",
            "()\n",
            "()\n",
            "()\n",
            "()\n",
            "()\n",
            "()\n",
            "()\n",
            "()\n",
            "()\n",
            "()\n",
            "()\n",
            "()\n",
            "()\n",
            "()\n",
            "()\n",
            "()\n",
            "()\n",
            "()\n",
            "()\n",
            "()\n",
            "()\n",
            "()\n",
            "()\n",
            "()\n",
            "()\n",
            "()\n",
            "()\n",
            "()\n",
            "()\n",
            "()\n",
            "()\n",
            "()\n",
            "()\n",
            "()\n",
            "()\n",
            "()\n",
            "()\n",
            "()\n",
            "()\n",
            "()\n",
            "()\n",
            "()\n",
            "()\n",
            "()\n",
            "()\n",
            "()\n",
            "()\n",
            "()\n",
            "()\n",
            "()\n",
            "()\n",
            "()\n",
            "()\n",
            "()\n",
            "()\n",
            "()\n",
            "()\n",
            "()\n",
            "()\n",
            "()\n",
            "()\n",
            "()\n",
            "()\n",
            "()\n",
            "()\n",
            "()\n",
            "()\n",
            "()\n",
            "()\n",
            "()\n",
            "()\n",
            "[[367  94 138 138]]\n",
            "[[ 80  79  74 ...  22  13  43]\n",
            " [ 94  92  85 ...  40  25  33]\n",
            " [ 92  90  89 ...  35  19  21]\n",
            " ...\n",
            " [230 231 232 ... 243 243 243]\n",
            " [231 232 232 ... 243 243 243]\n",
            " [231 234 234 ... 244 244 244]]\n",
            "/n/n/n/n/n/n/n\n"
          ],
          "name": "stdout"
        },
        {
          "output_type": "display_data",
          "data": {
            "image/png": "[encoded data removed]",
            "text/plain": [
              "<PIL.Image.Image image mode=L size=48x48 at 0x7FB89AD74828>"
            ]
          },
          "metadata": {
            "tags": []
          }
        },
        {
          "output_type": "stream",
          "text": [
            "(48, 48)\n",
            "Happy\n",
            "[[366  93 139 139]]\n",
            "[[ 77  68  70 ... 123  97  38]\n",
            " [ 88  73  78 ... 130 109  58]\n",
            " [ 87  81  87 ... 131 108  64]\n",
            " ...\n",
            " [230 230 231 ... 233 243 243]\n",
            " [230 231 231 ... 244 243 243]\n",
            " [230 231 231 ... 244 244 244]]\n",
            "/n/n/n/n/n/n/n\n"
          ],
          "name": "stdout"
        },
        {
          "output_type": "display_data",
          "data": {
            "image/png": "[encoded data removed]",
            "text/plain": [
              "<PIL.Image.Image image mode=L size=48x48 at 0x7FB88D3AF470>"
            ]
          },
          "metadata": {
            "tags": []
          }
        },
        {
          "output_type": "stream",
          "text": [
            "(48, 48)\n",
            "Happy\n",
            "[[370  94 135 135]]\n",
            "[[ 89  92  85 ... 100 132 115]\n",
            " [ 93  93  90 ...  87 130 117]\n",
            " [ 93  90  93 ...  75 122 120]\n",
            " ...\n",
            " [231 232 232 ... 143 157 240]\n",
            " [231 232 234 ... 153 189 242]\n",
            " [232 232 232 ... 165 221 243]]\n",
            "/n/n/n/n/n/n/n\n"
          ],
          "name": "stdout"
        },
        {
          "output_type": "display_data",
          "data": {
            "image/png": "[encoded data removed]",
            "text/plain": [
              "<PIL.Image.Image image mode=L size=48x48 at 0x7FB89AE39D30>"
            ]
          },
          "metadata": {
            "tags": []
          }
        },
        {
          "output_type": "stream",
          "text": [
            "(48, 48)\n",
            "Happy\n",
            "[[368  92 139 139]]\n",
            "[[ 67  67  67 ... 123  86  22]\n",
            " [ 74  71  75 ... 127 100  40]\n",
            " [ 79  78  85 ... 130 113  64]\n",
            " ...\n",
            " [230 231 232 ... 241 243 242]\n",
            " [231 231 232 ... 244 244 243]\n",
            " [231 233 234 ... 245 243 244]]\n",
            "/n/n/n/n/n/n/n\n"
          ],
          "name": "stdout"
        },
        {
          "output_type": "display_data",
          "data": {
            "image/png": "[encoded data removed]",
            "text/plain": [
              "<PIL.Image.Image image mode=L size=48x48 at 0x7FB8A3435D68>"
            ]
          },
          "metadata": {
            "tags": []
          }
        },
        {
          "output_type": "stream",
          "text": [
            "(48, 48)\n",
            "Happy\n",
            "[[368  91 138 138]]\n",
            "[[ 68  66  65 ... 120 122 110]\n",
            " [ 71  71  64 ... 103 128 114]\n",
            " [ 80  75  70 ...  77 124 123]\n",
            " ...\n",
            " [231 230 231 ... 138 162 234]\n",
            " [231 231 232 ... 150 192 242]\n",
            " [231 231 232 ... 166 220 244]]\n",
            "/n/n/n/n/n/n/n\n"
          ],
          "name": "stdout"
        },
        {
          "output_type": "display_data",
          "data": {
            "image/png": "[encoded data removed]",
            "text/plain": [
              "<PIL.Image.Image image mode=L size=48x48 at 0x7FB89AE39D30>"
            ]
          },
          "metadata": {
            "tags": []
          }
        },
        {
          "output_type": "stream",
          "text": [
            "(48, 48)\n",
            "Happy\n",
            "[[368  91 139 139]]\n",
            "[[ 68  67  66 ... 122 118 113]\n",
            " [ 70  74  71 ... 113 128 104]\n",
            " [ 78  81  75 ...  92 128 116]\n",
            " ...\n",
            " [231 231 232 ... 157 208 246]\n",
            " [230 231 232 ... 179 230 245]\n",
            " [230 233 232 ... 203 240 247]]\n",
            "/n/n/n/n/n/n/n\n"
          ],
          "name": "stdout"
        },
        {
          "output_type": "display_data",
          "data": {
            "image/png": "[encoded data removed]",
            "text/plain": [
              "<PIL.Image.Image image mode=L size=48x48 at 0x7FB89AE39D30>"
            ]
          },
          "metadata": {
            "tags": []
          }
        },
        {
          "output_type": "stream",
          "text": [
            "(48, 48)\n",
            "Happy\n",
            "[[371  89 141 141]]\n",
            "[[ 89  89  85 ...  17  49  68]\n",
            " [ 80  73  64 ...   9  32  60]\n",
            " [ 58  61  59 ...  10  22  53]\n",
            " ...\n",
            " [231 232 234 ... 237 243 244]\n",
            " [231 232 232 ... 243 251 250]\n",
            " [233 232 234 ... 244 249 250]]\n",
            "/n/n/n/n/n/n/n\n"
          ],
          "name": "stdout"
        },
        {
          "output_type": "display_data",
          "data": {
            "image/png": "[encoded data removed]",
            "text/plain": [
              "<PIL.Image.Image image mode=L size=48x48 at 0x7FB88D3D34E0>"
            ]
          },
          "metadata": {
            "tags": []
          }
        },
        {
          "output_type": "stream",
          "text": [
            "(48, 48)\n",
            "Happy\n",
            "[[369  89 143 143]]\n",
            "[[ 73  77  85 ...  15  35  64]\n",
            " [ 77  78  81 ...  28  15  53]\n",
            " [ 70  70  61 ...  43   9  43]\n",
            " ...\n",
            " [230 231 233 ... 243 248 250]\n",
            " [230 231 233 ... 242 246 248]\n",
            " [230 230 233 ... 244 245 245]]\n",
            "/n/n/n/n/n/n/n\n"
          ],
          "name": "stdout"
        },
        {
          "output_type": "display_data",
          "data": {
            "image/png": "[encoded data removed]",
            "text/plain": [
              "<PIL.Image.Image image mode=L size=48x48 at 0x7FB89AB87D68>"
            ]
          },
          "metadata": {
            "tags": []
          }
        },
        {
          "output_type": "stream",
          "text": [
            "(48, 48)\n",
            "Happy\n",
            "[[371  91 141 141]]\n",
            "[[ 66  58  60 ...  81  10  21]\n",
            " [ 64  59  60 ...  86  24  16]\n",
            " [ 75  67  66 ...  99  40  16]\n",
            " ...\n",
            " [231 234 232 ... 243 243 249]\n",
            " [233 234 234 ... 244 243 247]\n",
            " [231 234 234 ... 244 244 244]]\n",
            "/n/n/n/n/n/n/n\n"
          ],
          "name": "stdout"
        },
        {
          "output_type": "display_data",
          "data": {
            "image/png": "[encoded data removed]",
            "text/plain": [
              "<PIL.Image.Image image mode=L size=48x48 at 0x7FB8A79E4550>"
            ]
          },
          "metadata": {
            "tags": []
          }
        },
        {
          "output_type": "stream",
          "text": [
            "(48, 48)\n",
            "Happy\n",
            "[[372  92 140 140]]\n",
            "[[ 66  61  61 ... 111  52  11]\n",
            " [ 79  71  68 ... 123  68  21]\n",
            " [ 89  85  80 ... 131  86  33]\n",
            " ...\n",
            " [234 234 232 ... 246 242 245]\n",
            " [234 234 235 ... 247 243 244]\n",
            " [234 234 234 ... 245 243 244]]\n",
            "/n/n/n/n/n/n/n\n"
          ],
          "name": "stdout"
        },
        {
          "output_type": "display_data",
          "data": {
            "image/png": "[encoded data removed]",
            "text/plain": [
              "<PIL.Image.Image image mode=L size=48x48 at 0x7FB89AD914A8>"
            ]
          },
          "metadata": {
            "tags": []
          }
        },
        {
          "output_type": "stream",
          "text": [
            "(48, 48)\n",
            "Happy\n",
            "[[367  90 146 146]]\n",
            "[[ 79  78  77 ...  39  22  52]\n",
            " [ 67  68  67 ...  51  23  36]\n",
            " [ 65  66  68 ...  81  15  20]\n",
            " ...\n",
            " [208 214 226 ... 247 247 245]\n",
            " [207 213 224 ... 248 246 244]\n",
            " [210 214 223 ... 246 244 243]]\n",
            "/n/n/n/n/n/n/n\n"
          ],
          "name": "stdout"
        },
        {
          "output_type": "display_data",
          "data": {
            "image/png": "[encoded data removed]",
            "text/plain": [
              "<PIL.Image.Image image mode=L size=48x48 at 0x7FB89AD914A8>"
            ]
          },
          "metadata": {
            "tags": []
          }
        },
        {
          "output_type": "stream",
          "text": [
            "(48, 48)\n",
            "Happy\n",
            "[[370  92 142 142]]\n",
            "[[ 68  67  65 ... 131  74  16]\n",
            " [ 82  82  79 ... 131  89  28]\n",
            " [ 89  93  90 ... 137 101  43]\n",
            " ...\n",
            " [227 230 234 ... 246 245 243]\n",
            " [228 230 231 ... 248 245 244]\n",
            " [227 229 231 ... 246 244 247]]\n",
            "/n/n/n/n/n/n/n\n"
          ],
          "name": "stdout"
        },
        {
          "output_type": "display_data",
          "data": {
            "image/png": "[encoded data removed]",
            "text/plain": [
              "<PIL.Image.Image image mode=L size=48x48 at 0x7FB8A795F320>"
            ]
          },
          "metadata": {
            "tags": []
          }
        },
        {
          "output_type": "stream",
          "text": [
            "(48, 48)\n",
            "Happy\n",
            "[[376  94 134 134]]\n",
            "[[ 78  79  79 ...  49 104 137]\n",
            " [ 86  88  87 ...  38  87 132]\n",
            " [ 89  89  92 ...  32  77 129]\n",
            " ...\n",
            " [232 232 234 ... 169 132 118]\n",
            " [232 234 234 ... 164 135 136]\n",
            " [234 234 234 ... 166 138 156]]\n",
            "/n/n/n/n/n/n/n\n"
          ],
          "name": "stdout"
        },
        {
          "output_type": "display_data",
          "data": {
            "image/png": "[encoded data removed]",
            "text/plain": [
              "<PIL.Image.Image image mode=L size=48x48 at 0x7FB89AD914A8>"
            ]
          },
          "metadata": {
            "tags": []
          }
        },
        {
          "output_type": "stream",
          "text": [
            "(48, 48)\n",
            "Happy\n",
            "[[376  94 137 137]]\n",
            "[[ 74  79  79 ... 130  77  26]\n",
            " [ 85  87  88 ... 137 100  44]\n",
            " [ 92  89  90 ... 136 100  51]\n",
            " ...\n",
            " [234 234 234 ... 191 246 248]\n",
            " [234 234 234 ... 217 246 246]\n",
            " [234 235 234 ... 241 244 244]]\n",
            "/n/n/n/n/n/n/n\n"
          ],
          "name": "stdout"
        },
        {
          "output_type": "display_data",
          "data": {
            "image/png": "[encoded data removed]",
            "text/plain": [
              "<PIL.Image.Image image mode=L size=48x48 at 0x7FB8A505E5F8>"
            ]
          },
          "metadata": {
            "tags": []
          }
        },
        {
          "output_type": "stream",
          "text": [
            "(48, 48)\n",
            "Happy\n",
            "[[377  94 136 136]]\n",
            "[[ 75  80  79 ... 132 123  72]\n",
            " [ 86  88  88 ... 124 133  95]\n",
            " [ 90  89  92 ... 118 129 102]\n",
            " ...\n",
            " [234 234 234 ... 137 177 241]\n",
            " [234 234 234 ... 133 204 252]\n",
            " [234 234 234 ... 161 225 248]]\n",
            "/n/n/n/n/n/n/n\n"
          ],
          "name": "stdout"
        },
        {
          "output_type": "display_data",
          "data": {
            "image/png": "[encoded data removed]",
            "text/plain": [
              "<PIL.Image.Image image mode=L size=48x48 at 0x7FB89ACFF860>"
            ]
          },
          "metadata": {
            "tags": []
          }
        },
        {
          "output_type": "stream",
          "text": [
            "(48, 48)\n",
            "Happy\n",
            "[[379  94 134 134]]\n",
            "[[ 80  80  86 ...  96 132 120]\n",
            " [ 88  88  92 ...  82 130 124]\n",
            " [ 89  93  94 ...  71 121 122]\n",
            " ...\n",
            " [234 234 234 ... 143 114 170]\n",
            " [234 234 234 ... 150 111 164]\n",
            " [234 234 234 ... 146 123 196]]\n",
            "/n/n/n/n/n/n/n\n"
          ],
          "name": "stdout"
        },
        {
          "output_type": "display_data",
          "data": {
            "image/png": "[encoded data removed]",
            "text/plain": [
              "<PIL.Image.Image image mode=L size=48x48 at 0x7FB89AB9BD30>"
            ]
          },
          "metadata": {
            "tags": []
          }
        },
        {
          "output_type": "stream",
          "text": [
            "(48, 48)\n",
            "Happy\n",
            "[[380  90 136 136]]\n",
            "[[ 58  58  67 ... 103  38  14]\n",
            " [ 60  63  65 ... 108  51  11]\n",
            " [ 67  68  68 ... 124  70  24]\n",
            " ...\n",
            " [234 234 234 ...  70  73  75]\n",
            " [234 234 234 ... 166 220 203]\n",
            " [234 234 234 ... 128 217 249]]\n",
            "/n/n/n/n/n/n/n\n"
          ],
          "name": "stdout"
        },
        {
          "output_type": "display_data",
          "data": {
            "image/png": "[encoded data removed]",
            "text/plain": [
              "<PIL.Image.Image image mode=L size=48x48 at 0x7FB89A4CE320>"
            ]
          },
          "metadata": {
            "tags": []
          }
        },
        {
          "output_type": "stream",
          "text": [
            "(48, 48)\n",
            "Happy\n",
            "[[381  89 136 136]]\n",
            "[[ 70  65  68 ... 103  35  26]\n",
            " [ 58  65  73 ... 103  40  12]\n",
            " [ 64  65  71 ... 113  56  15]\n",
            " ...\n",
            " [234 232 232 ...  43  46  39]\n",
            " [234 234 234 ... 103 119  75]\n",
            " [234 234 234 ... 172 217 187]]\n",
            "/n/n/n/n/n/n/n\n"
          ],
          "name": "stdout"
        },
        {
          "output_type": "display_data",
          "data": {
            "image/png": "[encoded data removed]",
            "text/plain": [
              "<PIL.Image.Image image mode=L size=48x48 at 0x7FB89ACFFEB8>"
            ]
          },
          "metadata": {
            "tags": []
          }
        },
        {
          "output_type": "stream",
          "text": [
            "(48, 48)\n",
            "Happy\n",
            "[[381  93 134 134]]\n",
            "[[ 78  79  82 ...  34  66 121]\n",
            " [ 85  87  89 ...  29  54 113]\n",
            " [ 88  93  94 ...  29  44  95]\n",
            " ...\n",
            " [234 234 234 ... 150 149 151]\n",
            " [232 234 234 ... 159 131 115]\n",
            " [234 234 234 ... 169 146 123]]\n",
            "/n/n/n/n/n/n/n\n"
          ],
          "name": "stdout"
        },
        {
          "output_type": "display_data",
          "data": {
            "image/png": "[encoded data removed]",
            "text/plain": [
              "<PIL.Image.Image image mode=L size=48x48 at 0x7FB8A7A7CCF8>"
            ]
          },
          "metadata": {
            "tags": []
          }
        },
        {
          "output_type": "stream",
          "text": [
            "(48, 48)\n",
            "Happy\n",
            "[[382  94 133 133]]\n",
            "[[ 88  90  89 ...  37  29  45]\n",
            " [ 90  94  94 ...  33  29  37]\n",
            " [ 90  93  92 ...  36  31  33]\n",
            " ...\n",
            " [234 234 234 ... 124 123 123]\n",
            " [232 234 234 ... 170 155 130]\n",
            " [234 234 234 ... 170 157 121]]\n",
            "/n/n/n/n/n/n/n\n"
          ],
          "name": "stdout"
        },
        {
          "output_type": "display_data",
          "data": {
            "image/png": "[encoded data removed]",
            "text/plain": [
              "<PIL.Image.Image image mode=L size=48x48 at 0x7FB8A7A7CCF8>"
            ]
          },
          "metadata": {
            "tags": []
          }
        },
        {
          "output_type": "stream",
          "text": [
            "(48, 48)\n",
            "Happy\n",
            "[[383  93 133 133]]\n",
            "[[ 78  80  79 ...  36  35  66]\n",
            " [ 87  89  88 ...  38  31  52]\n",
            " [ 90  94  94 ...  36  29  42]\n",
            " ...\n",
            " [234 232 235 ...  44  44  46]\n",
            " [234 234 235 ...  49  40  40]\n",
            " [234 234 234 ... 116 130 144]]\n",
            "/n/n/n/n/n/n/n\n"
          ],
          "name": "stdout"
        },
        {
          "output_type": "display_data",
          "data": {
            "image/png": "[encoded data removed]",
            "text/plain": [
              "<PIL.Image.Image image mode=L size=48x48 at 0x7FB8A795F828>"
            ]
          },
          "metadata": {
            "tags": []
          }
        },
        {
          "output_type": "stream",
          "text": [
            "(48, 48)\n",
            "Sad\n",
            "[[382  92 138 138]]\n",
            "[[ 68  64  63 ... 130 134 101]\n",
            " [ 74  71  70 ... 109 131 106]\n",
            " [ 80  78  77 ...  88 125 118]\n",
            " ...\n",
            " [232 234 234 ... 229 217  95]\n",
            " [234 234 234 ... 239 254 173]\n",
            " [234 234 234 ... 238 247 237]]\n",
            "/n/n/n/n/n/n/n\n"
          ],
          "name": "stdout"
        },
        {
          "output_type": "display_data",
          "data": {
            "image/png": "[encoded data removed]",
            "text/plain": [
              "<PIL.Image.Image image mode=L size=48x48 at 0x7FB88D3AF8D0>"
            ]
          },
          "metadata": {
            "tags": []
          }
        },
        {
          "output_type": "stream",
          "text": [
            "(48, 48)\n",
            "Sad\n",
            "[[382  94 136 136]]\n",
            "[[ 80  75  75 ...  33  48  93]\n",
            " [ 84  82  81 ...  37  37  69]\n",
            " [ 87  85  87 ...  40  32  52]\n",
            " ...\n",
            " [232 234 234 ... 129 150 177]\n",
            " [234 234 234 ... 137 158 230]\n",
            " [234 234 234 ... 116 151 239]]\n",
            "/n/n/n/n/n/n/n\n"
          ],
          "name": "stdout"
        },
        {
          "output_type": "display_data",
          "data": {
            "image/png": "[encoded data removed]",
            "text/plain": [
              "<PIL.Image.Image image mode=L size=48x48 at 0x7FB88CF51080>"
            ]
          },
          "metadata": {
            "tags": []
          }
        },
        {
          "output_type": "stream",
          "text": [
            "(48, 48)\n",
            "Happy\n",
            "[[383  94 137 137]]\n",
            "[[ 77  73  73 ... 102 134 134]\n",
            " [ 81  79  78 ...  74 117 136]\n",
            " [ 87  85  86 ...  53 100 135]\n",
            " ...\n",
            " [234 234 234 ... 207 199  94]\n",
            " [234 234 235 ... 219 249 165]\n",
            " [234 234 235 ... 222 254 233]]\n",
            "/n/n/n/n/n/n/n\n"
          ],
          "name": "stdout"
        },
        {
          "output_type": "display_data",
          "data": {
            "image/png": "[encoded data removed]",
            "text/plain": [
              "<PIL.Image.Image image mode=L size=48x48 at 0x7FB8A7A15828>"
            ]
          },
          "metadata": {
            "tags": []
          }
        },
        {
          "output_type": "stream",
          "text": [
            "(48, 48)\n",
            "Sad\n",
            "[[385  96 135 135]]\n",
            "[[ 82  84  85 ...  47  89 134]\n",
            " [ 88  88  88 ...  37  70 123]\n",
            " [ 90  88  87 ...  32  57 113]\n",
            " ...\n",
            " [234 233 235 ... 182 212 146]\n",
            " [234 233 233 ... 177 244 207]\n",
            " [235 235 234 ... 164 242 241]]\n",
            "/n/n/n/n/n/n/n\n"
          ],
          "name": "stdout"
        },
        {
          "output_type": "display_data",
          "data": {
            "image/png": "[encoded data removed]",
            "text/plain": [
              "<PIL.Image.Image image mode=L size=48x48 at 0x7FB8A7A15828>"
            ]
          },
          "metadata": {
            "tags": []
          }
        },
        {
          "output_type": "stream",
          "text": [
            "(48, 48)\n",
            "Happy\n",
            "[[385  97 134 134]]\n",
            "[[ 82  82  84 ...  37  37  70]\n",
            " [ 88  88  88 ...  39  32  57]\n",
            " [ 90  88  90 ...  39  30  50]\n",
            " ...\n",
            " [234 234 236 ... 101 107 118]\n",
            " [234 234 235 ... 152 167 217]\n",
            " [234 235 234 ... 121 129 219]]\n",
            "/n/n/n/n/n/n/n\n"
          ],
          "name": "stdout"
        },
        {
          "output_type": "display_data",
          "data": {
            "image/png": "[encoded data removed]",
            "text/plain": [
              "<PIL.Image.Image image mode=L size=48x48 at 0x7FB8A7A15828>"
            ]
          },
          "metadata": {
            "tags": []
          }
        },
        {
          "output_type": "stream",
          "text": [
            "(48, 48)\n",
            "Happy\n",
            "[[381  97 140 140]]\n",
            "[[ 89  89  86 ... 128 129 119]\n",
            " [ 93  90  88 ...  87 127 127]\n",
            " [ 96  93  90 ...  63 118 132]\n",
            " ...\n",
            " [234 234 235 ... 208 246 241]\n",
            " [234 235 235 ... 224 251 237]\n",
            " [235 235 235 ... 236 252 242]]\n",
            "/n/n/n/n/n/n/n\n"
          ],
          "name": "stdout"
        },
        {
          "output_type": "display_data",
          "data": {
            "image/png": "[encoded data removed]",
            "text/plain": [
              "<PIL.Image.Image image mode=L size=48x48 at 0x7FB8A7B179B0>"
            ]
          },
          "metadata": {
            "tags": []
          }
        },
        {
          "output_type": "stream",
          "text": [
            "(48, 48)\n",
            "Happy\n",
            "[[386  99 135 135]]\n",
            "[[ 80  82  82 ...  71 122 129]\n",
            " [ 87  92  93 ...  47  92 130]\n",
            " [ 99  96  97 ...  38  75 126]\n",
            " ...\n",
            " [234 235 236 ... 110 125 110]\n",
            " [234 234 235 ... 157 217 207]\n",
            " [235 234 233 ... 130 224 254]]\n",
            "/n/n/n/n/n/n/n\n"
          ],
          "name": "stdout"
        },
        {
          "output_type": "display_data",
          "data": {
            "image/png": "[encoded data removed]",
            "text/plain": [
              "<PIL.Image.Image image mode=L size=48x48 at 0x7FB89AD74EB8>"
            ]
          },
          "metadata": {
            "tags": []
          }
        },
        {
          "output_type": "stream",
          "text": [
            "(48, 48)\n",
            "Happy\n",
            "[[386 103 134 134]]\n",
            "[[116 116 122 ...  35  30  54]\n",
            " [129 128 124 ...  36  30  56]\n",
            " [139 141 127 ...  37  30  46]\n",
            " ...\n",
            " [235 235 233 ... 131 121 199]\n",
            " [235 235 234 ... 121 116 191]\n",
            " [235 235 235 ... 138 152 217]]\n",
            "/n/n/n/n/n/n/n\n"
          ],
          "name": "stdout"
        },
        {
          "output_type": "display_data",
          "data": {
            "image/png": "[encoded data removed]",
            "text/plain": [
              "<PIL.Image.Image image mode=L size=48x48 at 0x7FB8A7A64CC0>"
            ]
          },
          "metadata": {
            "tags": []
          }
        },
        {
          "output_type": "stream",
          "text": [
            "(48, 48)\n",
            "Happy\n",
            "[[384 104 134 134]]\n",
            "[[ 93 104 118 ...  40  40  33]\n",
            " [104 130 131 ...  40  42  39]\n",
            " [149 151 136 ...  41  44  42]\n",
            " ...\n",
            " [234 234 235 ... 165 159 149]\n",
            " [235 235 235 ... 168 170 134]\n",
            " [235 235 235 ... 172 166 137]]\n",
            "/n/n/n/n/n/n/n\n"
          ],
          "name": "stdout"
        },
        {
          "output_type": "display_data",
          "data": {
            "image/png": "[encoded data removed]",
            "text/plain": [
              "<PIL.Image.Image image mode=L size=48x48 at 0x7FB8AC4D5E48>"
            ]
          },
          "metadata": {
            "tags": []
          }
        },
        {
          "output_type": "stream",
          "text": [
            "(48, 48)\n",
            "Happy\n",
            "[[387 106 131 131]]\n",
            "[[122 143 144 ...  42  40  39]\n",
            " [136 153 138 ...  40  42  43]\n",
            " [150 136 116 ...  41  42  45]\n",
            " ...\n",
            " [236 237 235 ...  59  60  68]\n",
            " [235 237 237 ... 109  94 109]\n",
            " [234 236 237 ... 159 150 151]]\n",
            "/n/n/n/n/n/n/n\n"
          ],
          "name": "stdout"
        },
        {
          "output_type": "display_data",
          "data": {
            "image/png": "[encoded data removed]",
            "text/plain": [
              "<PIL.Image.Image image mode=L size=48x48 at 0x7FB89AD74240>"
            ]
          },
          "metadata": {
            "tags": []
          }
        },
        {
          "output_type": "stream",
          "text": [
            "(48, 48)\n",
            "Sad\n",
            "[[388 108 133 133]]\n",
            "[[129 150 149 ...  40  32  30]\n",
            " [143 149 124 ...  44  37  29]\n",
            " [148 130 115 ...  45  36  31]\n",
            " ...\n",
            " [234 235 237 ... 149 144 188]\n",
            " [234 235 235 ... 139 116 172]\n",
            " [235 235 235 ... 134 117 170]]\n",
            "/n/n/n/n/n/n/n\n"
          ],
          "name": "stdout"
        },
        {
          "output_type": "display_data",
          "data": {
            "image/png": "[encoded data removed]",
            "text/plain": [
              "<PIL.Image.Image image mode=L size=48x48 at 0x7FB89AD74240>"
            ]
          },
          "metadata": {
            "tags": []
          }
        },
        {
          "output_type": "stream",
          "text": [
            "(48, 48)\n",
            "Happy\n",
            "[[387 111 133 133]]\n",
            "[[173 145 148 ...  40  45  43]\n",
            " [159 148 138 ...  40  45  42]\n",
            " [162 146 118 ...  39  43  42]\n",
            " ...\n",
            " [234 235 235 ... 174 159 120]\n",
            " [235 235 235 ... 172 153 117]\n",
            " [235 235 236 ... 174 156 137]]\n",
            "/n/n/n/n/n/n/n\n"
          ],
          "name": "stdout"
        },
        {
          "output_type": "display_data",
          "data": {
            "image/png": "[encoded data removed]",
            "text/plain": [
              "<PIL.Image.Image image mode=L size=48x48 at 0x7FB89AD74240>"
            ]
          },
          "metadata": {
            "tags": []
          }
        },
        {
          "output_type": "stream",
          "text": [
            "(48, 48)\n",
            "Happy\n",
            "[[389 111 133 133]]\n",
            "[[136 150 138 ...  42  32  30]\n",
            " [143 146 122 ...  46  37  29]\n",
            " [146 130 114 ...  46  37  30]\n",
            " ...\n",
            " [235 235 235 ... 145 139 185]\n",
            " [235 235 235 ... 145 109 155]\n",
            " [235 235 236 ... 132 113 165]]\n",
            "/n/n/n/n/n/n/n\n"
          ],
          "name": "stdout"
        },
        {
          "output_type": "display_data",
          "data": {
            "image/png": "[encoded data removed]",
            "text/plain": [
              "<PIL.Image.Image image mode=L size=48x48 at 0x7FB88CF28240>"
            ]
          },
          "metadata": {
            "tags": []
          }
        },
        {
          "output_type": "stream",
          "text": [
            "(48, 48)\n",
            "Happy\n",
            "[[389 111 132 132]]\n",
            "[[145 131 149 ...  42  42  35]\n",
            " [148 141 151 ...  42  43  39]\n",
            " [150 146 138 ...  42  45  44]\n",
            " ...\n",
            " [234 235 238 ...  59  68  73]\n",
            " [235 235 236 ...  97 102 117]\n",
            " [235 235 235 ... 144 146 138]]\n",
            "/n/n/n/n/n/n/n\n"
          ],
          "name": "stdout"
        },
        {
          "output_type": "display_data",
          "data": {
            "image/png": "[encoded data removed]",
            "text/plain": [
              "<PIL.Image.Image image mode=L size=48x48 at 0x7FB8A7B2D080>"
            ]
          },
          "metadata": {
            "tags": []
          }
        },
        {
          "output_type": "stream",
          "text": [
            "(48, 48)\n",
            "Sad\n",
            "[[391 114 130 130]]\n",
            "[[146 131 118 ...  43  43  46]\n",
            " [137 117 138 ...  42  42  46]\n",
            " [120 124 158 ...  40  42  45]\n",
            " ...\n",
            " [236 238 236 ...  53  59  70]\n",
            " [236 236 237 ...  96  87  94]\n",
            " [235 235 236 ... 147 135 135]]\n",
            "/n/n/n/n/n/n/n\n"
          ],
          "name": "stdout"
        },
        {
          "output_type": "display_data",
          "data": {
            "image/png": "[encoded data removed]",
            "text/plain": [
              "<PIL.Image.Image image mode=L size=48x48 at 0x7FB8A79DF780>"
            ]
          },
          "metadata": {
            "tags": []
          }
        },
        {
          "output_type": "stream",
          "text": [
            "(48, 48)\n",
            "Happy\n",
            "[[390 113 136 136]]\n",
            "[[115 125 144 ...  30  38  72]\n",
            " [127 156 149 ...  35  29  52]\n",
            " [149 171 152 ...  39  29  40]\n",
            " ...\n",
            " [235 236 236 ... 117 166 243]\n",
            " [236 236 236 ... 113 158 233]\n",
            " [236 236 236 ... 137 188 234]]\n",
            "/n/n/n/n/n/n/n\n"
          ],
          "name": "stdout"
        },
        {
          "output_type": "display_data",
          "data": {
            "image/png": "[encoded data removed]",
            "text/plain": [
              "<PIL.Image.Image image mode=L size=48x48 at 0x7FB89B0A3978>"
            ]
          },
          "metadata": {
            "tags": []
          }
        },
        {
          "output_type": "stream",
          "text": [
            "(48, 48)\n",
            "Happy\n",
            "[[391 114 135 135]]\n",
            "[[122 143 153 ...  42  33  31]\n",
            " [135 166 158 ...  44  38  29]\n",
            " [153 173 157 ...  45  43  32]\n",
            " ...\n",
            " [235 236 235 ... 129 122 187]\n",
            " [236 236 236 ... 129 108 181]\n",
            " [236 236 237 ... 130 123 185]]\n",
            "/n/n/n/n/n/n/n\n"
          ],
          "name": "stdout"
        },
        {
          "output_type": "display_data",
          "data": {
            "image/png": "[encoded data removed]",
            "text/plain": [
              "<PIL.Image.Image image mode=L size=48x48 at 0x7FB89B0A3978>"
            ]
          },
          "metadata": {
            "tags": []
          }
        },
        {
          "output_type": "stream",
          "text": [
            "(48, 48)\n",
            "Happy\n",
            "()\n",
            "()\n",
            "()\n",
            "()\n",
            "()\n",
            "()\n",
            "()\n",
            "()\n",
            "()\n",
            "()\n",
            "()\n",
            "()\n",
            "()\n",
            "()\n",
            "()\n",
            "()\n",
            "()\n",
            "()\n",
            "()\n",
            "()\n",
            "()\n",
            "()\n",
            "()\n",
            "()\n",
            "()\n",
            "()\n",
            "()\n",
            "()\n",
            "()\n",
            "()\n",
            "()\n",
            "()\n",
            "()\n",
            "()\n",
            "()\n",
            "()\n",
            "()\n",
            "()\n",
            "()\n",
            "()\n",
            "()\n",
            "()\n",
            "()\n",
            "[[302 139  51  51]]\n",
            "[[ 86 114 111 ...  71  91 178]\n",
            " [136 126 145 ...  64  72 129]\n",
            " [104  60  79 ...  58  60  75]\n",
            " ...\n",
            " [ 40  41  38 ...  40  44  69]\n",
            " [ 43  45  41 ...  43  48 118]\n",
            " [ 47  51  51 ...  45  53 111]]\n",
            "/n/n/n/n/n/n/n\n"
          ],
          "name": "stdout"
        },
        {
          "output_type": "display_data",
          "data": {
            "image/png": "[encoded data removed]",
            "text/plain": [
              "<PIL.Image.Image image mode=L size=48x48 at 0x7FB89A506F98>"
            ]
          },
          "metadata": {
            "tags": []
          }
        },
        {
          "output_type": "stream",
          "text": [
            "(48, 48)\n",
            "Happy\n",
            "()\n",
            "[[300 145  52  52]]\n",
            "[[129 150 130 ...  46  47  48]\n",
            " [ 93  93  88 ...  45  46  48]\n",
            " [ 29  30  32 ...  44  47  50]\n",
            " ...\n",
            " [ 86  79  72 ...  34  37  38]\n",
            " [109 133 126 ...  34  36  37]\n",
            " [146 171 165 ...  34  36  37]]\n",
            "/n/n/n/n/n/n/n\n"
          ],
          "name": "stdout"
        },
        {
          "output_type": "display_data",
          "data": {
            "image/png": "[encoded data removed]",
            "text/plain": [
              "<PIL.Image.Image image mode=L size=48x48 at 0x7FB89A4CEB00>"
            ]
          },
          "metadata": {
            "tags": []
          }
        },
        {
          "output_type": "stream",
          "text": [
            "(48, 48)\n",
            "Happy\n",
            "[[299 149  52  52]]\n",
            "[[ 71  74  73 ...  41  41  44]\n",
            " [ 26  27  30 ...  40  41  44]\n",
            " [ 33  33  33 ...  39  41  44]\n",
            " ...\n",
            " [110 160 137 ...  34  33  33]\n",
            " [125 115 129 ...  34  34  32]\n",
            " [117 116 137 ...  34  33  32]]\n",
            "/n/n/n/n/n/n/n\n"
          ],
          "name": "stdout"
        },
        {
          "output_type": "display_data",
          "data": {
            "image/png": "[encoded data removed]",
            "text/plain": [
              "<PIL.Image.Image image mode=L size=48x48 at 0x7FB89A3825C0>"
            ]
          },
          "metadata": {
            "tags": []
          }
        },
        {
          "output_type": "stream",
          "text": [
            "(48, 48)\n",
            "Happy\n",
            "[[297 151  52  52]]\n",
            "[[ 54  58  61 ...  39  39  39]\n",
            " [ 37  37  34 ...  38  38  38]\n",
            " [ 36  33  32 ...  38  37  36]\n",
            " ...\n",
            " [100  90  93 ...  36  34  33]\n",
            " [ 78  66  72 ...  36  34  32]\n",
            " [ 72  62  55 ...  36  32  30]]\n",
            "/n/n/n/n/n/n/n\n"
          ],
          "name": "stdout"
        },
        {
          "output_type": "display_data",
          "data": {
            "image/png": "[encoded data removed]",
            "text/plain": [
              "<PIL.Image.Image image mode=L size=48x48 at 0x7FB8A792CDA0>"
            ]
          },
          "metadata": {
            "tags": []
          }
        },
        {
          "output_type": "stream",
          "text": [
            "(48, 48)\n",
            "Happy\n",
            "()\n",
            "()\n",
            "()\n",
            "()\n",
            "()\n",
            "()\n",
            "()\n",
            "()\n",
            "()\n",
            "()\n",
            "()\n",
            "()\n",
            "()\n",
            "()\n",
            "()\n",
            "()\n",
            "()\n",
            "()\n",
            "()\n",
            "()\n",
            "()\n",
            "()\n",
            "()\n",
            "()\n",
            "()\n",
            "()\n",
            "()\n",
            "()\n",
            "()\n",
            "()\n",
            "()\n",
            "()\n",
            "()\n",
            "()\n",
            "()\n",
            "()\n",
            "()\n",
            "()\n",
            "()\n",
            "()\n",
            "()\n",
            "()\n",
            "()\n",
            "()\n",
            "()\n",
            "()\n",
            "()\n",
            "()\n",
            "()\n",
            "()\n",
            "()\n",
            "()\n",
            "()\n",
            "()\n",
            "()\n",
            "()\n",
            "()\n",
            "()\n",
            "()\n",
            "()\n",
            "()\n",
            "()\n",
            "()\n",
            "()\n",
            "()\n",
            "()\n",
            "()\n",
            "()\n",
            "()\n",
            "()\n",
            "()\n",
            "()\n",
            "()\n",
            "()\n",
            "()\n",
            "()\n",
            "()\n",
            "()\n",
            "()\n",
            "()\n",
            "()\n",
            "()\n",
            "()\n",
            "()\n",
            "()\n",
            "()\n",
            "()\n",
            "()\n",
            "[[229 117  63  63]]\n",
            "[[ 11  11  11 ...  59  56  53]\n",
            " [ 11  11  11 ...  52  51  52]\n",
            " [ 11  11  11 ...  51  51  52]\n",
            " ...\n",
            " [  7   7   7 ... 138 139 135]\n",
            " [  7   7   7 ... 139 143 139]\n",
            " [  7   7   7 ... 142 144 141]]\n",
            "/n/n/n/n/n/n/n\n"
          ],
          "name": "stdout"
        },
        {
          "output_type": "display_data",
          "data": {
            "image/png": "[encoded data removed]",
            "text/plain": [
              "<PIL.Image.Image image mode=L size=48x48 at 0x7FB89A52A7F0>"
            ]
          },
          "metadata": {
            "tags": []
          }
        },
        {
          "output_type": "stream",
          "text": [
            "(48, 48)\n",
            "Happy\n",
            "()\n",
            "()\n",
            "()\n",
            "()\n",
            "()\n",
            "()\n",
            "()\n",
            "()\n",
            "()\n",
            "()\n",
            "()\n",
            "[[190  96 138 138]]\n",
            "[[10 11 10 ...  4  4  4]\n",
            " [10 11 10 ...  4  4  4]\n",
            " [ 9 10 10 ...  5  4  4]\n",
            " ...\n",
            " [ 8  7  7 ...  7  7  7]\n",
            " [ 7  7  7 ...  6  6  6]\n",
            " [ 7  7  7 ...  6  6  6]]\n",
            "/n/n/n/n/n/n/n\n"
          ],
          "name": "stdout"
        },
        {
          "output_type": "display_data",
          "data": {
            "image/png": "[encoded data removed]",
            "text/plain": [
              "<PIL.Image.Image image mode=L size=48x48 at 0x7FB89A60E128>"
            ]
          },
          "metadata": {
            "tags": []
          }
        },
        {
          "output_type": "stream",
          "text": [
            "(48, 48)\n",
            "Angry \n",
            "()\n",
            "()\n",
            "()\n",
            "()\n",
            "()\n",
            "()\n",
            "()\n",
            "()\n",
            "()\n",
            "()\n",
            "()\n",
            "()\n",
            "()\n",
            "()\n",
            "()\n",
            "()\n",
            "()\n",
            "()\n",
            "()\n",
            "()\n",
            "()\n",
            "()\n",
            "()\n",
            "()\n",
            "()\n",
            "()\n",
            "()\n",
            "()\n",
            "()\n",
            "()\n",
            "()\n",
            "()\n",
            "()\n",
            "()\n",
            "()\n",
            "()\n",
            "()\n",
            "()\n",
            "()\n",
            "()\n",
            "()\n",
            "()\n",
            "()\n",
            "()\n",
            "()\n",
            "()\n",
            "()\n",
            "()\n",
            "()\n",
            "()\n",
            "()\n",
            "()\n",
            "()\n",
            "()\n",
            "()\n",
            "()\n",
            "()\n",
            "()\n",
            "()\n",
            "()\n",
            "()\n",
            "()\n",
            "()\n",
            "()\n",
            "()\n",
            "()\n",
            "()\n",
            "()\n",
            "()\n",
            "()\n",
            "()\n",
            "()\n",
            "()\n",
            "()\n",
            "()\n",
            "()\n",
            "()\n",
            "()\n",
            "()\n",
            "()\n",
            "()\n",
            "()\n",
            "()\n",
            "()\n",
            "()\n",
            "()\n",
            "()\n",
            "()\n",
            "()\n",
            "()\n",
            "()\n",
            "()\n",
            "()\n",
            "()\n",
            "()\n",
            "()\n",
            "()\n",
            "()\n",
            "()\n",
            "()\n",
            "()\n",
            "()\n",
            "()\n",
            "()\n",
            "()\n",
            "()\n",
            "()\n",
            "()\n",
            "()\n",
            "()\n",
            "()\n",
            "()\n",
            "()\n",
            "()\n",
            "()\n",
            "()\n",
            "()\n",
            "()\n",
            "()\n",
            "()\n",
            "()\n",
            "()\n",
            "()\n",
            "()\n",
            "()\n",
            "()\n",
            "()\n",
            "()\n",
            "()\n",
            "()\n",
            "()\n",
            "()\n",
            "()\n",
            "()\n",
            "()\n",
            "()\n",
            "()\n",
            "()\n",
            "()\n",
            "()\n",
            "()\n",
            "()\n",
            "()\n",
            "()\n",
            "()\n",
            "()\n",
            "()\n",
            "()\n",
            "()\n",
            "()\n",
            "()\n",
            "()\n",
            "()\n",
            "()\n",
            "()\n",
            "()\n",
            "[[210  56  51  51]]\n",
            "[[ 60  44  28 ... 161 156 153]\n",
            " [ 53  36  16 ... 161 156 153]\n",
            " [ 47  28   8 ... 161 156 152]\n",
            " ...\n",
            " [ 73  64  31 ...  79  81  87]\n",
            " [ 70  59  31 ...  44  45  45]\n",
            " [ 65  54  31 ...  44  46  57]]\n",
            "/n/n/n/n/n/n/n\n"
          ],
          "name": "stdout"
        },
        {
          "output_type": "display_data",
          "data": {
            "image/png": "[encoded data removed]",
            "text/plain": [
              "<PIL.Image.Image image mode=L size=48x48 at 0x7FB8A79CC8D0>"
            ]
          },
          "metadata": {
            "tags": []
          }
        },
        {
          "output_type": "stream",
          "text": [
            "(48, 48)\n",
            "Sad\n",
            "[[205  56  52  52]]\n",
            "[[158  74  11 ... 159 162 163]\n",
            " [121  49  11 ... 159 162 163]\n",
            " [ 74  15  11 ... 159 162 162]\n",
            " ...\n",
            " [ 87  82  67 ...  82  88  97]\n",
            " [ 99  95  84 ...  63  71  87]\n",
            " [103 101  90 ...  57  65  80]]\n",
            "/n/n/n/n/n/n/n\n"
          ],
          "name": "stdout"
        },
        {
          "output_type": "display_data",
          "data": {
            "image/png": "[encoded data removed]",
            "text/plain": [
              "<PIL.Image.Image image mode=L size=48x48 at 0x7FB899AECE80>"
            ]
          },
          "metadata": {
            "tags": []
          }
        },
        {
          "output_type": "stream",
          "text": [
            "(48, 48)\n",
            "Sad\n",
            "[[203  55  51  51]]\n",
            "[[ 89  26  10 ... 163 162 160]\n",
            " [ 47   8  10 ... 163 162 160]\n",
            " [ 26   5   6 ... 163 162 162]\n",
            " ...\n",
            " [ 95  94  86 ... 146 146 148]\n",
            " [ 58  65  70 ... 142 141 142]\n",
            " [ 67  65  58 ... 136 137 138]]\n",
            "/n/n/n/n/n/n/n\n"
          ],
          "name": "stdout"
        },
        {
          "output_type": "display_data",
          "data": {
            "image/png": "[encoded data removed]",
            "text/plain": [
              "<PIL.Image.Image image mode=L size=48x48 at 0x7FB8A7AF0128>"
            ]
          },
          "metadata": {
            "tags": []
          }
        },
        {
          "output_type": "stream",
          "text": [
            "(48, 48)\n",
            "Sad\n",
            "[[203  51  52  52]]\n",
            "[[152  30  15 ... 157 152 145]\n",
            " [ 65   6   5 ... 157 152 145]\n",
            " [ 30   4   4 ... 157 152 145]\n",
            " ...\n",
            " [ 56  53  37 ... 150 144 139]\n",
            " [ 56  47  31 ... 150 143 139]\n",
            " [ 54  42  24 ... 149 143 139]]\n",
            "/n/n/n/n/n/n/n\n"
          ],
          "name": "stdout"
        },
        {
          "output_type": "display_data",
          "data": {
            "image/png": "[encoded data removed]",
            "text/plain": [
              "<PIL.Image.Image image mode=L size=48x48 at 0x7FB89A4E09E8>"
            ]
          },
          "metadata": {
            "tags": []
          }
        },
        {
          "output_type": "stream",
          "text": [
            "(48, 48)\n",
            "Sad\n",
            "[[201  49  54  54]]\n",
            "[[ 25   4   4 ... 170 169 169]\n",
            " [  5   4   4 ... 170 170 170]\n",
            " [  2   4   4 ... 170 170 170]\n",
            " ...\n",
            " [ 60  43  24 ... 167 167 166]\n",
            " [ 65  47  30 ... 166 166 165]\n",
            " [ 74  58  40 ... 163 163 163]]\n",
            "/n/n/n/n/n/n/n\n"
          ],
          "name": "stdout"
        },
        {
          "output_type": "display_data",
          "data": {
            "image/png": "[encoded data removed]",
            "text/plain": [
              "<PIL.Image.Image image mode=L size=48x48 at 0x7FB8A7900E10>"
            ]
          },
          "metadata": {
            "tags": []
          }
        },
        {
          "output_type": "stream",
          "text": [
            "(48, 48)\n",
            "Happy\n",
            "[[203  46  52  52]]\n",
            "[[  5   4   4 ... 167 166 164]\n",
            " [  5   4   4 ... 166 166 164]\n",
            " [  3   2   3 ... 165 163 157]\n",
            " ...\n",
            " [ 18   5   5 ... 167 165 163]\n",
            " [  9   5   5 ... 169 167 164]\n",
            " [  6   5   5 ... 167 166 164]]\n",
            "/n/n/n/n/n/n/n\n"
          ],
          "name": "stdout"
        },
        {
          "output_type": "display_data",
          "data": {
            "image/png": "[encoded data removed]",
            "text/plain": [
              "<PIL.Image.Image image mode=L size=48x48 at 0x7FB8A7900E10>"
            ]
          },
          "metadata": {
            "tags": []
          }
        },
        {
          "output_type": "stream",
          "text": [
            "(48, 48)\n",
            "Happy\n",
            "[[202  44  56  56]]\n",
            "[[  4   4   1 ...  77  77  77]\n",
            " [  3   4   2 ...  77  77  75]\n",
            " [  3   3   1 ...  79  77  74]\n",
            " ...\n",
            " [159 151  75 ...  61  61  63]\n",
            " [159 155 121 ...  59  59  60]\n",
            " [162 158 146 ...  58  59  59]]\n",
            "/n/n/n/n/n/n/n\n"
          ],
          "name": "stdout"
        },
        {
          "output_type": "display_data",
          "data": {
            "image/png": "[encoded data removed]",
            "text/plain": [
              "<PIL.Image.Image image mode=L size=48x48 at 0x7FB89B0B4320>"
            ]
          },
          "metadata": {
            "tags": []
          }
        },
        {
          "output_type": "stream",
          "text": [
            "(48, 48)\n",
            "Sad\n",
            "[[207  41  59  59]]\n",
            "[[  5   4   4 ...  84  93 110]\n",
            " [  6   4   3 ...  81  89 104]\n",
            " [  5   4   3 ...  77  85  96]\n",
            " ...\n",
            " [156 137 100 ...  92  95 103]\n",
            " [158 151 136 ...  93  96 101]\n",
            " [149 142 131 ...  90  99 101]]\n",
            "/n/n/n/n/n/n/n\n"
          ],
          "name": "stdout"
        },
        {
          "output_type": "display_data",
          "data": {
            "image/png": "[encoded data removed]",
            "text/plain": [
              "<PIL.Image.Image image mode=L size=48x48 at 0x7FB8A79B7048>"
            ]
          },
          "metadata": {
            "tags": []
          }
        },
        {
          "output_type": "stream",
          "text": [
            "(48, 48)\n",
            "Sad\n",
            "[[217  41  56  56]]\n",
            "[[  2   3   3 ...  85  87 113]\n",
            " [  2   3   3 ...  88  90 114]\n",
            " [  3   3   3 ...  90  93 114]\n",
            " ...\n",
            " [  5   6  10 ... 111 116 124]\n",
            " [  5   6   9 ... 124 129 136]\n",
            " [  6   6   9 ... 113 115 114]]\n",
            "/n/n/n/n/n/n/n\n"
          ],
          "name": "stdout"
        },
        {
          "output_type": "display_data",
          "data": {
            "image/png": "[encoded data removed]",
            "text/plain": [
              "<PIL.Image.Image image mode=L size=48x48 at 0x7FB8A7AADF60>"
            ]
          },
          "metadata": {
            "tags": []
          }
        },
        {
          "output_type": "stream",
          "text": [
            "(48, 48)\n",
            "Happy\n",
            "[[225  39  58  58]]\n",
            "[[  2   2   3 ... 152 152 153]\n",
            " [  2   2   2 ... 153 153 153]\n",
            " [  3   2   2 ... 153 154 154]\n",
            " ...\n",
            " [  6   7  10 ... 124 122 118]\n",
            " [  6   7   9 ... 112 110 108]\n",
            " [  6   8  11 ... 111 109 107]]\n",
            "/n/n/n/n/n/n/n\n"
          ],
          "name": "stdout"
        },
        {
          "output_type": "display_data",
          "data": {
            "image/png": "[encoded data removed]",
            "text/plain": [
              "<PIL.Image.Image image mode=L size=48x48 at 0x7FB8A79DFAC8>"
            ]
          },
          "metadata": {
            "tags": []
          }
        },
        {
          "output_type": "stream",
          "text": [
            "(48, 48)\n",
            "Happy\n",
            "[[235  38  57  57]]\n",
            "[[  3   3   4 ... 156 157 158]\n",
            " [  3   3   3 ... 156 157 159]\n",
            " [  2   4   4 ... 157 157 158]\n",
            " ...\n",
            " [  9  10  10 ... 136 143 144]\n",
            " [  8  10  10 ... 134 139 144]\n",
            " [  9  10  10 ... 134 138 142]]\n",
            "/n/n/n/n/n/n/n\n"
          ],
          "name": "stdout"
        },
        {
          "output_type": "display_data",
          "data": {
            "image/png": "[encoded data removed]",
            "text/plain": [
              "<PIL.Image.Image image mode=L size=48x48 at 0x7FB8A79DFAC8>"
            ]
          },
          "metadata": {
            "tags": []
          }
        },
        {
          "output_type": "stream",
          "text": [
            "(48, 48)\n",
            "Happy\n",
            "[[244  35  59  59]]\n",
            "[[  3   3   3 ... 128 131 135]\n",
            " [  2   2   3 ... 128 131 135]\n",
            " [  2   2   4 ... 129 133 136]\n",
            " ...\n",
            " [ 10  10  10 ... 127 134 137]\n",
            " [ 10  10  10 ... 127 134 137]\n",
            " [ 10  10  10 ... 127 134 137]]\n",
            "/n/n/n/n/n/n/n\n"
          ],
          "name": "stdout"
        },
        {
          "output_type": "display_data",
          "data": {
            "image/png": "[encoded data removed]",
            "text/plain": [
              "<PIL.Image.Image image mode=L size=48x48 at 0x7FB8A7A9FB00>"
            ]
          },
          "metadata": {
            "tags": []
          }
        },
        {
          "output_type": "stream",
          "text": [
            "(48, 48)\n",
            "Happy\n",
            "[[254  31  60  60]]\n",
            "[[  4   4   4 ... 144 144 144]\n",
            " [  4   4   4 ... 144 145 145]\n",
            " [  3   3   3 ... 144 144 144]\n",
            " ...\n",
            " [ 10  10  11 ... 146 148 148]\n",
            " [ 10  10  12 ... 146 146 146]\n",
            " [ 10  11  12 ... 146 146 146]]\n",
            "/n/n/n/n/n/n/n\n"
          ],
          "name": "stdout"
        },
        {
          "output_type": "display_data",
          "data": {
            "image/png": "[encoded data removed]",
            "text/plain": [
              "<PIL.Image.Image image mode=L size=48x48 at 0x7FB8A7A9FB00>"
            ]
          },
          "metadata": {
            "tags": []
          }
        },
        {
          "output_type": "stream",
          "text": [
            "(48, 48)\n",
            "Happy\n",
            "[[261  27  62  62]]\n",
            "[[  3   4   4 ... 139 139 139]\n",
            " [  2   3   3 ... 142 142 142]\n",
            " [  2   3   3 ... 142 142 142]\n",
            " ...\n",
            " [ 10  11  12 ... 144 143 143]\n",
            " [ 11  12  12 ... 143 143 143]\n",
            " [ 11  11  12 ... 143 143 143]]\n",
            "/n/n/n/n/n/n/n\n"
          ],
          "name": "stdout"
        },
        {
          "output_type": "display_data",
          "data": {
            "image/png": "[encoded data removed]",
            "text/plain": [
              "<PIL.Image.Image image mode=L size=48x48 at 0x7FB8A7AE6128>"
            ]
          },
          "metadata": {
            "tags": []
          }
        },
        {
          "output_type": "stream",
          "text": [
            "(48, 48)\n",
            "Happy\n",
            "[[264  27  62  62]]\n",
            "[[ 3  3  3 ... 71 71 71]\n",
            " [ 3  3  3 ... 75 75 74]\n",
            " [ 3  3  3 ... 79 78 77]\n",
            " ...\n",
            " [ 9  9 12 ... 54 54 54]\n",
            " [10 10 12 ... 52 52 52]\n",
            " [11 11 12 ... 51 51 51]]\n",
            "/n/n/n/n/n/n/n\n"
          ],
          "name": "stdout"
        },
        {
          "output_type": "display_data",
          "data": {
            "image/png": "[encoded data removed]",
            "text/plain": [
              "<PIL.Image.Image image mode=L size=48x48 at 0x7FB8A7AE6128>"
            ]
          },
          "metadata": {
            "tags": []
          }
        },
        {
          "output_type": "stream",
          "text": [
            "(48, 48)\n",
            "Angry \n",
            "[[271  30  59  59]]\n",
            "[[ 3  3  3 ... 88 88 87]\n",
            " [ 3  3  3 ... 87 86 85]\n",
            " [ 2  3  3 ... 87 87 86]\n",
            " ...\n",
            " [14 17 17 ... 66 64 63]\n",
            " [15 16 17 ... 66 64 61]\n",
            " [15 16 16 ... 67 65 63]]\n",
            "/n/n/n/n/n/n/n\n"
          ],
          "name": "stdout"
        },
        {
          "output_type": "display_data",
          "data": {
            "image/png": "[encoded data removed]",
            "text/plain": [
              "<PIL.Image.Image image mode=L size=48x48 at 0x7FB8A7AE6BE0>"
            ]
          },
          "metadata": {
            "tags": []
          }
        },
        {
          "output_type": "stream",
          "text": [
            "(48, 48)\n",
            "Sad\n",
            "[[269  27  64  64]]\n",
            "[[ 1  2  3 ... 72 73 73]\n",
            " [ 2  2  2 ... 72 73 73]\n",
            " [ 2  2  2 ... 72 73 73]\n",
            " ...\n",
            " [16 16 16 ... 64 64 65]\n",
            " [17 17 17 ... 66 68 70]\n",
            " [17 17 17 ... 68 71 73]]\n",
            "/n/n/n/n/n/n/n\n"
          ],
          "name": "stdout"
        },
        {
          "output_type": "display_data",
          "data": {
            "image/png": "[encoded data removed]",
            "text/plain": [
              "<PIL.Image.Image image mode=L size=48x48 at 0x7FB89AA59F28>"
            ]
          },
          "metadata": {
            "tags": []
          }
        },
        {
          "output_type": "stream",
          "text": [
            "(48, 48)\n",
            "Sad\n",
            "[[264  28  60  60]]\n",
            "[[ 2  2  2 ... 82 80 80]\n",
            " [ 2  2  2 ... 83 82 82]\n",
            " [ 2  2  2 ... 83 83 83]\n",
            " ...\n",
            " [17 17 17 ... 61 63 63]\n",
            " [18 18 18 ... 70 71 72]\n",
            " [19 18 19 ... 70 71 71]]\n",
            "/n/n/n/n/n/n/n\n"
          ],
          "name": "stdout"
        },
        {
          "output_type": "display_data",
          "data": {
            "image/png": "[encoded data removed]",
            "text/plain": [
              "<PIL.Image.Image image mode=L size=48x48 at 0x7FB89AD74D30>"
            ]
          },
          "metadata": {
            "tags": []
          }
        },
        {
          "output_type": "stream",
          "text": [
            "(48, 48)\n",
            "Sad\n",
            "[[252  20  73  73]]\n",
            "[[ 2  2  2 ... 61 60 60]\n",
            " [ 2  2  2 ... 61 61 61]\n",
            " [ 2  2  2 ... 63 63 63]\n",
            " ...\n",
            " [21 22 24 ... 47 49 49]\n",
            " [22 23 24 ... 50 51 51]\n",
            " [23 24 25 ... 50 51 51]]\n",
            "/n/n/n/n/n/n/n\n"
          ],
          "name": "stdout"
        },
        {
          "output_type": "display_data",
          "data": {
            "image/png": "[encoded data removed]",
            "text/plain": [
              "<PIL.Image.Image image mode=L size=48x48 at 0x7FB89AD74D30>"
            ]
          },
          "metadata": {
            "tags": []
          }
        },
        {
          "output_type": "stream",
          "text": [
            "(48, 48)\n",
            "Sad\n",
            "[[248  22  62  62]]\n",
            "[[ 2  2  2 ... 41 40 40]\n",
            " [ 2  2  2 ... 41 40 40]\n",
            " [ 2  2  1 ... 41 41 41]\n",
            " ...\n",
            " [19 22 23 ... 26 26 29]\n",
            " [18 19 19 ... 28 28 29]\n",
            " [18 19 19 ... 29 29 30]]\n",
            "/n/n/n/n/n/n/n\n"
          ],
          "name": "stdout"
        },
        {
          "output_type": "display_data",
          "data": {
            "image/png": "[encoded data removed]",
            "text/plain": [
              "<PIL.Image.Image image mode=L size=48x48 at 0x7FB89AD74D30>"
            ]
          },
          "metadata": {
            "tags": []
          }
        },
        {
          "output_type": "stream",
          "text": [
            "(48, 48)\n",
            "Sad\n",
            "[[234  20  68  68]]\n",
            "[[ 1  1  1 ... 44 44 44]\n",
            " [ 1  1  1 ... 45 45 45]\n",
            " [ 2  2  2 ... 46 46 46]\n",
            " ...\n",
            " [19 19 22 ... 54 56 54]\n",
            " [21 21 22 ... 56 56 56]\n",
            " [21 21 22 ... 57 57 56]]\n",
            "/n/n/n/n/n/n/n\n"
          ],
          "name": "stdout"
        },
        {
          "output_type": "display_data",
          "data": {
            "image/png": "[encoded data removed]",
            "text/plain": [
              "<PIL.Image.Image image mode=L size=48x48 at 0x7FB89AD74D30>"
            ]
          },
          "metadata": {
            "tags": []
          }
        },
        {
          "output_type": "stream",
          "text": [
            "(48, 48)\n",
            "Sad\n",
            "()\n",
            "[[215  16  74  74]]\n",
            "[[ 2  2  2 ... 33 33 32]\n",
            " [ 2  2  2 ... 33 33 33]\n",
            " [ 2  2  2 ... 33 33 35]\n",
            " ...\n",
            " [21 22 22 ... 45 45 45]\n",
            " [23 22 22 ... 45 45 45]\n",
            " [25 23 23 ... 44 45 45]]\n",
            "/n/n/n/n/n/n/n\n"
          ],
          "name": "stdout"
        },
        {
          "output_type": "display_data",
          "data": {
            "image/png": "[encoded data removed]",
            "text/plain": [
              "<PIL.Image.Image image mode=L size=48x48 at 0x7FB89A356BA8>"
            ]
          },
          "metadata": {
            "tags": []
          }
        },
        {
          "output_type": "stream",
          "text": [
            "(48, 48)\n",
            "Sad\n",
            "[[205  15  77  77]]\n",
            "[[ 2  1  1 ... 32 32 32]\n",
            " [ 2  2  2 ... 31 31 31]\n",
            " [ 2  2  2 ... 31 31 31]\n",
            " ...\n",
            " [24 23 23 ... 29 28 29]\n",
            " [26 25 25 ... 29 28 29]\n",
            " [28 28 28 ... 28 28 28]]\n",
            "/n/n/n/n/n/n/n\n"
          ],
          "name": "stdout"
        },
        {
          "output_type": "display_data",
          "data": {
            "image/png": "[encoded data removed]",
            "text/plain": [
              "<PIL.Image.Image image mode=L size=48x48 at 0x7FB89A356BA8>"
            ]
          },
          "metadata": {
            "tags": []
          }
        },
        {
          "output_type": "stream",
          "text": [
            "(48, 48)\n",
            "Sad\n",
            "[[203  15  71  71]]\n",
            "[[ 1  1  1 ... 22 21 21]\n",
            " [ 2  2  2 ... 19 21 21]\n",
            " [ 2  2  2 ... 19 21 21]\n",
            " ...\n",
            " [19 21 21 ... 29 28 28]\n",
            " [22 22 22 ... 28 28 26]\n",
            " [22 22 23 ... 28 26 26]]\n",
            "/n/n/n/n/n/n/n\n"
          ],
          "name": "stdout"
        },
        {
          "output_type": "display_data",
          "data": {
            "image/png": "[encoded data removed]",
            "text/plain": [
              "<PIL.Image.Image image mode=L size=48x48 at 0x7FB89A356BA8>"
            ]
          },
          "metadata": {
            "tags": []
          }
        },
        {
          "output_type": "stream",
          "text": [
            "(48, 48)\n",
            "Angry \n",
            "[[203  15  71  71]]\n",
            "[[ 1  1  1 ... 22 21 21]\n",
            " [ 2  2  2 ... 19 21 21]\n",
            " [ 2  2  2 ... 19 21 21]\n",
            " ...\n",
            " [19 21 21 ... 29 28 28]\n",
            " [22 22 22 ... 28 28 26]\n",
            " [22 22 23 ... 28 26 26]]\n",
            "/n/n/n/n/n/n/n\n"
          ],
          "name": "stdout"
        },
        {
          "output_type": "display_data",
          "data": {
            "image/png": "[encoded data removed]",
            "text/plain": [
              "<PIL.Image.Image image mode=L size=48x48 at 0x7FB899AECBE0>"
            ]
          },
          "metadata": {
            "tags": []
          }
        },
        {
          "output_type": "stream",
          "text": [
            "(48, 48)\n",
            "Angry \n",
            "()\n",
            "()\n",
            "()\n",
            "()\n",
            "[[202   9  80  80]]\n",
            "[[  3   3   4 ...   7   7   8]\n",
            " [  3   3   4 ...   7   7   8]\n",
            " [  3   3   4 ...   7   7   8]\n",
            " ...\n",
            " [ 28  28  28 ... 120 120 120]\n",
            " [ 28  28  28 ... 121 121 120]\n",
            " [ 26  28  28 ... 115 115 115]]\n",
            "/n/n/n/n/n/n/n\n"
          ],
          "name": "stdout"
        },
        {
          "output_type": "display_data",
          "data": {
            "image/png": "[encoded data removed]",
            "text/plain": [
              "<PIL.Image.Image image mode=L size=48x48 at 0x7FB89A5C0198>"
            ]
          },
          "metadata": {
            "tags": []
          }
        },
        {
          "output_type": "stream",
          "text": [
            "(48, 48)\n",
            "Sad\n",
            "()\n",
            "()\n",
            "()\n",
            "()\n",
            "[[460 261  74  74]]\n",
            "[[191 191 189 ... 185 185 185]\n",
            " [192 192 192 ... 185 185 185]\n",
            " [193 193 192 ... 187 187 187]\n",
            " ...\n",
            " [ 38  39  38 ... 125 124 123]\n",
            " [ 37  37  38 ... 122 122 121]\n",
            " [ 44  43  42 ... 120 120 118]]\n",
            "/n/n/n/n/n/n/n\n"
          ],
          "name": "stdout"
        },
        {
          "output_type": "display_data",
          "data": {
            "image/png": "[encoded data removed]",
            "text/plain": [
              "<PIL.Image.Image image mode=L size=48x48 at 0x7FB8A7B178D0>"
            ]
          },
          "metadata": {
            "tags": []
          }
        },
        {
          "output_type": "stream",
          "text": [
            "(48, 48)\n",
            "Happy\n",
            "[[333 248 107 107]]\n",
            "[[ 51  50  50 ... 155 153 152]\n",
            " [ 51  50  49 ... 152 151 151]\n",
            " [ 49  46  45 ... 151 150 149]\n",
            " ...\n",
            " [ 36  35  35 ... 181 180 179]\n",
            " [ 35  35  35 ... 180 179 178]\n",
            " [ 35  35  35 ... 172 171 170]]\n",
            "/n/n/n/n/n/n/n\n"
          ],
          "name": "stdout"
        },
        {
          "output_type": "display_data",
          "data": {
            "image/png": "[encoded data removed]",
            "text/plain": [
              "<PIL.Image.Image image mode=L size=48x48 at 0x7FB8A7B178D0>"
            ]
          },
          "metadata": {
            "tags": []
          }
        },
        {
          "output_type": "stream",
          "text": [
            "(48, 48)\n",
            "Surprise\n",
            "[[372 260  72  72]]\n",
            "[[ 37  37  37 ...  84  90  99]\n",
            " [ 36  36  37 ...  75  82  88]\n",
            " [ 35  35  35 ...  68  73  79]\n",
            " ...\n",
            " [121 125 132 ... 191 189 189]\n",
            " [117 120 127 ... 191 189 189]\n",
            " [114 117 122 ... 192 189 189]]\n",
            "/n/n/n/n/n/n/n\n"
          ],
          "name": "stdout"
        },
        {
          "output_type": "display_data",
          "data": {
            "image/png": "[encoded data removed]",
            "text/plain": [
              "<PIL.Image.Image image mode=L size=48x48 at 0x7FB89AAF1630>"
            ]
          },
          "metadata": {
            "tags": []
          }
        },
        {
          "output_type": "stream",
          "text": [
            "(48, 48)\n",
            "Happy\n",
            "()\n",
            "()\n",
            "()\n",
            "()\n",
            "()\n",
            "()\n",
            "()\n",
            "()\n",
            "[[304 252  95  95]]\n",
            "[[ 5  5  6 ...  1  2  3]\n",
            " [ 6  6  8 ...  1  2  3]\n",
            " [ 6  6  8 ...  2  2  2]\n",
            " ...\n",
            " [61 65 67 ... 67 88 94]\n",
            " [60 61 65 ... 59 74 84]\n",
            " [59 60 63 ... 53 60 74]]\n",
            "/n/n/n/n/n/n/n\n"
          ],
          "name": "stdout"
        },
        {
          "output_type": "display_data",
          "data": {
            "image/png": "[encoded data removed]",
            "text/plain": [
              "<PIL.Image.Image image mode=L size=48x48 at 0x7FB8A3416BA8>"
            ]
          },
          "metadata": {
            "tags": []
          }
        },
        {
          "output_type": "stream",
          "text": [
            "(48, 48)\n",
            "Sad\n",
            "[[296 232  96  96]]\n",
            "[[ 1  2  1 ... 32 42 51]\n",
            " [ 2  2  2 ... 30 44 52]\n",
            " [ 2  3  2 ... 32 47 54]\n",
            " ...\n",
            " [68 79 85 ...  5  5  4]\n",
            " [65 73 80 ...  7  6  6]\n",
            " [59 66 77 ...  8  8  8]]\n",
            "/n/n/n/n/n/n/n\n"
          ],
          "name": "stdout"
        },
        {
          "output_type": "display_data",
          "data": {
            "image/png": "[encoded data removed]",
            "text/plain": [
              "<PIL.Image.Image image mode=L size=48x48 at 0x7FB8A7AF0BE0>"
            ]
          },
          "metadata": {
            "tags": []
          }
        },
        {
          "output_type": "stream",
          "text": [
            "(48, 48)\n",
            "Sad\n",
            "[[287 214 100 100]]\n",
            "[[ 2  1  1 ... 86 90 93]\n",
            " [ 2  1  1 ... 89 93 95]\n",
            " [ 2  1  1 ... 92 95 95]\n",
            " ...\n",
            " [45 45 51 ... 31 29 29]\n",
            " [42 40 48 ... 29 26 26]\n",
            " [42 39 46 ... 25 25 24]]\n",
            "/n/n/n/n/n/n/n\n"
          ],
          "name": "stdout"
        },
        {
          "output_type": "display_data",
          "data": {
            "image/png": "[encoded data removed]",
            "text/plain": [
              "<PIL.Image.Image image mode=L size=48x48 at 0x7FB89ACC6EB8>"
            ]
          },
          "metadata": {
            "tags": []
          }
        },
        {
          "output_type": "stream",
          "text": [
            "(48, 48)\n",
            "Sad\n",
            "[[280 200  99  99]]\n",
            "[[ 1  1  1 ... 73 74 75]\n",
            " [ 1  1  1 ... 73 74 75]\n",
            " [ 1  1  1 ... 71 74 74]\n",
            " ...\n",
            " [52 58 61 ...  6  8  8]\n",
            " [47 50 56 ...  6  6  6]\n",
            " [43 45 55 ...  5  5  5]]\n",
            "/n/n/n/n/n/n/n\n"
          ],
          "name": "stdout"
        },
        {
          "output_type": "display_data",
          "data": {
            "image/png": "[encoded data removed]",
            "text/plain": [
              "<PIL.Image.Image image mode=L size=48x48 at 0x7FB8A7A8FA90>"
            ]
          },
          "metadata": {
            "tags": []
          }
        },
        {
          "output_type": "stream",
          "text": [
            "(48, 48)\n",
            "Sad\n",
            "[[281 201  99  99]]\n",
            "[[ 1  1  1 ... 74 75 77]\n",
            " [ 1  1  1 ... 74 74 75]\n",
            " [ 1  1  1 ... 72 75 75]\n",
            " ...\n",
            " [50 56 64 ...  6  6  8]\n",
            " [45 55 65 ...  5  5  6]\n",
            " [44 54 65 ...  4  5  6]]\n",
            "/n/n/n/n/n/n/n\n"
          ],
          "name": "stdout"
        },
        {
          "output_type": "display_data",
          "data": {
            "image/png": "[encoded data removed]",
            "text/plain": [
              "<PIL.Image.Image image mode=L size=48x48 at 0x7FB8A7A8FA90>"
            ]
          },
          "metadata": {
            "tags": []
          }
        },
        {
          "output_type": "stream",
          "text": [
            "(48, 48)\n",
            "Sad\n",
            "[[273 191 102 102]]\n",
            "[[ 1  1  1 ... 85 84 82]\n",
            " [ 1  1  1 ... 84 82 81]\n",
            " [ 1  1  1 ... 84 82 80]\n",
            " ...\n",
            " [47 47 47 ...  8  8  8]\n",
            " [46 45 44 ...  8  8  8]\n",
            " [45 44 43 ...  9  9  9]]\n",
            "/n/n/n/n/n/n/n\n"
          ],
          "name": "stdout"
        },
        {
          "output_type": "display_data",
          "data": {
            "image/png": "[encoded data removed]",
            "text/plain": [
              "<PIL.Image.Image image mode=L size=48x48 at 0x7FB8A7A8FA90>"
            ]
          },
          "metadata": {
            "tags": []
          }
        },
        {
          "output_type": "stream",
          "text": [
            "(48, 48)\n",
            "Sad\n",
            "[[266 182 103 103]]\n",
            "[[ 1  1  1 ... 84 82 82]\n",
            " [ 1  1  1 ... 84 82 82]\n",
            " [ 1  1  1 ... 84 84 81]\n",
            " ...\n",
            " [51 51 54 ...  5  3  2]\n",
            " [49 49 51 ...  5  4  2]\n",
            " [48 48 49 ...  4  3  3]]\n",
            "/n/n/n/n/n/n/n\n"
          ],
          "name": "stdout"
        },
        {
          "output_type": "display_data",
          "data": {
            "image/png": "[encoded data removed]",
            "text/plain": [
              "<PIL.Image.Image image mode=L size=48x48 at 0x7FB89A786630>"
            ]
          },
          "metadata": {
            "tags": []
          }
        },
        {
          "output_type": "stream",
          "text": [
            "(48, 48)\n",
            "Sad\n",
            "[[262 179 101 101]]\n",
            "[[ 2  2  1 ... 84 82 81]\n",
            " [ 1  1  1 ... 82 81 81]\n",
            " [ 1  1  1 ... 80 81 82]\n",
            " ...\n",
            " [63 66 73 ...  9  6  6]\n",
            " [54 57 63 ...  7  5  4]\n",
            " [51 51 53 ...  7  5  5]]\n",
            "/n/n/n/n/n/n/n\n"
          ],
          "name": "stdout"
        },
        {
          "output_type": "display_data",
          "data": {
            "image/png": "[encoded data removed]",
            "text/plain": [
              "<PIL.Image.Image image mode=L size=48x48 at 0x7FB89A786B38>"
            ]
          },
          "metadata": {
            "tags": []
          }
        },
        {
          "output_type": "stream",
          "text": [
            "(48, 48)\n",
            "Sad\n",
            "[[258 173 101 101]]\n",
            "[[ 1  1  1 ... 87 87 86]\n",
            " [ 1  1  1 ... 88 87 86]\n",
            " [ 1  1  1 ... 88 87 86]\n",
            " ...\n",
            " [74 75 77 ... 38 33 29]\n",
            " [71 71 74 ... 34 29 22]\n",
            " [65 67 71 ... 32 27 19]]\n",
            "/n/n/n/n/n/n/n\n"
          ],
          "name": "stdout"
        },
        {
          "output_type": "display_data",
          "data": {
            "image/png": "[encoded data removed]",
            "text/plain": [
              "<PIL.Image.Image image mode=L size=48x48 at 0x7FB8A78EE3C8>"
            ]
          },
          "metadata": {
            "tags": []
          }
        },
        {
          "output_type": "stream",
          "text": [
            "(48, 48)\n",
            "Sad\n",
            "[[254 165 101 101]]\n",
            "[[ 2  1  1 ... 88 89 89]\n",
            " [ 2  1  1 ... 87 87 89]\n",
            " [ 1  1  1 ... 86 86 87]\n",
            " ...\n",
            " [84 81 83 ... 51 50 49]\n",
            " [80 80 80 ... 50 50 51]\n",
            " [74 75 78 ... 47 47 47]]\n",
            "/n/n/n/n/n/n/n\n"
          ],
          "name": "stdout"
        },
        {
          "output_type": "display_data",
          "data": {
            "image/png": "[encoded data removed]",
            "text/plain": [
              "<PIL.Image.Image image mode=L size=48x48 at 0x7FB8A78EE3C8>"
            ]
          },
          "metadata": {
            "tags": []
          }
        },
        {
          "output_type": "stream",
          "text": [
            "(48, 48)\n",
            "Sad\n",
            "[[250 157 102 102]]\n",
            "[[ 2  2  2 ... 88 88 89]\n",
            " [ 1  1  1 ... 88 88 88]\n",
            " [ 1  1  1 ... 86 86 87]\n",
            " ...\n",
            " [88 90 88 ... 54 53 52]\n",
            " [90 88 86 ... 51 51 51]\n",
            " [85 82 81 ... 50 49 47]]\n",
            "/n/n/n/n/n/n/n\n"
          ],
          "name": "stdout"
        },
        {
          "output_type": "display_data",
          "data": {
            "image/png": "[encoded data removed]",
            "text/plain": [
              "<PIL.Image.Image image mode=L size=48x48 at 0x7FB8A79CC898>"
            ]
          },
          "metadata": {
            "tags": []
          }
        },
        {
          "output_type": "stream",
          "text": [
            "(48, 48)\n",
            "Neutral\n",
            "[[248 151 102 102]]\n",
            "[[ 2  2  2 ... 87 88 88]\n",
            " [ 2  2  2 ... 87 88 88]\n",
            " [ 2  2  2 ... 86 87 87]\n",
            " ...\n",
            " [68 75 85 ... 60 60 60]\n",
            " [80 87 90 ... 59 60 61]\n",
            " [88 90 89 ... 57 59 59]]\n",
            "/n/n/n/n/n/n/n\n"
          ],
          "name": "stdout"
        },
        {
          "output_type": "display_data",
          "data": {
            "image/png": "[encoded data removed]",
            "text/plain": [
              "<PIL.Image.Image image mode=L size=48x48 at 0x7FB89B0B4390>"
            ]
          },
          "metadata": {
            "tags": []
          }
        },
        {
          "output_type": "stream",
          "text": [
            "(48, 48)\n",
            "Neutral\n",
            "[[244 148 104 104]]\n",
            "[[  2   2   2 ... 101  99  99]\n",
            " [  2   1   1 ... 101  99  97]\n",
            " [  2   2   2 ... 101  99  97]\n",
            " ...\n",
            " [ 60  68  77 ...  53  56  56]\n",
            " [ 70  79  86 ...  49  50  51]\n",
            " [ 81  86  90 ...  46  49  49]]\n",
            "/n/n/n/n/n/n/n\n"
          ],
          "name": "stdout"
        },
        {
          "output_type": "display_data",
          "data": {
            "image/png": "[encoded data removed]",
            "text/plain": [
              "<PIL.Image.Image image mode=L size=48x48 at 0x7FB8A7B42D68>"
            ]
          },
          "metadata": {
            "tags": []
          }
        },
        {
          "output_type": "stream",
          "text": [
            "(48, 48)\n",
            "Neutral\n",
            "[[241 146 104 104]]\n",
            "[[  1   1   1 ... 102 101 101]\n",
            " [  1   1   1 ... 102 101 100]\n",
            " [  1   1   1 ... 101 100  97]\n",
            " ...\n",
            " [ 53  57  63 ...  51  51  52]\n",
            " [ 58  65  75 ...  49  50  50]\n",
            " [ 68  76  85 ...  49  50  50]]\n",
            "/n/n/n/n/n/n/n\n"
          ],
          "name": "stdout"
        },
        {
          "output_type": "display_data",
          "data": {
            "image/png": "[encoded data removed]",
            "text/plain": [
              "<PIL.Image.Image image mode=L size=48x48 at 0x7FB8A7A245F8>"
            ]
          },
          "metadata": {
            "tags": []
          }
        },
        {
          "output_type": "stream",
          "text": [
            "(48, 48)\n",
            "Neutral\n",
            "[[238 146 103 103]]\n",
            "[[  1   1   1 ... 106 104 103]\n",
            " [  1   1   1 ... 107 104 103]\n",
            " [  1   1   1 ... 107 104 103]\n",
            " ...\n",
            " [ 49  52  56 ...  47  49  49]\n",
            " [ 51  54  66 ...  47  47  47]\n",
            " [ 59  68  77 ...  50  51  51]]\n",
            "/n/n/n/n/n/n/n\n"
          ],
          "name": "stdout"
        },
        {
          "output_type": "display_data",
          "data": {
            "image/png": "[encoded data removed]",
            "text/plain": [
              "<PIL.Image.Image image mode=L size=48x48 at 0x7FB89A51E2E8>"
            ]
          },
          "metadata": {
            "tags": []
          }
        },
        {
          "output_type": "stream",
          "text": [
            "(48, 48)\n",
            "Neutral\n",
            "[[235 144 105 105]]\n",
            "[[  1   1   1 ... 107 108 107]\n",
            " [  1   1   1 ... 106 107 107]\n",
            " [  1   1   1 ... 106 106 106]\n",
            " ...\n",
            " [ 45  45  46 ...  47  48  48]\n",
            " [ 46  46  46 ...  48  50  50]\n",
            " [ 46  53  63 ...  51  51  51]]\n",
            "/n/n/n/n/n/n/n\n"
          ],
          "name": "stdout"
        },
        {
          "output_type": "display_data",
          "data": {
            "image/png": "[encoded data removed]",
            "text/plain": [
              "<PIL.Image.Image image mode=L size=48x48 at 0x7FB8A7B1E4E0>"
            ]
          },
          "metadata": {
            "tags": []
          }
        },
        {
          "output_type": "stream",
          "text": [
            "(48, 48)\n",
            "Neutral\n",
            "[[233 145 104 104]]\n",
            "[[  1   1   1 ... 107 107 106]\n",
            " [  1   1   1 ... 107 107 106]\n",
            " [  1   1   1 ... 107 107 106]\n",
            " ...\n",
            " [ 44  45  44 ...  48  48  48]\n",
            " [ 45  45  46 ...  52  53  52]\n",
            " [ 45  47  53 ...  53  53  53]]\n",
            "/n/n/n/n/n/n/n\n"
          ],
          "name": "stdout"
        },
        {
          "output_type": "display_data",
          "data": {
            "image/png": "[encoded data removed]",
            "text/plain": [
              "<PIL.Image.Image image mode=L size=48x48 at 0x7FB8A50099E8>"
            ]
          },
          "metadata": {
            "tags": []
          }
        },
        {
          "output_type": "stream",
          "text": [
            "(48, 48)\n",
            "Neutral\n",
            "[[230 146 106 106]]\n",
            "[[  2   1   1 ... 107 106 106]\n",
            " [  2   1   1 ... 107 106 106]\n",
            " [  1   1   1 ... 106 106 106]\n",
            " ...\n",
            " [ 45  47  49 ...  54  54  54]\n",
            " [ 45  49  53 ...  56  56  57]\n",
            " [ 50  54  64 ...  54  56  57]]\n",
            "/n/n/n/n/n/n/n\n"
          ],
          "name": "stdout"
        },
        {
          "output_type": "display_data",
          "data": {
            "image/png": "[encoded data removed]",
            "text/plain": [
              "<PIL.Image.Image image mode=L size=48x48 at 0x7FB8A7AC5DA0>"
            ]
          },
          "metadata": {
            "tags": []
          }
        },
        {
          "output_type": "stream",
          "text": [
            "(48, 48)\n",
            "Neutral\n",
            "[[230 151 102 102]]\n",
            "[[  1   1   1 ... 104 107 106]\n",
            " [  1   1   1 ... 103 106 106]\n",
            " [  1   1   1 ... 102 106 106]\n",
            " ...\n",
            " [ 44  44  43 ...  47  51  52]\n",
            " [ 44  44  44 ...  50  53  55]\n",
            " [ 49  47  47 ...  51  53  54]]\n",
            "/n/n/n/n/n/n/n\n"
          ],
          "name": "stdout"
        },
        {
          "output_type": "display_data",
          "data": {
            "image/png": "[encoded data removed]",
            "text/plain": [
              "<PIL.Image.Image image mode=L size=48x48 at 0x7FB8A7B1E4E0>"
            ]
          },
          "metadata": {
            "tags": []
          }
        },
        {
          "output_type": "stream",
          "text": [
            "(48, 48)\n",
            "Neutral\n",
            "[[224 151 109 109]]\n",
            "[[  2   2   2 ... 104 104 103]\n",
            " [  2   2   1 ... 102 102 102]\n",
            " [  2   2   1 ... 101 101 101]\n",
            " ...\n",
            " [ 46  47  46 ...  57  57  58]\n",
            " [ 45  47  46 ...  57  57  59]\n",
            " [ 45  47  52 ...  59  59  60]]\n",
            "/n/n/n/n/n/n/n\n"
          ],
          "name": "stdout"
        },
        {
          "output_type": "display_data",
          "data": {
            "image/png": "[encoded data removed]",
            "text/plain": [
              "<PIL.Image.Image image mode=L size=48x48 at 0x7FB8A7A4E7B8>"
            ]
          },
          "metadata": {
            "tags": []
          }
        },
        {
          "output_type": "stream",
          "text": [
            "(48, 48)\n",
            "Neutral\n",
            "[[225 155 105 105]]\n",
            "[[  1   1   2 ... 103 103 101]\n",
            " [  2   2   2 ... 103 103 102]\n",
            " [  2   2   2 ... 103 103 103]\n",
            " ...\n",
            " [ 46  45  46 ...  52  53  53]\n",
            " [ 47  46  47 ...  53  53  54]\n",
            " [ 47  47  52 ...  53  54  56]]\n",
            "/n/n/n/n/n/n/n\n"
          ],
          "name": "stdout"
        },
        {
          "output_type": "display_data",
          "data": {
            "image/png": "[encoded data removed]",
            "text/plain": [
              "<PIL.Image.Image image mode=L size=48x48 at 0x7FB899AECC88>"
            ]
          },
          "metadata": {
            "tags": []
          }
        },
        {
          "output_type": "stream",
          "text": [
            "(48, 48)\n",
            "Neutral\n",
            "[[224 157 105 105]]\n",
            "[[  2   2   2 ... 102 103 103]\n",
            " [  2   2   2 ... 102 103 104]\n",
            " [  2   2   2 ... 102 104 104]\n",
            " ...\n",
            " [ 45  47  47 ...  54  54  53]\n",
            " [ 46  47  52 ...  54  54  54]\n",
            " [ 47  53  60 ...  53  54  56]]\n",
            "/n/n/n/n/n/n/n\n"
          ],
          "name": "stdout"
        },
        {
          "output_type": "display_data",
          "data": {
            "image/png": "[encoded data removed]",
            "text/plain": [
              "<PIL.Image.Image image mode=L size=48x48 at 0x7FB899AECC88>"
            ]
          },
          "metadata": {
            "tags": []
          }
        },
        {
          "output_type": "stream",
          "text": [
            "(48, 48)\n",
            "Neutral\n",
            "[[224 157 104 104]]\n",
            "[[  1   1   2 ... 101 102 103]\n",
            " [  1   1   2 ... 100 102 103]\n",
            " [  1   1   2 ... 101 102 104]\n",
            " ...\n",
            " [ 46  47  46 ...  54  54  53]\n",
            " [ 45  47  49 ...  53  54  54]\n",
            " [ 47  49  54 ...  53  54  54]]\n",
            "/n/n/n/n/n/n/n\n"
          ],
          "name": "stdout"
        },
        {
          "output_type": "display_data",
          "data": {
            "image/png": "[encoded data removed]",
            "text/plain": [
              "<PIL.Image.Image image mode=L size=48x48 at 0x7FB89A3829B0>"
            ]
          },
          "metadata": {
            "tags": []
          }
        },
        {
          "output_type": "stream",
          "text": [
            "(48, 48)\n",
            "Neutral\n",
            "[[223 156 107 107]]\n",
            "[[  1   1   1 ... 103 103 102]\n",
            " [  1   1   1 ... 103 104 104]\n",
            " [  1   1   1 ... 104 104 104]\n",
            " ...\n",
            " [ 44  44  45 ...  54  54  56]\n",
            " [ 45  43  49 ...  53  56  57]\n",
            " [ 43  49  63 ...  54  54  54]]\n",
            "/n/n/n/n/n/n/n\n"
          ],
          "name": "stdout"
        },
        {
          "output_type": "display_data",
          "data": {
            "image/png": "[encoded data removed]",
            "text/plain": [
              "<PIL.Image.Image image mode=L size=48x48 at 0x7FB89A4B6358>"
            ]
          },
          "metadata": {
            "tags": []
          }
        },
        {
          "output_type": "stream",
          "text": [
            "(48, 48)\n",
            "Neutral\n",
            "[[223 157 109 109]]\n",
            "[[  2   2   1 ... 104 104 104]\n",
            " [  2   1   1 ... 104 104 104]\n",
            " [  2   1   1 ... 104 103 103]\n",
            " ...\n",
            " [ 43  45  64 ...  54  53  54]\n",
            " [ 53  66  87 ...  52  52  54]\n",
            " [ 74  89  95 ...  52  52  54]]\n",
            "/n/n/n/n/n/n/n\n"
          ],
          "name": "stdout"
        },
        {
          "output_type": "display_data",
          "data": {
            "image/png": "[encoded data removed]",
            "text/plain": [
              "<PIL.Image.Image image mode=L size=48x48 at 0x7FB8A78EED68>"
            ]
          },
          "metadata": {
            "tags": []
          }
        },
        {
          "output_type": "stream",
          "text": [
            "(48, 48)\n",
            "Neutral\n",
            "[[223 160 105 105]]\n",
            "[[ 7  3  2 ... 15 56 92]\n",
            " [ 8  3  2 ... 16 56 88]\n",
            " [10  5  3 ... 15 47 80]\n",
            " ...\n",
            " [44 44 45 ... 47 52 53]\n",
            " [44 44 46 ... 46 51 52]\n",
            " [44 44 60 ... 49 52 54]]\n",
            "/n/n/n/n/n/n/n\n"
          ],
          "name": "stdout"
        },
        {
          "output_type": "display_data",
          "data": {
            "image/png": "[encoded data removed]",
            "text/plain": [
              "<PIL.Image.Image image mode=L size=48x48 at 0x7FB89A63C518>"
            ]
          },
          "metadata": {
            "tags": []
          }
        },
        {
          "output_type": "stream",
          "text": [
            "(48, 48)\n",
            "Sad\n",
            "[[225 164 102 102]]\n",
            "[[16  9  8 ...  4  4  3]\n",
            " [19 10  8 ...  4  4  3]\n",
            " [22 12 10 ...  3  4  3]\n",
            " ...\n",
            " [44 45 47 ... 45 51 51]\n",
            " [45 47 57 ... 43 47 50]\n",
            " [51 67 81 ... 43 46 49]]\n",
            "/n/n/n/n/n/n/n\n"
          ],
          "name": "stdout"
        },
        {
          "output_type": "display_data",
          "data": {
            "image/png": "[encoded data removed]",
            "text/plain": [
              "<PIL.Image.Image image mode=L size=48x48 at 0x7FB8A79DFBA8>"
            ]
          },
          "metadata": {
            "tags": []
          }
        },
        {
          "output_type": "stream",
          "text": [
            "(48, 48)\n",
            "Sad\n",
            "[[226 162 107 107]]\n",
            "[[  8   4   2 ...  56  92 103]\n",
            " [ 11   5   4 ...  56  92 101]\n",
            " [ 17  10   8 ...  53  87  96]\n",
            " ...\n",
            " [ 47  54  71 ...  54  55  54]\n",
            " [ 63  79  89 ...  54  54  53]\n",
            " [ 85  94  92 ...  52  52  53]]\n",
            "/n/n/n/n/n/n/n\n"
          ],
          "name": "stdout"
        },
        {
          "output_type": "display_data",
          "data": {
            "image/png": "[encoded data removed]",
            "text/plain": [
              "<PIL.Image.Image image mode=L size=48x48 at 0x7FB8A79DFBA8>"
            ]
          },
          "metadata": {
            "tags": []
          }
        },
        {
          "output_type": "stream",
          "text": [
            "(48, 48)\n",
            "Neutral\n",
            "[[226 162 107 107]]\n",
            "[[  8   4   2 ...  56  92 103]\n",
            " [ 11   5   4 ...  56  92 101]\n",
            " [ 17  10   8 ...  53  87  96]\n",
            " ...\n",
            " [ 47  54  71 ...  54  55  54]\n",
            " [ 63  79  89 ...  54  54  53]\n",
            " [ 85  94  92 ...  52  52  53]]\n",
            "/n/n/n/n/n/n/n\n"
          ],
          "name": "stdout"
        },
        {
          "output_type": "display_data",
          "data": {
            "image/png": "[encoded data removed]",
            "text/plain": [
              "<PIL.Image.Image image mode=L size=48x48 at 0x7FB8A7A151D0>"
            ]
          },
          "metadata": {
            "tags": []
          }
        },
        {
          "output_type": "stream",
          "text": [
            "(48, 48)\n",
            "Neutral\n",
            "[[227 163 106 106]]\n",
            "[[14  7  4 ...  4 32 78]\n",
            " [19 12  8 ...  5 32 77]\n",
            " [24 15  9 ...  5 30 70]\n",
            " ...\n",
            " [46 50 54 ... 53 53 54]\n",
            " [45 50 68 ... 51 53 54]\n",
            " [50 61 82 ... 53 53 53]]\n",
            "/n/n/n/n/n/n/n\n"
          ],
          "name": "stdout"
        },
        {
          "output_type": "display_data",
          "data": {
            "image/png": "[encoded data removed]",
            "text/plain": [
              "<PIL.Image.Image image mode=L size=48x48 at 0x7FB8A79FBAC8>"
            ]
          },
          "metadata": {
            "tags": []
          }
        },
        {
          "output_type": "stream",
          "text": [
            "(48, 48)\n",
            "Sad\n",
            "[[225 162 108 108]]\n",
            "[[25 18 11 ...  5  4 18]\n",
            " [23 18 12 ...  6  3 12]\n",
            " [28 22 15 ...  4  3 14]\n",
            " ...\n",
            " [44 46 45 ... 52 54 54]\n",
            " [43 44 45 ... 51 52 53]\n",
            " [43 44 46 ... 51 52 53]]\n",
            "/n/n/n/n/n/n/n\n"
          ],
          "name": "stdout"
        },
        {
          "output_type": "display_data",
          "data": {
            "image/png": "[encoded data removed]",
            "text/plain": [
              "<PIL.Image.Image image mode=L size=48x48 at 0x7FB8A79FBAC8>"
            ]
          },
          "metadata": {
            "tags": []
          }
        },
        {
          "output_type": "stream",
          "text": [
            "(48, 48)\n",
            "Neutral\n",
            "[[225 164 109 109]]\n",
            "[[33 23 16 ...  6  4 10]\n",
            " [30 21 16 ...  6  4  8]\n",
            " [31 23 18 ...  6  4 10]\n",
            " ...\n",
            " [39 39 39 ... 52 52 53]\n",
            " [40 40 40 ... 51 52 52]\n",
            " [40 42 43 ... 52 52 52]]\n",
            "/n/n/n/n/n/n/n\n"
          ],
          "name": "stdout"
        },
        {
          "output_type": "display_data",
          "data": {
            "image/png": "[encoded data removed]",
            "text/plain": [
              "<PIL.Image.Image image mode=L size=48x48 at 0x7FB8A505E6D8>"
            ]
          },
          "metadata": {
            "tags": []
          }
        },
        {
          "output_type": "stream",
          "text": [
            "(48, 48)\n",
            "Sad\n",
            "[[226 165 109 109]]\n",
            "[[29 18  8 ...  5  6  7]\n",
            " [24 16  8 ...  5  6  7]\n",
            " [22 16  9 ...  5  6  8]\n",
            " ...\n",
            " [39 39 38 ... 54 54 54]\n",
            " [39 39 38 ... 53 55 54]\n",
            " [39 39 38 ... 53 54 53]]\n",
            "/n/n/n/n/n/n/n\n"
          ],
          "name": "stdout"
        },
        {
          "output_type": "display_data",
          "data": {
            "image/png": "[encoded data removed]",
            "text/plain": [
              "<PIL.Image.Image image mode=L size=48x48 at 0x7FB8A79FBAC8>"
            ]
          },
          "metadata": {
            "tags": []
          }
        },
        {
          "output_type": "stream",
          "text": [
            "(48, 48)\n",
            "Sad\n",
            "[[226 167 110 110]]\n",
            "[[24 12  7 ...  3  4  5]\n",
            " [25 14  5 ...  3  4  5]\n",
            " [25 14  7 ...  3  4  5]\n",
            " ...\n",
            " [39 39 39 ... 54 54 54]\n",
            " [39 39 39 ... 52 54 54]\n",
            " [39 39 39 ... 52 54 54]]\n",
            "/n/n/n/n/n/n/n\n"
          ],
          "name": "stdout"
        },
        {
          "output_type": "display_data",
          "data": {
            "image/png": "[encoded data removed]",
            "text/plain": [
              "<PIL.Image.Image image mode=L size=48x48 at 0x7FB89A343128>"
            ]
          },
          "metadata": {
            "tags": []
          }
        },
        {
          "output_type": "stream",
          "text": [
            "(48, 48)\n",
            "Sad\n",
            "[[225 170 113 113]]\n",
            "[[28 19  9 ...  5 10 42]\n",
            " [29 19  9 ...  3 10 49]\n",
            " [30 19 10 ...  4 10 45]\n",
            " ...\n",
            " [32 32 35 ... 54 52 53]\n",
            " [32 32 32 ... 53 52 52]\n",
            " [31 32 32 ... 53 52 52]]\n",
            "/n/n/n/n/n/n/n\n"
          ],
          "name": "stdout"
        },
        {
          "output_type": "display_data",
          "data": {
            "image/png": "[encoded data removed]",
            "text/plain": [
              "<PIL.Image.Image image mode=L size=48x48 at 0x7FB89A343D30>"
            ]
          },
          "metadata": {
            "tags": []
          }
        },
        {
          "output_type": "stream",
          "text": [
            "(48, 48)\n",
            "Neutral\n",
            "[[223 168 119 119]]\n",
            "[[35 34 27 ... 88 89 86]\n",
            " [33 32 25 ... 86 90 86]\n",
            " [33 32 25 ... 81 90 86]\n",
            " ...\n",
            " [32 32 32 ... 58 57 58]\n",
            " [31 32 32 ... 58 57 58]\n",
            " [31 32 32 ... 58 57 57]]\n",
            "/n/n/n/n/n/n/n\n"
          ],
          "name": "stdout"
        },
        {
          "output_type": "display_data",
          "data": {
            "image/png": "[encoded data removed]",
            "text/plain": [
              "<PIL.Image.Image image mode=L size=48x48 at 0x7FB8A79D45C0>"
            ]
          },
          "metadata": {
            "tags": []
          }
        },
        {
          "output_type": "stream",
          "text": [
            "(48, 48)\n",
            "Neutral\n",
            "[[222 171 119 119]]\n",
            "[[28 31 29 ... 28 66 90]\n",
            " [28 31 29 ... 23 60 88]\n",
            " [26 29 28 ... 23 57 86]\n",
            " ...\n",
            " [32 32 32 ... 59 60 59]\n",
            " [31 31 33 ... 58 58 58]\n",
            " [31 32 33 ... 57 57 57]]\n",
            "/n/n/n/n/n/n/n\n"
          ],
          "name": "stdout"
        },
        {
          "output_type": "display_data",
          "data": {
            "image/png": "[encoded data removed]",
            "text/plain": [
              "<PIL.Image.Image image mode=L size=48x48 at 0x7FB8AC4D59B0>"
            ]
          },
          "metadata": {
            "tags": []
          }
        },
        {
          "output_type": "stream",
          "text": [
            "(48, 48)\n",
            "Neutral\n",
            "[[219 166 127 127]]\n",
            "[[23 24 26 ... 84 84 84]\n",
            " [23 24 26 ... 84 85 85]\n",
            " [24 25 26 ... 84 86 87]\n",
            " ...\n",
            " [36 36 35 ... 57 58 58]\n",
            " [36 36 35 ... 56 57 56]\n",
            " [37 37 35 ... 54 56 56]]\n",
            "/n/n/n/n/n/n/n\n"
          ],
          "name": "stdout"
        },
        {
          "output_type": "display_data",
          "data": {
            "image/png": "[encoded data removed]",
            "text/plain": [
              "<PIL.Image.Image image mode=L size=48x48 at 0x7FB8AC4D59B0>"
            ]
          },
          "metadata": {
            "tags": []
          }
        },
        {
          "output_type": "stream",
          "text": [
            "(48, 48)\n",
            "Neutral\n",
            "[[220 163 128 128]\n",
            " [524 260  51  51]]\n",
            "[[24 26 29 ... 85 86 88]\n",
            " [24 26 28 ... 84 84 86]\n",
            " [24 26 28 ... 85 85 86]\n",
            " ...\n",
            " [36 36 36 ... 58 58 59]\n",
            " [36 36 36 ... 58 57 57]\n",
            " [38 37 36 ... 56 56 57]]\n",
            "/n/n/n/n/n/n/n\n"
          ],
          "name": "stdout"
        },
        {
          "output_type": "display_data",
          "data": {
            "image/png": "[encoded data removed]",
            "text/plain": [
              "<PIL.Image.Image image mode=L size=48x48 at 0x7FB8A792C908>"
            ]
          },
          "metadata": {
            "tags": []
          }
        },
        {
          "output_type": "stream",
          "text": [
            "(48, 48)\n",
            "Neutral\n",
            "[[25 25 24 ...  4  3  3]\n",
            " [25 25 24 ...  8  5  4]\n",
            " [26 26 24 ...  9  7  4]\n",
            " ...\n",
            " [66 72 75 ... 74 72 68]\n",
            " [70 74 78 ... 75 73 71]\n",
            " [75 79 82 ... 75 73 71]]\n",
            "/n/n/n/n/n/n/n\n"
          ],
          "name": "stdout"
        },
        {
          "output_type": "display_data",
          "data": {
            "image/png": "[encoded data removed]",
            "text/plain": [
              "<PIL.Image.Image image mode=L size=48x48 at 0x7FB8A79FB860>"
            ]
          },
          "metadata": {
            "tags": []
          }
        },
        {
          "output_type": "stream",
          "text": [
            "(48, 48)\n",
            "Happy\n",
            "[[222 164 124 124]\n",
            " [524 256  53  53]]\n",
            "[[27 30 28 ... 88 90 85]\n",
            " [27 30 30 ... 85 92 87]\n",
            " [30 32 28 ... 79 90 87]\n",
            " ...\n",
            " [33 35 36 ... 60 59 59]\n",
            " [37 38 38 ... 60 59 58]\n",
            " [37 39 39 ... 58 58 58]]\n",
            "/n/n/n/n/n/n/n\n"
          ],
          "name": "stdout"
        },
        {
          "output_type": "display_data",
          "data": {
            "image/png": "[encoded data removed]",
            "text/plain": [
              "<PIL.Image.Image image mode=L size=48x48 at 0x7FB8A79FB860>"
            ]
          },
          "metadata": {
            "tags": []
          }
        },
        {
          "output_type": "stream",
          "text": [
            "(48, 48)\n",
            "Neutral\n",
            "[[25 25 25 ...  2  2  1]\n",
            " [25 25 25 ...  2  2  1]\n",
            " [25 25 25 ...  3  2  1]\n",
            " ...\n",
            " [64 68 74 ... 73 72 68]\n",
            " [68 72 77 ... 74 72 71]\n",
            " [74 78 81 ... 73 71 70]]\n",
            "/n/n/n/n/n/n/n\n"
          ],
          "name": "stdout"
        },
        {
          "output_type": "display_data",
          "data": {
            "image/png": "[encoded data removed]",
            "text/plain": [
              "<PIL.Image.Image image mode=L size=48x48 at 0x7FB8A79FB860>"
            ]
          },
          "metadata": {
            "tags": []
          }
        },
        {
          "output_type": "stream",
          "text": [
            "(48, 48)\n",
            "Happy\n",
            "[[224 161 125 125]]\n",
            "[[30 22 15 ... 85 84 86]\n",
            " [29 19 11 ... 87 85 87]\n",
            " [30 21 10 ... 89 86 87]\n",
            " ...\n",
            " [36 36 37 ... 60 59 58]\n",
            " [36 36 37 ... 59 59 58]\n",
            " [38 38 39 ... 59 58 59]]\n",
            "/n/n/n/n/n/n/n\n"
          ],
          "name": "stdout"
        },
        {
          "output_type": "display_data",
          "data": {
            "image/png": "[encoded data removed]",
            "text/plain": [
              "<PIL.Image.Image image mode=L size=48x48 at 0x7FB8A7AC5208>"
            ]
          },
          "metadata": {
            "tags": []
          }
        },
        {
          "output_type": "stream",
          "text": [
            "(48, 48)\n",
            "Neutral\n",
            "[[223 158 127 127]]\n",
            "[[28 28 25 ... 85 84 85]\n",
            " [27 28 24 ... 86 84 86]\n",
            " [29 28 25 ... 88 85 85]\n",
            " ...\n",
            " [33 34 37 ... 60 60 59]\n",
            " [35 37 37 ... 61 61 60]\n",
            " [38 38 39 ... 63 63 63]]\n",
            "/n/n/n/n/n/n/n\n"
          ],
          "name": "stdout"
        },
        {
          "output_type": "display_data",
          "data": {
            "image/png": "[encoded data removed]",
            "text/plain": [
              "<PIL.Image.Image image mode=L size=48x48 at 0x7FB89A64E080>"
            ]
          },
          "metadata": {
            "tags": []
          }
        },
        {
          "output_type": "stream",
          "text": [
            "(48, 48)\n",
            "Neutral\n",
            "[[225 157 126 126]]\n",
            "[[28 26 21 ... 86 85 85]\n",
            " [27 23 16 ... 88 85 86]\n",
            " [27 17 10 ... 90 85 86]\n",
            " ...\n",
            " [33 36 37 ... 60 59 58]\n",
            " [34 37 38 ... 60 60 60]\n",
            " [37 38 39 ... 61 60 60]]\n",
            "/n/n/n/n/n/n/n\n"
          ],
          "name": "stdout"
        },
        {
          "output_type": "display_data",
          "data": {
            "image/png": "[encoded data removed]",
            "text/plain": [
              "<PIL.Image.Image image mode=L size=48x48 at 0x7FB89AB81048>"
            ]
          },
          "metadata": {
            "tags": []
          }
        },
        {
          "output_type": "stream",
          "text": [
            "(48, 48)\n",
            "Neutral\n",
            "[[226 158 127 127]]\n",
            "[[29 25 19 ... 86 85 88]\n",
            " [26 19 12 ... 87 85 88]\n",
            " [28 25 21 ... 90 87 87]\n",
            " ...\n",
            " [39 39 40 ... 66 66 67]\n",
            " [40 41 43 ... 67 67 69]\n",
            " [40 40 43 ... 69 71 70]]\n",
            "/n/n/n/n/n/n/n\n"
          ],
          "name": "stdout"
        },
        {
          "output_type": "display_data",
          "data": {
            "image/png": "[encoded data removed]",
            "text/plain": [
              "<PIL.Image.Image image mode=L size=48x48 at 0x7FB89A611828>"
            ]
          },
          "metadata": {
            "tags": []
          }
        },
        {
          "output_type": "stream",
          "text": [
            "(48, 48)\n",
            "Neutral\n",
            "[[228 158 130 130]]\n",
            "[[26 23 17 ... 93 92 90]\n",
            " [23 18 12 ... 92 92 90]\n",
            " [25 17 12 ... 90 90 90]\n",
            " ...\n",
            " [44 46 51 ... 70 75 68]\n",
            " [44 46 49 ... 68 75 68]\n",
            " [44 46 46 ... 70 73 70]]\n",
            "/n/n/n/n/n/n/n\n"
          ],
          "name": "stdout"
        },
        {
          "output_type": "display_data",
          "data": {
            "image/png": "[encoded data removed]",
            "text/plain": [
              "<PIL.Image.Image image mode=L size=48x48 at 0x7FB89A611828>"
            ]
          },
          "metadata": {
            "tags": []
          }
        },
        {
          "output_type": "stream",
          "text": [
            "(48, 48)\n",
            "Neutral\n",
            "[[228 156 134 134]]\n",
            "[[37 46 51 ... 92 90 90]\n",
            " [32 38 42 ... 89 89 89]\n",
            " [29 31 30 ... 89 88 88]\n",
            " ...\n",
            " [45 46 47 ... 79 68 61]\n",
            " [45 47 47 ... 73 68 63]\n",
            " [46 47 47 ... 70 67 64]]\n",
            "/n/n/n/n/n/n/n\n"
          ],
          "name": "stdout"
        },
        {
          "output_type": "display_data",
          "data": {
            "image/png": "[encoded data removed]",
            "text/plain": [
              "<PIL.Image.Image image mode=L size=48x48 at 0x7FB8A7A3DE10>"
            ]
          },
          "metadata": {
            "tags": []
          }
        },
        {
          "output_type": "stream",
          "text": [
            "(48, 48)\n",
            "Neutral\n",
            "[[234 158 126 126]]\n",
            "[[11  8  6 ... 90 90 90]\n",
            " [ 9  7  8 ... 89 90 90]\n",
            " [11  9  6 ... 88 89 89]\n",
            " ...\n",
            " [49 49 47 ... 63 65 72]\n",
            " [49 49 47 ... 64 66 74]\n",
            " [50 50 50 ... 65 68 78]]\n",
            "/n/n/n/n/n/n/n\n"
          ],
          "name": "stdout"
        },
        {
          "output_type": "display_data",
          "data": {
            "image/png": "[encoded data removed]",
            "text/plain": [
              "<PIL.Image.Image image mode=L size=48x48 at 0x7FB89A382550>"
            ]
          },
          "metadata": {
            "tags": []
          }
        },
        {
          "output_type": "stream",
          "text": [
            "(48, 48)\n",
            "Neutral\n",
            "[[236 156 126 126]]\n",
            "[[13 10  8 ... 94 93 90]\n",
            " [11  9  5 ... 92 92 92]\n",
            " [ 9  6  3 ... 90 90 90]\n",
            " ...\n",
            " [44 44 45 ... 62 61 61]\n",
            " [46 46 47 ... 61 63 65]\n",
            " [47 49 49 ... 63 64 71]]\n",
            "/n/n/n/n/n/n/n\n"
          ],
          "name": "stdout"
        },
        {
          "output_type": "display_data",
          "data": {
            "image/png": "[encoded data removed]",
            "text/plain": [
              "<PIL.Image.Image image mode=L size=48x48 at 0x7FB89ACC6630>"
            ]
          },
          "metadata": {
            "tags": []
          }
        },
        {
          "output_type": "stream",
          "text": [
            "(48, 48)\n",
            "Neutral\n",
            "[[235 153 128 128]\n",
            " [527 258  54  54]]\n",
            "[[66 54 41 ... 89 92 94]\n",
            " [54 40 26 ... 95 94 93]\n",
            " [46 37 22 ... 95 94 93]\n",
            " ...\n",
            " [43 43 43 ... 59 57 57]\n",
            " [44 44 45 ... 63 61 61]\n",
            " [46 46 47 ... 61 63 65]]\n",
            "/n/n/n/n/n/n/n\n"
          ],
          "name": "stdout"
        },
        {
          "output_type": "display_data",
          "data": {
            "image/png": "[encoded data removed]",
            "text/plain": [
              "<PIL.Image.Image image mode=L size=48x48 at 0x7FB89ACC6F98>"
            ]
          },
          "metadata": {
            "tags": []
          }
        },
        {
          "output_type": "stream",
          "text": [
            "(48, 48)\n",
            "Sad\n",
            "[[26 25 23 ...  0  1  0]\n",
            " [25 24 24 ...  0  1  0]\n",
            " [25 24 23 ...  1  1  0]\n",
            " ...\n",
            " [79 84 87 ... 47 49 51]\n",
            " [84 88 92 ... 46 49 51]\n",
            " [87 89 93 ... 47 50 52]]\n",
            "/n/n/n/n/n/n/n\n"
          ],
          "name": "stdout"
        },
        {
          "output_type": "display_data",
          "data": {
            "image/png": "[encoded data removed]",
            "text/plain": [
              "<PIL.Image.Image image mode=L size=48x48 at 0x7FB89A5C0C50>"
            ]
          },
          "metadata": {
            "tags": []
          }
        },
        {
          "output_type": "stream",
          "text": [
            "(48, 48)\n",
            "Happy\n",
            "[[235 151 133 133]\n",
            " [526 258  53  53]]\n",
            "[[73 72 73 ... 94 94 92]\n",
            " [73 71 71 ... 92 92 90]\n",
            " [68 68 61 ... 92 92 90]\n",
            " ...\n",
            " [49 47 49 ... 60 56 57]\n",
            " [49 49 49 ... 64 57 58]\n",
            " [50 50 50 ... 70 59 57]]\n",
            "/n/n/n/n/n/n/n\n"
          ],
          "name": "stdout"
        },
        {
          "output_type": "display_data",
          "data": {
            "image/png": "[encoded data removed]",
            "text/plain": [
              "<PIL.Image.Image image mode=L size=48x48 at 0x7FB89A5C0C50>"
            ]
          },
          "metadata": {
            "tags": []
          }
        },
        {
          "output_type": "stream",
          "text": [
            "(48, 48)\n",
            "Neutral\n",
            "[[ 25  26  25 ...   2   2   1]\n",
            " [ 25  25  24 ...   2   2   0]\n",
            " [ 25  25  24 ...   2   2   1]\n",
            " ...\n",
            " [100  90  78 ...  44  45  47]\n",
            " [ 97  88  78 ...  44  46  47]\n",
            " [ 94  84  84 ...  43  44  46]]\n",
            "/n/n/n/n/n/n/n\n"
          ],
          "name": "stdout"
        },
        {
          "output_type": "display_data",
          "data": {
            "image/png": "[encoded data removed]",
            "text/plain": [
              "<PIL.Image.Image image mode=L size=48x48 at 0x7FB89A5C0C50>"
            ]
          },
          "metadata": {
            "tags": []
          }
        },
        {
          "output_type": "stream",
          "text": [
            "(48, 48)\n",
            "Happy\n",
            "[[236 152 132 132]]\n",
            "[[75 78 75 ... 94 94 94]\n",
            " [74 75 68 ... 93 92 92]\n",
            " [74 74 63 ... 93 92 92]\n",
            " ...\n",
            " [46 46 47 ... 65 61 57]\n",
            " [47 49 49 ... 71 65 56]\n",
            " [49 49 49 ... 73 70 59]]\n",
            "/n/n/n/n/n/n/n\n"
          ],
          "name": "stdout"
        },
        {
          "output_type": "display_data",
          "data": {
            "image/png": "[encoded data removed]",
            "text/plain": [
              "<PIL.Image.Image image mode=L size=48x48 at 0x7FB8A79B78D0>"
            ]
          },
          "metadata": {
            "tags": []
          }
        },
        {
          "output_type": "stream",
          "text": [
            "(48, 48)\n",
            "Neutral\n",
            "[[237 156 130 130]]\n",
            "[[66 64 52 ... 94 94 93]\n",
            " [60 52 38 ... 94 92 92]\n",
            " [52 38 24 ... 94 90 90]\n",
            " ...\n",
            " [49 49 50 ... 63 67 71]\n",
            " [49 49 50 ... 65 68 74]\n",
            " [51 51 52 ... 66 70 79]]\n",
            "/n/n/n/n/n/n/n\n"
          ],
          "name": "stdout"
        },
        {
          "output_type": "display_data",
          "data": {
            "image/png": "[encoded data removed]",
            "text/plain": [
              "<PIL.Image.Image image mode=L size=48x48 at 0x7FB89AB0C4A8>"
            ]
          },
          "metadata": {
            "tags": []
          }
        },
        {
          "output_type": "stream",
          "text": [
            "(48, 48)\n",
            "Neutral\n",
            "[[239 157 129 129]]\n",
            "[[46 26 17 ... 95 94 93]\n",
            " [35 23 13 ... 94 94 93]\n",
            " [37 15  9 ... 94 93 92]\n",
            " ...\n",
            " [49 50 51 ... 71 72 63]\n",
            " [50 51 51 ... 71 75 66]\n",
            " [51 52 52 ... 68 75 70]]\n",
            "/n/n/n/n/n/n/n\n"
          ],
          "name": "stdout"
        },
        {
          "output_type": "display_data",
          "data": {
            "image/png": "[encoded data removed]",
            "text/plain": [
              "<PIL.Image.Image image mode=L size=48x48 at 0x7FB8A7A249E8>"
            ]
          },
          "metadata": {
            "tags": []
          }
        },
        {
          "output_type": "stream",
          "text": [
            "(48, 48)\n",
            "Neutral\n",
            "[[237 156 131 131]]\n",
            "[[60 56 49 ... 95 95 93]\n",
            " [54 49 42 ... 95 95 94]\n",
            " [47 42 32 ... 94 94 94]\n",
            " ...\n",
            " [50 50 51 ... 79 73 56]\n",
            " [51 51 52 ... 77 78 61]\n",
            " [52 52 53 ... 72 82 70]]\n",
            "/n/n/n/n/n/n/n\n"
          ],
          "name": "stdout"
        },
        {
          "output_type": "display_data",
          "data": {
            "image/png": "[encoded data removed]",
            "text/plain": [
              "<PIL.Image.Image image mode=L size=48x48 at 0x7FB89AD51A20>"
            ]
          },
          "metadata": {
            "tags": []
          }
        },
        {
          "output_type": "stream",
          "text": [
            "(48, 48)\n",
            "Neutral\n",
            "[[239 158 129 129]\n",
            " [524 260  53  53]]\n",
            "[[22 29 15 ... 95 93 92]\n",
            " [14 23 11 ... 95 93 90]\n",
            " [22 12  8 ... 93 90 87]\n",
            " ...\n",
            " [51 51 51 ... 81 64 53]\n",
            " [52 52 52 ... 82 70 57]\n",
            " [53 53 53 ... 80 79 63]]\n",
            "/n/n/n/n/n/n/n\n"
          ],
          "name": "stdout"
        },
        {
          "output_type": "display_data",
          "data": {
            "image/png": "[encoded data removed]",
            "text/plain": [
              "<PIL.Image.Image image mode=L size=48x48 at 0x7FB89A3564E0>"
            ]
          },
          "metadata": {
            "tags": []
          }
        },
        {
          "output_type": "stream",
          "text": [
            "(48, 48)\n",
            "Neutral\n",
            "[[ 25  26  22 ...   2   2   2]\n",
            " [ 25  26  22 ...   2   2   2]\n",
            " [ 25  25  21 ...   2   2   3]\n",
            " ...\n",
            " [ 82  87  90 ...  43  45  50]\n",
            " [ 86  92  99 ...  44  46  50]\n",
            " [ 88  96 104 ...  43  46  52]]\n",
            "/n/n/n/n/n/n/n\n"
          ],
          "name": "stdout"
        },
        {
          "output_type": "display_data",
          "data": {
            "image/png": "[encoded data removed]",
            "text/plain": [
              "<PIL.Image.Image image mode=L size=48x48 at 0x7FB89AA59B00>"
            ]
          },
          "metadata": {
            "tags": []
          }
        },
        {
          "output_type": "stream",
          "text": [
            "(48, 48)\n",
            "Happy\n",
            "[[238 158 130 130]\n",
            " [522 260  53  53]]\n",
            "[[28 30 29 ... 95 93 92]\n",
            " [25 24 23 ... 95 93 90]\n",
            " [31 21 12 ... 93 90 87]\n",
            " ...\n",
            " [52 52 52 ... 70 57 57]\n",
            " [53 53 53 ... 79 64 59]\n",
            " [53 53 53 ... 85 68 59]]\n",
            "/n/n/n/n/n/n/n\n"
          ],
          "name": "stdout"
        },
        {
          "output_type": "display_data",
          "data": {
            "image/png": "[encoded data removed]",
            "text/plain": [
              "<PIL.Image.Image image mode=L size=48x48 at 0x7FB8A7900390>"
            ]
          },
          "metadata": {
            "tags": []
          }
        },
        {
          "output_type": "stream",
          "text": [
            "(48, 48)\n",
            "Neutral\n",
            "[[25 26 22 ...  2  2  2]\n",
            " [25 26 22 ...  2  2  2]\n",
            " [25 25 21 ...  2  2  3]\n",
            " ...\n",
            " [82 84 88 ... 40 44 48]\n",
            " [82 87 94 ... 43 45 50]\n",
            " [82 90 99 ... 42 44 50]]\n",
            "/n/n/n/n/n/n/n\n"
          ],
          "name": "stdout"
        },
        {
          "output_type": "display_data",
          "data": {
            "image/png": "[encoded data removed]",
            "text/plain": [
              "<PIL.Image.Image image mode=L size=48x48 at 0x7FB89ACC69B0>"
            ]
          },
          "metadata": {
            "tags": []
          }
        },
        {
          "output_type": "stream",
          "text": [
            "(48, 48)\n",
            "Happy\n",
            "[[237 157 131 131]\n",
            " [521 260  53  53]]\n",
            "[[38 37 36 ... 95 94 94]\n",
            " [33 32 30 ... 95 93 93]\n",
            " [32 29 25 ... 95 93 92]\n",
            " ...\n",
            " [51 51 51 ... 56 57 60]\n",
            " [52 52 52 ... 61 58 61]\n",
            " [53 53 53 ... 66 58 61]]\n",
            "/n/n/n/n/n/n/n\n"
          ],
          "name": "stdout"
        },
        {
          "output_type": "display_data",
          "data": {
            "image/png": "[encoded data removed]",
            "text/plain": [
              "<PIL.Image.Image image mode=L size=48x48 at 0x7FB89A611240>"
            ]
          },
          "metadata": {
            "tags": []
          }
        },
        {
          "output_type": "stream",
          "text": [
            "(48, 48)\n",
            "Neutral\n",
            "[[ 26  25  22 ...   2   2   2]\n",
            " [ 26  25  22 ...   2   2   2]\n",
            " [ 25  24  21 ...   3   3   3]\n",
            " ...\n",
            " [ 82  85  89 ...  42  45  49]\n",
            " [ 84  89  96 ...  44  46  50]\n",
            " [ 85  93 101 ...  43  45  51]]\n",
            "/n/n/n/n/n/n/n\n"
          ],
          "name": "stdout"
        },
        {
          "output_type": "display_data",
          "data": {
            "image/png": "[encoded data removed]",
            "text/plain": [
              "<PIL.Image.Image image mode=L size=48x48 at 0x7FB89AE0C0F0>"
            ]
          },
          "metadata": {
            "tags": []
          }
        },
        {
          "output_type": "stream",
          "text": [
            "(48, 48)\n",
            "Happy\n",
            "[[238 160 128 128]\n",
            " [520 259  57  57]]\n",
            "[[36 26 14 ... 93 93 93]\n",
            " [31 21 12 ... 93 93 93]\n",
            " [30 18 11 ... 92 91 91]\n",
            " ...\n",
            " [52 52 52 ... 68 56 57]\n",
            " [53 53 52 ... 78 58 59]\n",
            " [53 53 52 ... 81 66 60]]\n",
            "/n/n/n/n/n/n/n\n"
          ],
          "name": "stdout"
        },
        {
          "output_type": "display_data",
          "data": {
            "image/png": "[encoded data removed]",
            "text/plain": [
              "<PIL.Image.Image image mode=L size=48x48 at 0x7FB8A7A24080>"
            ]
          },
          "metadata": {
            "tags": []
          }
        },
        {
          "output_type": "stream",
          "text": [
            "(48, 48)\n",
            "Neutral\n",
            "[[26 24 19 ...  1  1  1]\n",
            " [25 24 19 ...  2  1  1]\n",
            " [25 24 19 ...  2  1  1]\n",
            " ...\n",
            " [79 83 92 ... 49 47 44]\n",
            " [79 86 95 ... 47 46 44]\n",
            " [80 89 99 ... 47 46 44]]\n",
            "/n/n/n/n/n/n/n\n"
          ],
          "name": "stdout"
        },
        {
          "output_type": "display_data",
          "data": {
            "image/png": "[encoded data removed]",
            "text/plain": [
              "<PIL.Image.Image image mode=L size=48x48 at 0x7FB8A7A24FD0>"
            ]
          },
          "metadata": {
            "tags": []
          }
        },
        {
          "output_type": "stream",
          "text": [
            "(48, 48)\n",
            "Happy\n",
            "[[239 161 127 127]\n",
            " [520 261  55  55]]\n",
            "[[29 12  8 ... 94 93 92]\n",
            " [25 12  8 ... 93 93 93]\n",
            " [23 11  8 ... 93 93 91]\n",
            " ...\n",
            " [51 51 51 ... 57 54 57]\n",
            " [52 52 52 ... 59 57 59]\n",
            " [53 52 52 ... 65 58 60]]\n",
            "/n/n/n/n/n/n/n\n"
          ],
          "name": "stdout"
        },
        {
          "output_type": "display_data",
          "data": {
            "image/png": "[encoded data removed]",
            "text/plain": [
              "<PIL.Image.Image image mode=L size=48x48 at 0x7FB89AD9DF60>"
            ]
          },
          "metadata": {
            "tags": []
          }
        },
        {
          "output_type": "stream",
          "text": [
            "(48, 48)\n",
            "Neutral\n",
            "[[ 24  19  14 ...   2   2   1]\n",
            " [ 24  19  14 ...   1   1   1]\n",
            " [ 24  19  14 ...   1   1   1]\n",
            " ...\n",
            " [ 79  84  90 ...  53  51  47]\n",
            " [ 82  89  98 ...  52  49  46]\n",
            " [ 83  93 103 ...  51  47  46]]\n",
            "/n/n/n/n/n/n/n\n"
          ],
          "name": "stdout"
        },
        {
          "output_type": "display_data",
          "data": {
            "image/png": "[encoded data removed]",
            "text/plain": [
              "<PIL.Image.Image image mode=L size=48x48 at 0x7FB8A796C390>"
            ]
          },
          "metadata": {
            "tags": []
          }
        },
        {
          "output_type": "stream",
          "text": [
            "(48, 48)\n",
            "Happy\n",
            "[[238 163 127 127]\n",
            " [519 263  53  53]]\n",
            "[[35 28 16 ... 96 94 93]\n",
            " [31 25 15 ... 95 94 93]\n",
            " [29 21 12 ... 93 93 91]\n",
            " ...\n",
            " [52 52 52 ... 67 56 58]\n",
            " [53 52 52 ... 76 60 59]\n",
            " [53 52 53 ... 82 67 59]]\n",
            "/n/n/n/n/n/n/n\n"
          ],
          "name": "stdout"
        },
        {
          "output_type": "display_data",
          "data": {
            "image/png": "[encoded data removed]",
            "text/plain": [
              "<PIL.Image.Image image mode=L size=48x48 at 0x7FB89AD9D668>"
            ]
          },
          "metadata": {
            "tags": []
          }
        },
        {
          "output_type": "stream",
          "text": [
            "(48, 48)\n",
            "Neutral\n",
            "[[25 22 15 ...  2  2  2]\n",
            " [25 19 15 ...  1  1  1]\n",
            " [25 18 12 ...  1  1  1]\n",
            " ...\n",
            " [75 79 84 ... 52 52 50]\n",
            " [76 79 84 ... 52 52 52]\n",
            " [78 81 87 ... 52 52 52]]\n",
            "/n/n/n/n/n/n/n\n"
          ],
          "name": "stdout"
        },
        {
          "output_type": "display_data",
          "data": {
            "image/png": "[encoded data removed]",
            "text/plain": [
              "<PIL.Image.Image image mode=L size=48x48 at 0x7FB8A7AF07F0>"
            ]
          },
          "metadata": {
            "tags": []
          }
        },
        {
          "output_type": "stream",
          "text": [
            "(48, 48)\n",
            "Happy\n",
            "[[238 163 130 130]]\n",
            "[[33 32 21 ... 93 93 93]\n",
            " [36 30 19 ... 93 93 91]\n",
            " [33 28 18 ... 91 91 91]\n",
            " ...\n",
            " [52 53 53 ... 61 61 61]\n",
            " [53 53 53 ... 64 61 61]\n",
            " [53 53 54 ... 65 63 61]]\n",
            "/n/n/n/n/n/n/n\n"
          ],
          "name": "stdout"
        },
        {
          "output_type": "display_data",
          "data": {
            "image/png": "[encoded data removed]",
            "text/plain": [
              "<PIL.Image.Image image mode=L size=48x48 at 0x7FB8A3A49748>"
            ]
          },
          "metadata": {
            "tags": []
          }
        },
        {
          "output_type": "stream",
          "text": [
            "(48, 48)\n",
            "Neutral\n",
            "[[237 164 128 128]\n",
            " [517 266  53  53]]\n",
            "[[37 37 33 ... 97 95 94]\n",
            " [38 37 31 ... 97 95 94]\n",
            " [37 34 27 ... 95 95 94]\n",
            " ...\n",
            " [53 52 52 ... 59 60 61]\n",
            " [53 52 53 ... 63 59 61]\n",
            " [54 53 53 ... 70 60 63]]\n",
            "/n/n/n/n/n/n/n\n"
          ],
          "name": "stdout"
        },
        {
          "output_type": "display_data",
          "data": {
            "image/png": "[encoded data removed]",
            "text/plain": [
              "<PIL.Image.Image image mode=L size=48x48 at 0x7FB8A34358D0>"
            ]
          },
          "metadata": {
            "tags": []
          }
        },
        {
          "output_type": "stream",
          "text": [
            "(48, 48)\n",
            "Neutral\n",
            "[[25 18 12 ...  1  2  2]\n",
            " [24 16 10 ...  1  2  2]\n",
            " [19 15  9 ...  2  1  1]\n",
            " ...\n",
            " [79 80 81 ... 52 52 50]\n",
            " [76 79 82 ... 52 51 49]\n",
            " [74 78 82 ... 52 47 45]]\n",
            "/n/n/n/n/n/n/n\n"
          ],
          "name": "stdout"
        },
        {
          "output_type": "display_data",
          "data": {
            "image/png": "[encoded data removed]",
            "text/plain": [
              "<PIL.Image.Image image mode=L size=48x48 at 0x7FB8A79FB668>"
            ]
          },
          "metadata": {
            "tags": []
          }
        },
        {
          "output_type": "stream",
          "text": [
            "(48, 48)\n",
            "Happy\n",
            "[[238 164 127 127]]\n",
            "[[37 33 23 ... 96 96 96]\n",
            " [37 31 22 ... 97 96 95]\n",
            " [34 27 18 ... 97 96 95]\n",
            " ...\n",
            " [52 52 52 ... 57 59 59]\n",
            " [52 52 52 ... 58 61 61]\n",
            " [52 53 53 ... 59 60 61]]\n",
            "/n/n/n/n/n/n/n\n"
          ],
          "name": "stdout"
        },
        {
          "output_type": "display_data",
          "data": {
            "image/png": "[encoded data removed]",
            "text/plain": [
              "<PIL.Image.Image image mode=L size=48x48 at 0x7FB8A79FB668>"
            ]
          },
          "metadata": {
            "tags": []
          }
        },
        {
          "output_type": "stream",
          "text": [
            "(48, 48)\n",
            "Neutral\n",
            "[[238 165 129 129]]\n",
            "[[38 32 31 ... 96 94 93]\n",
            " [36 30 28 ... 96 94 93]\n",
            " [33 26 24 ... 96 94 93]\n",
            " ...\n",
            " [53 53 53 ... 62 61 61]\n",
            " [53 53 54 ... 63 63 61]\n",
            " [53 54 55 ... 64 64 61]]\n",
            "/n/n/n/n/n/n/n\n"
          ],
          "name": "stdout"
        },
        {
          "output_type": "display_data",
          "data": {
            "image/png": "[encoded data removed]",
            "text/plain": [
              "<PIL.Image.Image image mode=L size=48x48 at 0x7FB89AB8EE80>"
            ]
          },
          "metadata": {
            "tags": []
          }
        },
        {
          "output_type": "stream",
          "text": [
            "(48, 48)\n",
            "Happy\n",
            "[[238 165 130 130]]\n",
            "[[38 32 31 ... 95 93 93]\n",
            " [36 30 28 ... 95 94 94]\n",
            " [33 26 24 ... 95 93 93]\n",
            " ...\n",
            " [53 53 54 ... 63 63 63]\n",
            " [53 54 55 ... 64 63 63]\n",
            " [54 57 57 ... 64 64 62]]\n",
            "/n/n/n/n/n/n/n\n"
          ],
          "name": "stdout"
        },
        {
          "output_type": "display_data",
          "data": {
            "image/png": "[encoded data removed]",
            "text/plain": [
              "<PIL.Image.Image image mode=L size=48x48 at 0x7FB89AB8EE80>"
            ]
          },
          "metadata": {
            "tags": []
          }
        },
        {
          "output_type": "stream",
          "text": [
            "(48, 48)\n",
            "Fear\n",
            "[[238 166 127 127]]\n",
            "[[37 33 29 ... 95 96 97]\n",
            " [36 31 26 ... 92 97 98]\n",
            " [36 31 23 ... 84 97 98]\n",
            " ...\n",
            " [53 53 53 ... 57 60 60]\n",
            " [53 53 53 ... 59 60 61]\n",
            " [53 53 54 ... 63 60 63]]\n",
            "/n/n/n/n/n/n/n\n"
          ],
          "name": "stdout"
        },
        {
          "output_type": "display_data",
          "data": {
            "image/png": "[encoded data removed]",
            "text/plain": [
              "<PIL.Image.Image image mode=L size=48x48 at 0x7FB89AB8EE80>"
            ]
          },
          "metadata": {
            "tags": []
          }
        },
        {
          "output_type": "stream",
          "text": [
            "(48, 48)\n",
            "Neutral\n",
            "[[239 164 126 126]]\n",
            "[[ 36  36  29 ... 101  97  97]\n",
            " [ 36  32  27 ...  93  96  96]\n",
            " [ 32  29  23 ...  87  97  98]\n",
            " ...\n",
            " [ 52  52  51 ...  55  55  57]\n",
            " [ 52  53  52 ...  54  55  54]\n",
            " [ 52  53  52 ...  55  57  56]]\n",
            "/n/n/n/n/n/n/n\n"
          ],
          "name": "stdout"
        },
        {
          "output_type": "display_data",
          "data": {
            "image/png": "[encoded data removed]",
            "text/plain": [
              "<PIL.Image.Image image mode=L size=48x48 at 0x7FB89A4E0BE0>"
            ]
          },
          "metadata": {
            "tags": []
          }
        },
        {
          "output_type": "stream",
          "text": [
            "(48, 48)\n",
            "Neutral\n",
            "[[239 163 127 127]]\n",
            "[[ 36  36  30 ... 101  96 101]\n",
            " [ 37  34  30 ...  97  96  96]\n",
            " [ 33  32  27 ...  96  96  96]\n",
            " ...\n",
            " [ 53  52  53 ...  55  54  57]\n",
            " [ 53  52  53 ...  55  54  57]\n",
            " [ 53  53  53 ...  57  56  58]]\n",
            "/n/n/n/n/n/n/n\n"
          ],
          "name": "stdout"
        },
        {
          "output_type": "display_data",
          "data": {
            "image/png": "[encoded data removed]",
            "text/plain": [
              "<PIL.Image.Image image mode=L size=48x48 at 0x7FB8A795F6D8>"
            ]
          },
          "metadata": {
            "tags": []
          }
        },
        {
          "output_type": "stream",
          "text": [
            "(48, 48)\n",
            "Neutral\n",
            "[[240 164 126 126]]\n",
            "[[33 29 19 ... 97 96 96]\n",
            " [31 25 16 ... 94 97 97]\n",
            " [29 21 12 ... 87 99 99]\n",
            " ...\n",
            " [52 54 56 ... 54 57 59]\n",
            " [53 54 57 ... 56 58 60]\n",
            " [54 56 57 ... 58 60 62]]\n",
            "/n/n/n/n/n/n/n\n"
          ],
          "name": "stdout"
        },
        {
          "output_type": "display_data",
          "data": {
            "image/png": "[encoded data removed]",
            "text/plain": [
              "<PIL.Image.Image image mode=L size=48x48 at 0x7FB8A795F6D8>"
            ]
          },
          "metadata": {
            "tags": []
          }
        },
        {
          "output_type": "stream",
          "text": [
            "(48, 48)\n",
            "Neutral\n",
            "[[239 159 128 128]]\n",
            "[[ 36  37  35 ...  86  75  70]\n",
            " [ 36  36  31 ...  97  94  90]\n",
            " [ 37  35  29 ...  97 100 101]\n",
            " ...\n",
            " [ 53  53  54 ...  57  58  60]\n",
            " [ 53  53  56 ...  57  59  60]\n",
            " [ 53  53  56 ...  58  60  60]]\n",
            "/n/n/n/n/n/n/n\n"
          ],
          "name": "stdout"
        },
        {
          "output_type": "display_data",
          "data": {
            "image/png": "[encoded data removed]",
            "text/plain": [
              "<PIL.Image.Image image mode=L size=48x48 at 0x7FB8A79CCE48>"
            ]
          },
          "metadata": {
            "tags": []
          }
        },
        {
          "output_type": "stream",
          "text": [
            "(48, 48)\n",
            "Neutral\n",
            "[[239 159 124 124]]\n",
            "[[ 37  36  30 ...  35  79 106]\n",
            " [ 33  32  26 ...  22  61  95]\n",
            " [ 31  31  24 ...   9  43  82]\n",
            " ...\n",
            " [ 50  50  50 ...  59  55  56]\n",
            " [ 51  51  51 ...  59  57  56]\n",
            " [ 53  52  53 ...  60  57  56]]\n",
            "/n/n/n/n/n/n/n\n"
          ],
          "name": "stdout"
        },
        {
          "output_type": "display_data",
          "data": {
            "image/png": "[encoded data removed]",
            "text/plain": [
              "<PIL.Image.Image image mode=L size=48x48 at 0x7FB89ACC6D30>"
            ]
          },
          "metadata": {
            "tags": []
          }
        },
        {
          "output_type": "stream",
          "text": [
            "(48, 48)\n",
            "Neutral\n",
            "[[237 158 128 128]]\n",
            "[[ 40  37  37 ... 104  99 100]\n",
            " [ 40  37  35 ... 101  97  97]\n",
            " [ 39  35  32 ...  96  99  97]\n",
            " ...\n",
            " [ 52  53  54 ...  55  58  59]\n",
            " [ 53  52  54 ...  57  58  60]\n",
            " [ 56  54  56 ...  59  60  63]]\n",
            "/n/n/n/n/n/n/n\n"
          ],
          "name": "stdout"
        },
        {
          "output_type": "display_data",
          "data": {
            "image/png": "[encoded data removed]",
            "text/plain": [
              "<PIL.Image.Image image mode=L size=48x48 at 0x7FB89ACC68D0>"
            ]
          },
          "metadata": {
            "tags": []
          }
        },
        {
          "output_type": "stream",
          "text": [
            "(48, 48)\n",
            "Neutral\n",
            "[[236 156 129 129]]\n",
            "[[ 45  38  36 ... 102  96  94]\n",
            " [ 43  38  37 ... 102  99 100]\n",
            " [ 42  38  37 ... 100  97  99]\n",
            " ...\n",
            " [ 53  52  53 ...  55  58  59]\n",
            " [ 54  53  52 ...  58  59  60]\n",
            " [ 53  56  54 ...  59  60  63]]\n",
            "/n/n/n/n/n/n/n\n"
          ],
          "name": "stdout"
        },
        {
          "output_type": "display_data",
          "data": {
            "image/png": "[encoded data removed]",
            "text/plain": [
              "<PIL.Image.Image image mode=L size=48x48 at 0x7FB8A7A24EF0>"
            ]
          },
          "metadata": {
            "tags": []
          }
        },
        {
          "output_type": "stream",
          "text": [
            "(48, 48)\n",
            "Neutral\n",
            "[[238 157 125 125]]\n",
            "[[34 25 11 ... 73 94 99]\n",
            " [32 24 11 ... 59 89 99]\n",
            " [29 18 10 ... 45 79 96]\n",
            " ...\n",
            " [53 53 52 ... 57 56 57]\n",
            " [54 56 54 ... 56 56 57]\n",
            " [53 56 54 ... 56 56 57]]\n",
            "/n/n/n/n/n/n/n\n"
          ],
          "name": "stdout"
        },
        {
          "output_type": "display_data",
          "data": {
            "image/png": "[encoded data removed]",
            "text/plain": [
              "<PIL.Image.Image image mode=L size=48x48 at 0x7FB8A7B10C88>"
            ]
          },
          "metadata": {
            "tags": []
          }
        },
        {
          "output_type": "stream",
          "text": [
            "(48, 48)\n",
            "Neutral\n",
            "[[236 150 131 131]]\n",
            "[[53 49 46 ... 67 72 82]\n",
            " [46 40 39 ... 74 72 85]\n",
            " [40 36 37 ... 87 92 92]\n",
            " ...\n",
            " [53 56 56 ... 61 61 61]\n",
            " [52 54 56 ... 60 63 63]\n",
            " [53 54 58 ... 63 63 63]]\n",
            "/n/n/n/n/n/n/n\n"
          ],
          "name": "stdout"
        },
        {
          "output_type": "display_data",
          "data": {
            "image/png": "[encoded data removed]",
            "text/plain": [
              "<PIL.Image.Image image mode=L size=48x48 at 0x7FB8A7A9F780>"
            ]
          },
          "metadata": {
            "tags": []
          }
        },
        {
          "output_type": "stream",
          "text": [
            "(48, 48)\n",
            "Neutral\n",
            "[[238 149 126 126]]\n",
            "[[ 37  27  10 ...  95  93  90]\n",
            " [ 36  24  12 ...  99 100 101]\n",
            " [ 32  21  11 ...  97  99 100]\n",
            " ...\n",
            " [ 51  51  51 ...  56  56  58]\n",
            " [ 51  51  52 ...  56  57  59]\n",
            " [ 53  53  54 ...  59  60  62]]\n",
            "/n/n/n/n/n/n/n\n"
          ],
          "name": "stdout"
        },
        {
          "output_type": "display_data",
          "data": {
            "image/png": "[encoded data removed]",
            "text/plain": [
              "<PIL.Image.Image image mode=L size=48x48 at 0x7FB8A7A15208>"
            ]
          },
          "metadata": {
            "tags": []
          }
        },
        {
          "output_type": "stream",
          "text": [
            "(48, 48)\n",
            "Neutral\n",
            "[[167   4  69  69]\n",
            " [297 116  82  82]]\n",
            "[[  5   4   4 ...   2  21  50]\n",
            " [  4   4   4 ...   4  14  36]\n",
            " [  4   5   5 ...   8   9  23]\n",
            " ...\n",
            " [111  99 104 ...  59  81  92]\n",
            " [114 115 120 ...  34  45  53]\n",
            " [134 148 158 ...  23  30  44]]\n",
            "/n/n/n/n/n/n/n\n"
          ],
          "name": "stdout"
        },
        {
          "output_type": "display_data",
          "data": {
            "image/png": "[encoded data removed]",
            "text/plain": [
              "<PIL.Image.Image image mode=L size=48x48 at 0x7FB8A7A15208>"
            ]
          },
          "metadata": {
            "tags": []
          }
        },
        {
          "output_type": "stream",
          "text": [
            "(48, 48)\n",
            "Happy\n",
            "[[  7   6  11 ... 128 139 155]\n",
            " [  7   6  10 ... 138 141 177]\n",
            " [  6   6   9 ... 124 107 166]\n",
            " ...\n",
            " [113 101  93 ...   8   7   7]\n",
            " [131 102  90 ...   9   8   7]\n",
            " [122 111  86 ...   9   8   7]]\n",
            "/n/n/n/n/n/n/n\n"
          ],
          "name": "stdout"
        },
        {
          "output_type": "display_data",
          "data": {
            "image/png": "[encoded data removed]",
            "text/plain": [
              "<PIL.Image.Image image mode=L size=48x48 at 0x7FB88CF2EB00>"
            ]
          },
          "metadata": {
            "tags": []
          }
        },
        {
          "output_type": "stream",
          "text": [
            "(48, 48)\n",
            "Happy\n",
            "[[167   4  69  69]\n",
            " [297 115  82  82]]\n",
            "[[  5   4   4 ...   2  21  50]\n",
            " [  4   4   4 ...   4  14  36]\n",
            " [  4   5   5 ...   8   9  23]\n",
            " ...\n",
            " [111  99 104 ...  59  81  92]\n",
            " [114 115 120 ...  34  45  53]\n",
            " [134 148 158 ...  23  30  44]]\n",
            "/n/n/n/n/n/n/n\n"
          ],
          "name": "stdout"
        },
        {
          "output_type": "display_data",
          "data": {
            "image/png": "[encoded data removed]",
            "text/plain": [
              "<PIL.Image.Image image mode=L size=48x48 at 0x7FB8A7B10C88>"
            ]
          },
          "metadata": {
            "tags": []
          }
        },
        {
          "output_type": "stream",
          "text": [
            "(48, 48)\n",
            "Happy\n",
            "[[  7  10  14 ...  99 130 150]\n",
            " [  7  10  12 ... 130 148 144]\n",
            " [  7   9  10 ... 138 151 177]\n",
            " ...\n",
            " [ 94  94  90 ...   7   7   5]\n",
            " [ 89  88  88 ...   8   7   7]\n",
            " [ 85 109  86 ...   9   8   7]]\n",
            "/n/n/n/n/n/n/n\n"
          ],
          "name": "stdout"
        },
        {
          "output_type": "display_data",
          "data": {
            "image/png": "[encoded data removed]",
            "text/plain": [
              "<PIL.Image.Image image mode=L size=48x48 at 0x7FB89A382DA0>"
            ]
          },
          "metadata": {
            "tags": []
          }
        },
        {
          "output_type": "stream",
          "text": [
            "(48, 48)\n",
            "Happy\n",
            "[[167   4  69  69]\n",
            " [297 116  81  81]]\n",
            "[[  5   4   4 ...   2  15  43]\n",
            " [  4   4   4 ...   4  10  30]\n",
            " [  4   5   5 ...   8   9  18]\n",
            " ...\n",
            " [113 100  99 ...  66  89 100]\n",
            " [113 109 114 ...  40  54  63]\n",
            " [128 135 145 ...  25  32  45]]\n",
            "/n/n/n/n/n/n/n\n"
          ],
          "name": "stdout"
        },
        {
          "output_type": "display_data",
          "data": {
            "image/png": "[encoded data removed]",
            "text/plain": [
              "<PIL.Image.Image image mode=L size=48x48 at 0x7FB89AA595F8>"
            ]
          },
          "metadata": {
            "tags": []
          }
        },
        {
          "output_type": "stream",
          "text": [
            "(48, 48)\n",
            "Happy\n",
            "[[ 11   8  14 ... 118 136 150]\n",
            " [  9   9  14 ... 129 141 159]\n",
            " [  7   9  12 ... 131 111 134]\n",
            " ...\n",
            " [100  94  90 ...   7   7   7]\n",
            " [ 89  88  89 ...  10   8   7]\n",
            " [ 93  99  84 ...  11   9   8]]\n",
            "/n/n/n/n/n/n/n\n"
          ],
          "name": "stdout"
        },
        {
          "output_type": "display_data",
          "data": {
            "image/png": "[encoded data removed]",
            "text/plain": [
              "<PIL.Image.Image image mode=L size=48x48 at 0x7FB89AA59208>"
            ]
          },
          "metadata": {
            "tags": []
          }
        },
        {
          "output_type": "stream",
          "text": [
            "(48, 48)\n",
            "Happy\n",
            "[[167   3  69  69]\n",
            " [296 115  82  82]]\n",
            "[[  5   5   5 ...   1   4  31]\n",
            " [  5   5   4 ...   3   5  30]\n",
            " [  4   4   4 ...   5   5  22]\n",
            " ...\n",
            " [106  93  92 ...  85 103 108]\n",
            " [110  97  97 ...  66  89 100]\n",
            " [111 107 111 ...  40  54  63]]\n",
            "/n/n/n/n/n/n/n\n"
          ],
          "name": "stdout"
        },
        {
          "output_type": "display_data",
          "data": {
            "image/png": "[encoded data removed]",
            "text/plain": [
              "<PIL.Image.Image image mode=L size=48x48 at 0x7FB89A9335F8>"
            ]
          },
          "metadata": {
            "tags": []
          }
        },
        {
          "output_type": "stream",
          "text": [
            "(48, 48)\n",
            "Happy\n",
            "[[ 73  73  51 ...  92 114 127]\n",
            " [ 74  67  33 ... 108 115 142]\n",
            " [ 74  60  28 ... 129 146 160]\n",
            " ...\n",
            " [115 110 105 ...   7   7   7]\n",
            " [114 109 101 ...  10   8   7]\n",
            " [130 114  97 ...  11   9   8]]\n",
            "/n/n/n/n/n/n/n\n"
          ],
          "name": "stdout"
        },
        {
          "output_type": "display_data",
          "data": {
            "image/png": "[encoded data removed]",
            "text/plain": [
              "<PIL.Image.Image image mode=L size=48x48 at 0x7FB89AB0CF28>"
            ]
          },
          "metadata": {
            "tags": []
          }
        },
        {
          "output_type": "stream",
          "text": [
            "(48, 48)\n",
            "Happy\n",
            "[[167   3  69  69]\n",
            " [297 115  82  82]]\n",
            "[[  5   5   5 ...   1   4  31]\n",
            " [  5   5   4 ...   3   5  30]\n",
            " [  4   4   4 ...   5   5  22]\n",
            " ...\n",
            " [106  93  92 ...  87 103 106]\n",
            " [110  97  97 ...  72  95 104]\n",
            " [111 107 111 ...  46  64  73]]\n",
            "/n/n/n/n/n/n/n\n"
          ],
          "name": "stdout"
        },
        {
          "output_type": "display_data",
          "data": {
            "image/png": "[encoded data removed]",
            "text/plain": [
              "<PIL.Image.Image image mode=L size=48x48 at 0x7FB8A79DF128>"
            ]
          },
          "metadata": {
            "tags": []
          }
        },
        {
          "output_type": "stream",
          "text": [
            "(48, 48)\n",
            "Happy\n",
            "[[ 70  42  12 ... 114 127 134]\n",
            " [ 60  28  11 ... 115 142 138]\n",
            " [ 52  23  11 ... 146 160 164]\n",
            " ...\n",
            " [111 112 111 ...   7   7   5]\n",
            " [110 104 103 ...   8   7   7]\n",
            " [110 100  97 ...   9   8   7]]\n",
            "/n/n/n/n/n/n/n\n"
          ],
          "name": "stdout"
        },
        {
          "output_type": "display_data",
          "data": {
            "image/png": "[encoded data removed]",
            "text/plain": [
              "<PIL.Image.Image image mode=L size=48x48 at 0x7FB8A79DF978>"
            ]
          },
          "metadata": {
            "tags": []
          }
        },
        {
          "output_type": "stream",
          "text": [
            "(48, 48)\n",
            "Happy\n",
            "[[168   4  69  69]\n",
            " [296 114  84  84]]\n",
            "[[  5   5   5 ...   4  31  57]\n",
            " [  5   4   4 ...   5  28  52]\n",
            " [  5   5   4 ...   6  16  39]\n",
            " ...\n",
            " [ 99  97 102 ...  95 104 109]\n",
            " [106 108 110 ...  64  73  97]\n",
            " [129 137 145 ...  37  47  60]]\n",
            "/n/n/n/n/n/n/n\n"
          ],
          "name": "stdout"
        },
        {
          "output_type": "display_data",
          "data": {
            "image/png": "[encoded data removed]",
            "text/plain": [
              "<PIL.Image.Image image mode=L size=48x48 at 0x7FB8A79DF978>"
            ]
          },
          "metadata": {
            "tags": []
          }
        },
        {
          "output_type": "stream",
          "text": [
            "(48, 48)\n",
            "Happy\n",
            "[[ 75  59  26 ... 121 121 132]\n",
            " [ 68  47  22 ... 127 128 153]\n",
            " [ 63  30  15 ... 137 138 144]\n",
            " ...\n",
            " [122 102  96 ...   7   7   5]\n",
            " [138 114 102 ...   8   7   5]\n",
            " [109 117 104 ...   8   7   8]]\n",
            "/n/n/n/n/n/n/n\n"
          ],
          "name": "stdout"
        },
        {
          "output_type": "display_data",
          "data": {
            "image/png": "[encoded data removed]",
            "text/plain": [
              "<PIL.Image.Image image mode=L size=48x48 at 0x7FB89A51E160>"
            ]
          },
          "metadata": {
            "tags": []
          }
        },
        {
          "output_type": "stream",
          "text": [
            "(48, 48)\n",
            "Happy\n",
            "[[168   3  69  69]\n",
            " [296 116  82  82]]\n",
            "[[  5   5   5 ...   5  35  63]\n",
            " [  5   5   5 ...   4  31  57]\n",
            " [  5   4   4 ...   5  28  52]\n",
            " ...\n",
            " [ 94  94  97 ...  99 100 101]\n",
            " [ 97  97 102 ... 100 111 109]\n",
            " [104 106 108 ...  73  86  97]]\n",
            "/n/n/n/n/n/n/n\n"
          ],
          "name": "stdout"
        },
        {
          "output_type": "display_data",
          "data": {
            "image/png": "[encoded data removed]",
            "text/plain": [
              "<PIL.Image.Image image mode=L size=48x48 at 0x7FB89A51E160>"
            ]
          },
          "metadata": {
            "tags": []
          }
        },
        {
          "output_type": "stream",
          "text": [
            "(48, 48)\n",
            "Happy\n",
            "[[ 35  18  10 ...  93 116 136]\n",
            " [ 23  11   9 ... 113 139 159]\n",
            " [ 10   9   8 ... 134 128 148]\n",
            " ...\n",
            " [106  99  93 ...   9   8   7]\n",
            " [118 101  94 ...  11   9   8]\n",
            " [121 109  95 ...  11   9   8]]\n",
            "/n/n/n/n/n/n/n\n"
          ],
          "name": "stdout"
        },
        {
          "output_type": "display_data",
          "data": {
            "image/png": "[encoded data removed]",
            "text/plain": [
              "<PIL.Image.Image image mode=L size=48x48 at 0x7FB8A7A15588>"
            ]
          },
          "metadata": {
            "tags": []
          }
        },
        {
          "output_type": "stream",
          "text": [
            "(48, 48)\n",
            "Happy\n",
            "[[168   3  69  69]\n",
            " [297 116  82  82]]\n",
            "[[  5   5   5 ...   3  26  57]\n",
            " [  5   5   5 ...   2  23  51]\n",
            " [  5   4   4 ...   4  21  47]\n",
            " ...\n",
            " [ 94  94  97 ...  99 100 101]\n",
            " [ 97  97 102 ... 100 111 109]\n",
            " [104 106 108 ...  73  86  97]]\n",
            "/n/n/n/n/n/n/n\n"
          ],
          "name": "stdout"
        },
        {
          "output_type": "display_data",
          "data": {
            "image/png": "[encoded data removed]",
            "text/plain": [
              "<PIL.Image.Image image mode=L size=48x48 at 0x7FB89AB8EAC8>"
            ]
          },
          "metadata": {
            "tags": []
          }
        },
        {
          "output_type": "stream",
          "text": [
            "(48, 48)\n",
            "Happy\n",
            "[[ 18  10   9 ... 116 136 144]\n",
            " [ 11   9   9 ... 139 159 145]\n",
            " [  9   8   9 ... 128 148 171]\n",
            " ...\n",
            " [ 99  93  96 ...   8   7   5]\n",
            " [101  94  89 ...   9   8   7]\n",
            " [109  95  86 ...   9   8   8]]\n",
            "/n/n/n/n/n/n/n\n"
          ],
          "name": "stdout"
        },
        {
          "output_type": "display_data",
          "data": {
            "image/png": "[encoded data removed]",
            "text/plain": [
              "<PIL.Image.Image image mode=L size=48x48 at 0x7FB89A772240>"
            ]
          },
          "metadata": {
            "tags": []
          }
        },
        {
          "output_type": "stream",
          "text": [
            "(48, 48)\n",
            "Happy\n",
            "[[169   4  69  69]\n",
            " [297 116  82  82]]\n",
            "[[  5   5   5 ...   9  37  63]\n",
            " [  5   4   5 ...   9  35  58]\n",
            " [  5   4   5 ...   7  22  45]\n",
            " ...\n",
            " [ 99 103 110 ... 107 110 107]\n",
            " [107 110 120 ...  87  95 103]\n",
            " [135 144 151 ...  47  59  79]]\n",
            "/n/n/n/n/n/n/n\n"
          ],
          "name": "stdout"
        },
        {
          "output_type": "display_data",
          "data": {
            "image/png": "[encoded data removed]",
            "text/plain": [
              "<PIL.Image.Image image mode=L size=48x48 at 0x7FB8A79FB6A0>"
            ]
          },
          "metadata": {
            "tags": []
          }
        },
        {
          "output_type": "stream",
          "text": [
            "(48, 48)\n",
            "Happy\n",
            "[[ 18  10   9 ... 115 128 135]\n",
            " [ 11   9   9 ... 129 144 134]\n",
            " [  8   8   9 ... 138 158 162]\n",
            " ...\n",
            " [104  94  93 ...   8   7   5]\n",
            " [114  97  92 ...   9   8   7]\n",
            " [114 101  89 ...   9   8   8]]\n",
            "/n/n/n/n/n/n/n\n"
          ],
          "name": "stdout"
        },
        {
          "output_type": "display_data",
          "data": {
            "image/png": "[encoded data removed]",
            "text/plain": [
              "<PIL.Image.Image image mode=L size=48x48 at 0x7FB8A79FB6A0>"
            ]
          },
          "metadata": {
            "tags": []
          }
        },
        {
          "output_type": "stream",
          "text": [
            "(48, 48)\n",
            "Happy\n",
            "[[169   4  69  69]\n",
            " [295 116  83  83]]\n",
            "[[  7   5   5 ...   2  23  52]\n",
            " [  7   5   5 ...   4  22  50]\n",
            " [  6   4   4 ...   4  15  38]\n",
            " ...\n",
            " [ 99 102 109 ... 106 109 106]\n",
            " [107 109 117 ...  95 102 106]\n",
            " [132 143 149 ...  57  68  87]]\n",
            "/n/n/n/n/n/n/n\n"
          ],
          "name": "stdout"
        },
        {
          "output_type": "display_data",
          "data": {
            "image/png": "[encoded data removed]",
            "text/plain": [
              "<PIL.Image.Image image mode=L size=48x48 at 0x7FB89A382EB8>"
            ]
          },
          "metadata": {
            "tags": []
          }
        },
        {
          "output_type": "stream",
          "text": [
            "(48, 48)\n",
            "Happy\n",
            "[[ 77  54  25 ... 107 131 129]\n",
            " [ 77  39  19 ... 114 129 139]\n",
            " [ 74  27  13 ... 130 144 159]\n",
            " ...\n",
            " [ 42  14  65 ...  10   8   8]\n",
            " [ 38  18  33 ...  10   8   8]\n",
            " [ 36  28  23 ...  11   9   9]]\n",
            "/n/n/n/n/n/n/n\n"
          ],
          "name": "stdout"
        },
        {
          "output_type": "display_data",
          "data": {
            "image/png": "[encoded data removed]",
            "text/plain": [
              "<PIL.Image.Image image mode=L size=48x48 at 0x7FB89A382EB8>"
            ]
          },
          "metadata": {
            "tags": []
          }
        },
        {
          "output_type": "stream",
          "text": [
            "(48, 48)\n",
            "Happy\n",
            "[[170   4  69  69]\n",
            " [294 116  85  85]]\n",
            "[[  7   5   5 ...   9  40  67]\n",
            " [  7   5   5 ...   9  37  63]\n",
            " [  5   4   5 ...   9  32  57]\n",
            " ...\n",
            " [101 108 116 ... 103 102 102]\n",
            " [107 115 124 ... 110 108 108]\n",
            " [129 135 150 ...  87 100 108]]\n",
            "/n/n/n/n/n/n/n\n"
          ],
          "name": "stdout"
        },
        {
          "output_type": "display_data",
          "data": {
            "image/png": "[encoded data removed]",
            "text/plain": [
              "<PIL.Image.Image image mode=L size=48x48 at 0x7FB89A4E36A0>"
            ]
          },
          "metadata": {
            "tags": []
          }
        },
        {
          "output_type": "stream",
          "text": [
            "(48, 48)\n",
            "Happy\n",
            "[[ 82  79  71 ... 126 100 138]\n",
            " [ 82  79  65 ... 143 137 152]\n",
            " [ 82  80  53 ... 131 144 128]\n",
            " ...\n",
            " [ 25  36  38 ...   9   9  10]\n",
            " [ 30  37  37 ...   9   9  10]\n",
            " [ 32  38  38 ...  11  11  10]]\n",
            "/n/n/n/n/n/n/n\n"
          ],
          "name": "stdout"
        },
        {
          "output_type": "display_data",
          "data": {
            "image/png": "[encoded data removed]",
            "text/plain": [
              "<PIL.Image.Image image mode=L size=48x48 at 0x7FB89A4E35C0>"
            ]
          },
          "metadata": {
            "tags": []
          }
        },
        {
          "output_type": "stream",
          "text": [
            "(48, 48)\n",
            "Happy\n",
            "[[169   4  69  69]\n",
            " [293 114  87  87]]\n",
            "[[  7   7   5 ...   1   9  40]\n",
            " [  7   7   5 ...   1   9  37]\n",
            " [  6   5   4 ...   4   9  32]\n",
            " ...\n",
            " [ 97 102 109 ...  99 100 101]\n",
            " [103 107 115 ... 108 110 107]\n",
            " [118 123 132 ...  88  99 107]]\n",
            "/n/n/n/n/n/n/n\n"
          ],
          "name": "stdout"
        },
        {
          "output_type": "display_data",
          "data": {
            "image/png": "[encoded data removed]",
            "text/plain": [
              "<PIL.Image.Image image mode=L size=48x48 at 0x7FB89A4B46A0>"
            ]
          },
          "metadata": {
            "tags": []
          }
        },
        {
          "output_type": "stream",
          "text": [
            "(48, 48)\n",
            "Happy\n",
            "[[ 81  79  75 ... 139 181 173]\n",
            " [ 84  81  78 ... 130 137 180]\n",
            " [ 86  82  79 ... 105 132 165]\n",
            " ...\n",
            " [ 28  29  35 ...   9  10   8]\n",
            " [ 26  28  32 ...   9  10  10]\n",
            " [ 26  28  31 ...  11  10  10]]\n",
            "/n/n/n/n/n/n/n\n"
          ],
          "name": "stdout"
        },
        {
          "output_type": "display_data",
          "data": {
            "image/png": "[encoded data removed]",
            "text/plain": [
              "<PIL.Image.Image image mode=L size=48x48 at 0x7FB89AB8E898>"
            ]
          },
          "metadata": {
            "tags": []
          }
        },
        {
          "output_type": "stream",
          "text": [
            "(48, 48)\n",
            "Happy\n",
            "[[168   5  71  71]\n",
            " [296 114  87  87]]\n",
            "[[  8   7   7 ...  16  47  70]\n",
            " [  9   8   7 ...  16  44  65]\n",
            " [  6   6   5 ...  14  36  57]\n",
            " ...\n",
            " [137 151 160 ...  70  86  95]\n",
            " [164 180 191 ...  45  54  66]\n",
            " [184 194 198 ...  43  43  50]]\n",
            "/n/n/n/n/n/n/n\n"
          ],
          "name": "stdout"
        },
        {
          "output_type": "display_data",
          "data": {
            "image/png": "[encoded data removed]",
            "text/plain": [
              "<PIL.Image.Image image mode=L size=48x48 at 0x7FB89A5C0D30>"
            ]
          },
          "metadata": {
            "tags": []
          }
        },
        {
          "output_type": "stream",
          "text": [
            "(48, 48)\n",
            "Neutral\n",
            "[[ 80  77  46 ... 158 109  93]\n",
            " [ 77  58  23 ... 165 157  73]\n",
            " [ 71  44  15 ... 187 160 117]\n",
            " ...\n",
            " [ 52  57 100 ...   8  15  24]\n",
            " [ 52  36  59 ...   8  23  42]\n",
            " [ 46  37  19 ...  10  23  45]]\n",
            "/n/n/n/n/n/n/n\n"
          ],
          "name": "stdout"
        },
        {
          "output_type": "display_data",
          "data": {
            "image/png": "[encoded data removed]",
            "text/plain": [
              "<PIL.Image.Image image mode=L size=48x48 at 0x7FB89AD51860>"
            ]
          },
          "metadata": {
            "tags": []
          }
        },
        {
          "output_type": "stream",
          "text": [
            "(48, 48)\n",
            "Happy\n",
            "[[168   5  71  71]\n",
            " [295 116  85  85]]\n",
            "[[  8   7   7 ...  25  57  73]\n",
            " [  9   8   7 ...  23  51  70]\n",
            " [  8   8   5 ...  21  45  64]\n",
            " ...\n",
            " [130 143 151 ...  70  86  95]\n",
            " [158 174 185 ...  45  54  66]\n",
            " [179 192 198 ...  43  43  50]]\n",
            "/n/n/n/n/n/n/n\n"
          ],
          "name": "stdout"
        },
        {
          "output_type": "display_data",
          "data": {
            "image/png": "[encoded data removed]",
            "text/plain": [
              "<PIL.Image.Image image mode=L size=48x48 at 0x7FB88CF2E9B0>"
            ]
          },
          "metadata": {
            "tags": []
          }
        },
        {
          "output_type": "stream",
          "text": [
            "(48, 48)\n",
            "Neutral\n",
            "[[ 78  63  32 ... 123 135 187]\n",
            " [ 75  53  25 ... 128 142 181]\n",
            " [ 73  37  17 ... 139 143 186]\n",
            " ...\n",
            " [ 45  78 115 ...  10  10   8]\n",
            " [ 51  19  46 ...  10  11   9]\n",
            " [ 60  40  33 ...  11  10  10]]\n",
            "/n/n/n/n/n/n/n\n"
          ],
          "name": "stdout"
        },
        {
          "output_type": "display_data",
          "data": {
            "image/png": "[encoded data removed]",
            "text/plain": [
              "<PIL.Image.Image image mode=L size=48x48 at 0x7FB89A4DCDD8>"
            ]
          },
          "metadata": {
            "tags": []
          }
        },
        {
          "output_type": "stream",
          "text": [
            "(48, 48)\n",
            "Happy\n",
            "[[165   5  73  73]\n",
            " [295 117  82  82]]\n",
            "[[ 10   9   8 ...   7  36  65]\n",
            " [  9   8   8 ...   7  30  58]\n",
            " [  8   8   7 ...   8  29  52]\n",
            " ...\n",
            " [121 128 149 ...  38  42  44]\n",
            " [124 143 171 ...  42  52  51]\n",
            " [122 151 184 ...  39  56  60]]\n",
            "/n/n/n/n/n/n/n\n"
          ],
          "name": "stdout"
        },
        {
          "output_type": "display_data",
          "data": {
            "image/png": "[encoded data removed]",
            "text/plain": [
              "<PIL.Image.Image image mode=L size=48x48 at 0x7FB89A4DCDD8>"
            ]
          },
          "metadata": {
            "tags": []
          }
        },
        {
          "output_type": "stream",
          "text": [
            "(48, 48)\n",
            "Happy\n",
            "[[ 43  19  12 ... 131 149 113]\n",
            " [ 39  15  10 ...  90 122 135]\n",
            " [ 32  10  10 ... 103 123 145]\n",
            " ...\n",
            " [117 115 103 ...   9   7   7]\n",
            " [131 115 102 ...   9   8   7]\n",
            " [ 94 120 108 ...  10   8   8]]\n",
            "/n/n/n/n/n/n/n\n"
          ],
          "name": "stdout"
        },
        {
          "output_type": "display_data",
          "data": {
            "image/png": "[encoded data removed]",
            "text/plain": [
              "<PIL.Image.Image image mode=L size=48x48 at 0x7FB89A4E0BE0>"
            ]
          },
          "metadata": {
            "tags": []
          }
        },
        {
          "output_type": "stream",
          "text": [
            "(48, 48)\n",
            "Happy\n",
            "[[164   4  76  76]\n",
            " [295 119  80  80]]\n",
            "[[ 12  10   9 ...  80  79  78]\n",
            " [ 12  10   8 ...  72  77  79]\n",
            " [ 10  10   9 ...  64  75  81]\n",
            " ...\n",
            " [120 115 139 ...  59  56  56]\n",
            " [123 122 153 ...  56  59  61]\n",
            " [158 155 177 ...  42  53  61]]\n",
            "/n/n/n/n/n/n/n\n"
          ],
          "name": "stdout"
        },
        {
          "output_type": "display_data",
          "data": {
            "image/png": "[encoded data removed]",
            "text/plain": [
              "<PIL.Image.Image image mode=L size=48x48 at 0x7FB89A4E0F60>"
            ]
          },
          "metadata": {
            "tags": []
          }
        },
        {
          "output_type": "stream",
          "text": [
            "(48, 48)\n",
            "Happy\n",
            "[[ 19  10  10 ... 108  97 108]\n",
            " [ 10   8   8 ... 114 116 120]\n",
            " [ 10   8   8 ... 116 128 123]\n",
            " ...\n",
            " [110 103 100 ...  12   9   8]\n",
            " [115 102  99 ...  14  10   8]\n",
            " [116 101  93 ...  15  11   8]]\n",
            "/n/n/n/n/n/n/n\n"
          ],
          "name": "stdout"
        },
        {
          "output_type": "display_data",
          "data": {
            "image/png": "[encoded data removed]",
            "text/plain": [
              "<PIL.Image.Image image mode=L size=48x48 at 0x7FB8A79CCF60>"
            ]
          },
          "metadata": {
            "tags": []
          }
        },
        {
          "output_type": "stream",
          "text": [
            "(48, 48)\n",
            "Happy\n",
            "[[165   4  76  76]\n",
            " [295 118  82  82]]\n",
            "[[ 10  10   9 ...  79  78  82]\n",
            " [ 10   8   9 ...  77  79  81]\n",
            " [ 10   9   8 ...  75  81  82]\n",
            " ...\n",
            " [115 136 177 ...  56  56  53]\n",
            " [120 150 192 ...  59  61  60]\n",
            " [144 171 203 ...  53  61  60]]\n",
            "/n/n/n/n/n/n/n\n"
          ],
          "name": "stdout"
        },
        {
          "output_type": "display_data",
          "data": {
            "image/png": "[encoded data removed]",
            "text/plain": [
              "<PIL.Image.Image image mode=L size=48x48 at 0x7FB8A79CCF60>"
            ]
          },
          "metadata": {
            "tags": []
          }
        },
        {
          "output_type": "stream",
          "text": [
            "(48, 48)\n",
            "Sad\n",
            "[[ 33  15  11 ... 113 124 118]\n",
            " [ 26  11   9 ... 111 138 144]\n",
            " [ 18   9   9 ... 132 136 174]\n",
            " ...\n",
            " [101  93  90 ...   8   7   7]\n",
            " [106  93  88 ...   8   8   8]\n",
            " [123  94  86 ...   8   8   9]]\n",
            "/n/n/n/n/n/n/n\n"
          ],
          "name": "stdout"
        },
        {
          "output_type": "display_data",
          "data": {
            "image/png": "[encoded data removed]",
            "text/plain": [
              "<PIL.Image.Image image mode=L size=48x48 at 0x7FB89A4B6C18>"
            ]
          },
          "metadata": {
            "tags": []
          }
        },
        {
          "output_type": "stream",
          "text": [
            "(48, 48)\n",
            "Happy\n",
            "[[167   4  75  75]\n",
            " [296 119  80  80]]\n",
            "[[  9   9   8 ...  78  82  81]\n",
            " [  9   9   8 ...  78  82  81]\n",
            " [  9   9   8 ...  80  81  81]\n",
            " ...\n",
            " [150 178 193 ...  54  45  40]\n",
            " [172 193 199 ...  54  51  40]\n",
            " [188 200 202 ...  59  59  50]]\n",
            "/n/n/n/n/n/n/n\n"
          ],
          "name": "stdout"
        },
        {
          "output_type": "display_data",
          "data": {
            "image/png": "[encoded data removed]",
            "text/plain": [
              "<PIL.Image.Image image mode=L size=48x48 at 0x7FB89AE18048>"
            ]
          },
          "metadata": {
            "tags": []
          }
        },
        {
          "output_type": "stream",
          "text": [
            "(48, 48)\n",
            "Happy\n",
            "[[ 29  15  12 ...  86 111 151]\n",
            " [ 19  12  12 ... 111 128 150]\n",
            " [ 14  10  10 ... 127 130 138]\n",
            " ...\n",
            " [ 97  97 100 ...   8   7   8]\n",
            " [100  97  93 ...   9   8   8]\n",
            " [ 94  92  87 ...  10   8   7]]\n",
            "/n/n/n/n/n/n/n\n"
          ],
          "name": "stdout"
        },
        {
          "output_type": "display_data",
          "data": {
            "image/png": "[encoded data removed]",
            "text/plain": [
              "<PIL.Image.Image image mode=L size=48x48 at 0x7FB8A79DFEB8>"
            ]
          },
          "metadata": {
            "tags": []
          }
        },
        {
          "output_type": "stream",
          "text": [
            "(48, 48)\n",
            "Happy\n",
            "[[167   5  74  74]\n",
            " [291 117  84  84]]\n",
            "[[  9   9   8 ...  78  78  82]\n",
            " [  9   9   8 ...  74  80  81]\n",
            " [  8   8   7 ...  72  80  81]\n",
            " ...\n",
            " [158 174 189 ...  57  54  46]\n",
            " [179 189 198 ...  52  54  46]\n",
            " [193 199 201 ...  58  59  56]]\n",
            "/n/n/n/n/n/n/n\n"
          ],
          "name": "stdout"
        },
        {
          "output_type": "display_data",
          "data": {
            "image/png": "[encoded data removed]",
            "text/plain": [
              "<PIL.Image.Image image mode=L size=48x48 at 0x7FB8A79DFEB8>"
            ]
          },
          "metadata": {
            "tags": []
          }
        },
        {
          "output_type": "stream",
          "text": [
            "(48, 48)\n",
            "Neutral\n",
            "[[ 89  85  81 ... 145 156 111]\n",
            " [ 88  85  82 ... 127 156 158]\n",
            " [ 89  86  84 ...  96 100 120]\n",
            " ...\n",
            " [105 137 134 ...  11   9   8]\n",
            " [ 75 132 124 ...  11   9   8]\n",
            " [ 53 108 129 ...  14   9   8]]\n",
            "/n/n/n/n/n/n/n\n"
          ],
          "name": "stdout"
        },
        {
          "output_type": "display_data",
          "data": {
            "image/png": "[encoded data removed]",
            "text/plain": [
              "<PIL.Image.Image image mode=L size=48x48 at 0x7FB8A79DFE10>"
            ]
          },
          "metadata": {
            "tags": []
          }
        },
        {
          "output_type": "stream",
          "text": [
            "(48, 48)\n",
            "Happy\n",
            "[[166   4  76  76]\n",
            " [292 119  82  82]]\n",
            "[[ 10   9   9 ...  78  81  79]\n",
            " [  9   9   9 ...  78  82  81]\n",
            " [  9   9   9 ...  79  81  81]\n",
            " ...\n",
            " [139 174 189 ...  54  43  38]\n",
            " [155 191 199 ...  58  52  42]\n",
            " [171 201 202 ...  63  56  49]]\n",
            "/n/n/n/n/n/n/n\n"
          ],
          "name": "stdout"
        },
        {
          "output_type": "display_data",
          "data": {
            "image/png": "[encoded data removed]",
            "text/plain": [
              "<PIL.Image.Image image mode=L size=48x48 at 0x7FB89AAECEF0>"
            ]
          },
          "metadata": {
            "tags": []
          }
        },
        {
          "output_type": "stream",
          "text": [
            "(48, 48)\n",
            "Happy\n",
            "[[ 84  82  72 ... 106 108 114]\n",
            " [ 85  82  70 ... 100  86 116]\n",
            " [ 84  81  74 ... 114 111 129]\n",
            " ...\n",
            " [150 141 128 ...  12  11   9]\n",
            " [148 149 136 ...  12  11   9]\n",
            " [ 65 121 143 ...  15  10   8]]\n",
            "/n/n/n/n/n/n/n\n"
          ],
          "name": "stdout"
        },
        {
          "output_type": "display_data",
          "data": {
            "image/png": "[encoded data removed]",
            "text/plain": [
              "<PIL.Image.Image image mode=L size=48x48 at 0x7FB89AB92EB8>"
            ]
          },
          "metadata": {
            "tags": []
          }
        },
        {
          "output_type": "stream",
          "text": [
            "(48, 48)\n",
            "Happy\n",
            "[[163   5  77  77]\n",
            " [294 119  83  83]]\n",
            "[[ 15  12  10 ...  78  81  78]\n",
            " [ 14  12  10 ...  70  78  78]\n",
            " [ 11  11  10 ...  58  74  80]\n",
            " ...\n",
            " [127 125 137 ...  59  59  60]\n",
            " [149 159 164 ...  47  58  63]\n",
            " [187 199 198 ...  39  47  54]]\n",
            "/n/n/n/n/n/n/n\n"
          ],
          "name": "stdout"
        },
        {
          "output_type": "display_data",
          "data": {
            "image/png": "[encoded data removed]",
            "text/plain": [
              "<PIL.Image.Image image mode=L size=48x48 at 0x7FB89A3429B0>"
            ]
          },
          "metadata": {
            "tags": []
          }
        },
        {
          "output_type": "stream",
          "text": [
            "(48, 48)\n",
            "Sad\n",
            "[[ 51  22  11 ...  97 110 150]\n",
            " [ 44  12  10 ... 136 132 152]\n",
            " [ 37   7  10 ... 159 153 142]\n",
            " ...\n",
            " [123 114 100 ...  10   8   8]\n",
            " [ 84 116 108 ...  10  10   9]\n",
            " [ 56  85 111 ...   9  11  11]]\n",
            "/n/n/n/n/n/n/n\n"
          ],
          "name": "stdout"
        },
        {
          "output_type": "display_data",
          "data": {
            "image/png": "[encoded data removed]",
            "text/plain": [
              "<PIL.Image.Image image mode=L size=48x48 at 0x7FB89A382C88>"
            ]
          },
          "metadata": {
            "tags": []
          }
        },
        {
          "output_type": "stream",
          "text": [
            "(48, 48)\n",
            "Happy\n",
            "[[165   6  76  76]\n",
            " [290 119  83  83]]\n",
            "[[ 10   9   9 ...  79  79  78]\n",
            " [ 10   9   9 ...  75  78  80]\n",
            " [  9   9   9 ...  73  80  80]\n",
            " ...\n",
            " [137 177 201 ...  58  59  53]\n",
            " [164 192 206 ...  60  63  58]\n",
            " [198 203 208 ...  54  60  64]]\n",
            "/n/n/n/n/n/n/n\n"
          ],
          "name": "stdout"
        },
        {
          "output_type": "display_data",
          "data": {
            "image/png": "[encoded data removed]",
            "text/plain": [
              "<PIL.Image.Image image mode=L size=48x48 at 0x7FB89A3829B0>"
            ]
          },
          "metadata": {
            "tags": []
          }
        },
        {
          "output_type": "stream",
          "text": [
            "(48, 48)\n",
            "Sad\n",
            "[[ 85  82  77 ... 107 129 135]\n",
            " [ 84  81  64 ...  90  93 125]\n",
            " [ 85  78  53 ... 104 114 135]\n",
            " ...\n",
            " [102 124 128 ...  11   9  10]\n",
            " [ 33  71 103 ...  17  10   9]\n",
            " [ 35  17  24 ...  18  12  10]]\n",
            "/n/n/n/n/n/n/n\n"
          ],
          "name": "stdout"
        },
        {
          "output_type": "display_data",
          "data": {
            "image/png": "[encoded data removed]",
            "text/plain": [
              "<PIL.Image.Image image mode=L size=48x48 at 0x7FB89AB8E0B8>"
            ]
          },
          "metadata": {
            "tags": []
          }
        },
        {
          "output_type": "stream",
          "text": [
            "(48, 48)\n",
            "Happy\n",
            "[[165   6  76  76]\n",
            " [291 120  82  82]]\n",
            "[[ 10   9   9 ...  80  79  77]\n",
            " [ 10   9   9 ...  77  78  79]\n",
            " [ 10   9  10 ...  74  79  80]\n",
            " ...\n",
            " [132 171 200 ...  51  54  47]\n",
            " [163 194 205 ...  60  58  53]\n",
            " [192 203 208 ...  60  63  58]]\n",
            "/n/n/n/n/n/n/n\n"
          ],
          "name": "stdout"
        },
        {
          "output_type": "display_data",
          "data": {
            "image/png": "[encoded data removed]",
            "text/plain": [
              "<PIL.Image.Image image mode=L size=48x48 at 0x7FB89A4E0128>"
            ]
          },
          "metadata": {
            "tags": []
          }
        },
        {
          "output_type": "stream",
          "text": [
            "(48, 48)\n",
            "Angry \n",
            "[[ 74  44  13 ...  96 128 142]\n",
            " [ 64  26   7 ... 120 134 159]\n",
            " [ 54  19   6 ... 128 117 153]\n",
            " ...\n",
            " [121 114 100 ...  12   9   8]\n",
            " [120  97  96 ...  14  10   8]\n",
            " [116 121 106 ...  16  11   9]]\n",
            "/n/n/n/n/n/n/n\n"
          ],
          "name": "stdout"
        },
        {
          "output_type": "display_data",
          "data": {
            "image/png": "[encoded data removed]",
            "text/plain": [
              "<PIL.Image.Image image mode=L size=48x48 at 0x7FB8A7900208>"
            ]
          },
          "metadata": {
            "tags": []
          }
        },
        {
          "output_type": "stream",
          "text": [
            "(48, 48)\n",
            "Happy\n",
            "[[165   6  77  77]\n",
            " [288 119  83  83]]\n",
            "[[ 10   9   9 ...  79  75  73]\n",
            " [ 10   9   9 ...  78  78  74]\n",
            " [ 10  10  10 ...  78  80  76]\n",
            " ...\n",
            " [155 188 203 ...  57  50  45]\n",
            " [186 202 208 ...  60  56  44]\n",
            " [207 207 208 ...  64  61  38]]\n",
            "/n/n/n/n/n/n/n\n"
          ],
          "name": "stdout"
        },
        {
          "output_type": "display_data",
          "data": {
            "image/png": "[encoded data removed]",
            "text/plain": [
              "<PIL.Image.Image image mode=L size=48x48 at 0x7FB8A792C710>"
            ]
          },
          "metadata": {
            "tags": []
          }
        },
        {
          "output_type": "stream",
          "text": [
            "(48, 48)\n",
            "Sad\n",
            "[[ 89  86  85 ...  89 109 113]\n",
            " [ 88  85  81 ...  92 104 134]\n",
            " [ 87  84  73 ... 113 122 141]\n",
            " ...\n",
            " [175 144 123 ...  12   9   8]\n",
            " [112 133 139 ...  19  10   8]\n",
            " [ 38  72 102 ...  29  12   8]]\n",
            "/n/n/n/n/n/n/n\n"
          ],
          "name": "stdout"
        },
        {
          "output_type": "display_data",
          "data": {
            "image/png": "[encoded data removed]",
            "text/plain": [
              "<PIL.Image.Image image mode=L size=48x48 at 0x7FB89A765828>"
            ]
          },
          "metadata": {
            "tags": []
          }
        },
        {
          "output_type": "stream",
          "text": [
            "(48, 48)\n",
            "Happy\n",
            "[[164   6  77  77]\n",
            " [290 117  86  86]]\n",
            "[[ 11  10   9 ...  81  78  75]\n",
            " [ 11  10   9 ...  79  79  77]\n",
            " [ 11  10  10 ...  77  78  80]\n",
            " ...\n",
            " [123 136 178 ...  56  57  50]\n",
            " [162 172 199 ...  61  60  56]\n",
            " [198 199 206 ...  57  64  61]]\n",
            "/n/n/n/n/n/n/n\n"
          ],
          "name": "stdout"
        },
        {
          "output_type": "display_data",
          "data": {
            "image/png": "[encoded data removed]",
            "text/plain": [
              "<PIL.Image.Image image mode=L size=48x48 at 0x7FB8A792C710>"
            ]
          },
          "metadata": {
            "tags": []
          }
        },
        {
          "output_type": "stream",
          "text": [
            "(48, 48)\n",
            "Happy\n",
            "[[ 78  52  19 ... 180 152  79]\n",
            " [ 77  44  12 ... 205 179 116]\n",
            " [ 73  38  10 ... 181 179 177]\n",
            " ...\n",
            " [ 59  97 129 ...  10  11   8]\n",
            " [ 31  49  95 ...  10  10   9]\n",
            " [ 23  23  59 ...  10  10   9]]\n",
            "/n/n/n/n/n/n/n\n"
          ],
          "name": "stdout"
        },
        {
          "output_type": "display_data",
          "data": {
            "image/png": "[encoded data removed]",
            "text/plain": [
              "<PIL.Image.Image image mode=L size=48x48 at 0x7FB89A382D30>"
            ]
          },
          "metadata": {
            "tags": []
          }
        },
        {
          "output_type": "stream",
          "text": [
            "(48, 48)\n",
            "Happy\n",
            "[[164   6  78  78]\n",
            " [290 121  82  82]]\n",
            "[[ 12  10   9 ...  78  75  71]\n",
            " [ 11  10   9 ...  79  75  73]\n",
            " [ 11  10  10 ...  79  79  75]\n",
            " ...\n",
            " [141 162 195 ...  59  49  46]\n",
            " [184 192 206 ...  65  50  36]\n",
            " [208 207 208 ...  57  46  31]]\n",
            "/n/n/n/n/n/n/n\n"
          ],
          "name": "stdout"
        },
        {
          "output_type": "display_data",
          "data": {
            "image/png": "[encoded data removed]",
            "text/plain": [
              "<PIL.Image.Image image mode=L size=48x48 at 0x7FB89A382D30>"
            ]
          },
          "metadata": {
            "tags": []
          }
        },
        {
          "output_type": "stream",
          "text": [
            "(48, 48)\n",
            "Sad\n",
            "[[ 26   8  16 ... 149 130 179]\n",
            " [ 17   9  14 ... 180 163 189]\n",
            " [  9   8  11 ... 180 165 175]\n",
            " ...\n",
            " [ 39  69 109 ...   8   9  10]\n",
            " [ 29  34  61 ...   9  11  10]\n",
            " [ 28  21  29 ...  10  15  11]]\n",
            "/n/n/n/n/n/n/n\n"
          ],
          "name": "stdout"
        },
        {
          "output_type": "display_data",
          "data": {
            "image/png": "[encoded data removed]",
            "text/plain": [
              "<PIL.Image.Image image mode=L size=48x48 at 0x7FB89A382D30>"
            ]
          },
          "metadata": {
            "tags": []
          }
        },
        {
          "output_type": "stream",
          "text": [
            "(48, 48)\n",
            "Happy\n",
            "[[164   6  77  77]\n",
            " [289 120  83  83]]\n",
            "[[ 12  11   9 ...  80  78  74]\n",
            " [ 12  10   9 ...  80  78  75]\n",
            " [ 11  10  10 ...  80  79  78]\n",
            " ...\n",
            " [117 157 198 ...  49  39  30]\n",
            " [138 172 202 ...  59  53  43]\n",
            " [177 195 207 ...  65  57  38]]\n",
            "/n/n/n/n/n/n/n\n"
          ],
          "name": "stdout"
        },
        {
          "output_type": "display_data",
          "data": {
            "image/png": "[encoded data removed]",
            "text/plain": [
              "<PIL.Image.Image image mode=L size=48x48 at 0x7FB89AD51160>"
            ]
          },
          "metadata": {
            "tags": []
          }
        },
        {
          "output_type": "stream",
          "text": [
            "(48, 48)\n",
            "Happy\n",
            "[[ 43  11  17 ... 130 174 172]\n",
            " [ 36  10  16 ... 118 198 206]\n",
            " [ 26   8  16 ... 139 181 215]\n",
            " ...\n",
            " [ 80  97 112 ...   9   9  10]\n",
            " [ 67  66  85 ...  11  10  10]\n",
            " [ 65  57  58 ...  14  11  10]]\n",
            "/n/n/n/n/n/n/n\n"
          ],
          "name": "stdout"
        },
        {
          "output_type": "display_data",
          "data": {
            "image/png": "[encoded data removed]",
            "text/plain": [
              "<PIL.Image.Image image mode=L size=48x48 at 0x7FB89AA597B8>"
            ]
          },
          "metadata": {
            "tags": []
          }
        },
        {
          "output_type": "stream",
          "text": [
            "(48, 48)\n",
            "Happy\n",
            "[[162   6  77  77]\n",
            " [285 122  83  83]]\n",
            "[[ 10  10  11 ...  80  81  78]\n",
            " [ 11  11  10 ...  81  81  78]\n",
            " [ 11  11  11 ...  81  81  78]\n",
            " ...\n",
            " [117 114 134 ...  42  45  44]\n",
            " [122 122 153 ...  54  53  53]\n",
            " [149 153 178 ...  60  63  63]]\n",
            "/n/n/n/n/n/n/n\n"
          ],
          "name": "stdout"
        },
        {
          "output_type": "display_data",
          "data": {
            "image/png": "[encoded data removed]",
            "text/plain": [
              "<PIL.Image.Image image mode=L size=48x48 at 0x7FB89AA597B8>"
            ]
          },
          "metadata": {
            "tags": []
          }
        },
        {
          "output_type": "stream",
          "text": [
            "(48, 48)\n",
            "Neutral\n",
            "[[108  99  89 ... 103 128 150]\n",
            " [107  99  85 ... 102 106 165]\n",
            " [104 100  80 ...  93  81 145]\n",
            " ...\n",
            " [ 15  19  49 ...  33  22  16]\n",
            " [ 18  16  46 ...  43  31  23]\n",
            " [ 24  23  42 ...  50  38  31]]\n",
            "/n/n/n/n/n/n/n\n"
          ],
          "name": "stdout"
        },
        {
          "output_type": "display_data",
          "data": {
            "image/png": "[encoded data removed]",
            "text/plain": [
              "<PIL.Image.Image image mode=L size=48x48 at 0x7FB8A79CC128>"
            ]
          },
          "metadata": {
            "tags": []
          }
        },
        {
          "output_type": "stream",
          "text": [
            "(48, 48)\n",
            "Happy\n",
            "[[163   7  77  77]\n",
            " [285 123  82  82]]\n",
            "[[ 11  10   9 ...  79  77  75]\n",
            " [ 11   9   9 ...  79  77  75]\n",
            " [ 11  11   9 ...  79  78  77]\n",
            " ...\n",
            " [122 153 194 ...  51  50  39]\n",
            " [153 178 202 ...  61  59  47]\n",
            " [192 201 209 ...  65  66  47]]\n",
            "/n/n/n/n/n/n/n\n"
          ],
          "name": "stdout"
        },
        {
          "output_type": "display_data",
          "data": {
            "image/png": "[encoded data removed]",
            "text/plain": [
              "<PIL.Image.Image image mode=L size=48x48 at 0x7FB8A79CC128>"
            ]
          },
          "metadata": {
            "tags": []
          }
        },
        {
          "output_type": "stream",
          "text": [
            "(48, 48)\n",
            "Happy\n",
            "[[104  97  80 ...  88 106 124]\n",
            " [103  96  73 ... 107  99 100]\n",
            " [104  99  65 ... 114  95  80]\n",
            " ...\n",
            " [ 45  43  60 ...  36  22  15]\n",
            " [ 61  66  56 ...  45  30  23]\n",
            " [ 46  75  77 ...  52  39  32]]\n",
            "/n/n/n/n/n/n/n\n"
          ],
          "name": "stdout"
        },
        {
          "output_type": "display_data",
          "data": {
            "image/png": "[encoded data removed]",
            "text/plain": [
              "<PIL.Image.Image image mode=L size=48x48 at 0x7FB89A730E10>"
            ]
          },
          "metadata": {
            "tags": []
          }
        },
        {
          "output_type": "stream",
          "text": [
            "(48, 48)\n",
            "Happy\n",
            "[[162   7  77  77]\n",
            " [285 122  83  83]]\n",
            "[[ 11  10  10 ...  79  76  75]\n",
            " [ 11   9  10 ...  81  77  77]\n",
            " [ 11  11  10 ...  80  78  78]\n",
            " ...\n",
            " [112 124 166 ...  46  50  45]\n",
            " [130 145 185 ...  59  59  54]\n",
            " [171 180 200 ...  61  67  63]]\n",
            "/n/n/n/n/n/n/n\n"
          ],
          "name": "stdout"
        },
        {
          "output_type": "display_data",
          "data": {
            "image/png": "[encoded data removed]",
            "text/plain": [
              "<PIL.Image.Image image mode=L size=48x48 at 0x7FB89AD9D240>"
            ]
          },
          "metadata": {
            "tags": []
          }
        },
        {
          "output_type": "stream",
          "text": [
            "(48, 48)\n",
            "Happy\n",
            "[[102  95  70 ... 106 115 128]\n",
            " [101  90  60 ... 101 135 130]\n",
            " [ 99  85  36 ... 113 121 172]\n",
            " ...\n",
            " [ 36  29  58 ...  14  12  11]\n",
            " [ 57  38  18 ...  16  14  10]\n",
            " [ 73  51  43 ...  20  15  12]]\n",
            "/n/n/n/n/n/n/n\n"
          ],
          "name": "stdout"
        },
        {
          "output_type": "display_data",
          "data": {
            "image/png": "[encoded data removed]",
            "text/plain": [
              "<PIL.Image.Image image mode=L size=48x48 at 0x7FB89A730A90>"
            ]
          },
          "metadata": {
            "tags": []
          }
        },
        {
          "output_type": "stream",
          "text": [
            "(48, 48)\n",
            "Happy\n",
            "[[162   7  78  78]\n",
            " [286 122  84  84]]\n",
            "[[ 11  11   8 ...  74  73  73]\n",
            " [ 11   9  10 ...  76  75  74]\n",
            " [ 11  10  10 ...  77  77  75]\n",
            " ...\n",
            " [123 139 181 ...  54  47  38]\n",
            " [160 172 196 ...  65  56  40]\n",
            " [198 201 207 ...  68  60  35]]\n",
            "/n/n/n/n/n/n/n\n"
          ],
          "name": "stdout"
        },
        {
          "output_type": "display_data",
          "data": {
            "image/png": "[encoded data removed]",
            "text/plain": [
              "<PIL.Image.Image image mode=L size=48x48 at 0x7FB89ACFF5F8>"
            ]
          },
          "metadata": {
            "tags": []
          }
        },
        {
          "output_type": "stream",
          "text": [
            "(48, 48)\n",
            "Happy\n",
            "[[ 93  65  12 ...  97 117 146]\n",
            " [ 88  57   9 ... 141 139 168]\n",
            " [ 79  37   6 ... 133 121 167]\n",
            " ...\n",
            " [ 31  29  88 ...   9   9   9]\n",
            " [ 43  33  19 ...  11  10   9]\n",
            " [ 52  43  18 ...  12  11  11]]\n",
            "/n/n/n/n/n/n/n\n"
          ],
          "name": "stdout"
        },
        {
          "output_type": "display_data",
          "data": {
            "image/png": "[encoded data removed]",
            "text/plain": [
              "<PIL.Image.Image image mode=L size=48x48 at 0x7FB89A51E3C8>"
            ]
          },
          "metadata": {
            "tags": []
          }
        },
        {
          "output_type": "stream",
          "text": [
            "(48, 48)\n",
            "Happy\n",
            "[[162   7  78  78]\n",
            " [286 122  84  84]]\n",
            "[[ 11  11   8 ...  74  73  73]\n",
            " [ 11   9  10 ...  76  75  74]\n",
            " [ 11  10  10 ...  77  77  75]\n",
            " ...\n",
            " [121 137 186 ...  54  47  38]\n",
            " [156 167 201 ...  65  56  40]\n",
            " [198 201 207 ...  68  60  35]]\n",
            "/n/n/n/n/n/n/n\n"
          ],
          "name": "stdout"
        },
        {
          "output_type": "display_data",
          "data": {
            "image/png": "[encoded data removed]",
            "text/plain": [
              "<PIL.Image.Image image mode=L size=48x48 at 0x7FB89A76A748>"
            ]
          },
          "metadata": {
            "tags": []
          }
        },
        {
          "output_type": "stream",
          "text": [
            "(48, 48)\n",
            "Happy\n",
            "[[ 93  65  12 ...  97 117 146]\n",
            " [ 88  57   9 ... 141 139 168]\n",
            " [ 79  37   6 ... 133 121 167]\n",
            " ...\n",
            " [ 31  29  88 ...   9   9   9]\n",
            " [ 43  33  19 ...  11  10   9]\n",
            " [ 52  43  18 ...  12  11  11]]\n",
            "/n/n/n/n/n/n/n\n"
          ],
          "name": "stdout"
        },
        {
          "output_type": "display_data",
          "data": {
            "image/png": "[encoded data removed]",
            "text/plain": [
              "<PIL.Image.Image image mode=L size=48x48 at 0x7FB8A3A49748>"
            ]
          },
          "metadata": {
            "tags": []
          }
        },
        {
          "output_type": "stream",
          "text": [
            "(48, 48)\n",
            "Happy\n",
            "[[162   7  78  78]\n",
            " [284 123  83  83]]\n",
            "[[ 10   8   5 ...  73  71  70]\n",
            " [  9   8   7 ...  76  74  74]\n",
            " [  9   8   7 ...  77  77  75]\n",
            " ...\n",
            " [114 139 188 ...  50  40  30]\n",
            " [136 160 202 ...  60  52  42]\n",
            " [180 191 208 ...  68  59  37]]\n",
            "/n/n/n/n/n/n/n\n"
          ],
          "name": "stdout"
        },
        {
          "output_type": "display_data",
          "data": {
            "image/png": "[encoded data removed]",
            "text/plain": [
              "<PIL.Image.Image image mode=L size=48x48 at 0x7FB89A765940>"
            ]
          },
          "metadata": {
            "tags": []
          }
        },
        {
          "output_type": "stream",
          "text": [
            "(48, 48)\n",
            "Happy\n",
            "[[106 100  92 ...  86 111 130]\n",
            " [103  97  74 ...  97 127 134]\n",
            " [103  92  56 ... 103 111 151]\n",
            " ...\n",
            " [ 53  64  46 ...  12  12   9]\n",
            " [ 42  40  42 ...  14  12   9]\n",
            " [ 35  36  36 ...  17  14  11]]\n",
            "/n/n/n/n/n/n/n\n"
          ],
          "name": "stdout"
        },
        {
          "output_type": "display_data",
          "data": {
            "image/png": "[encoded data removed]",
            "text/plain": [
              "<PIL.Image.Image image mode=L size=48x48 at 0x7FB89A900E80>"
            ]
          },
          "metadata": {
            "tags": []
          }
        },
        {
          "output_type": "stream",
          "text": [
            "(48, 48)\n",
            "Happy\n",
            "[[161   6  80  80]\n",
            " [284 122  83  83]]\n",
            "[[ 11   8   5 ...  70  67  66]\n",
            " [ 11   9   7 ...  68  68  67]\n",
            " [ 11  10   8 ...  72  72  69]\n",
            " ...\n",
            " [122 123 155 ...  46  40  50]\n",
            " [148 152 171 ...  52  39  53]\n",
            " [188 195 201 ...  53  35  51]]\n",
            "/n/n/n/n/n/n/n\n"
          ],
          "name": "stdout"
        },
        {
          "output_type": "display_data",
          "data": {
            "image/png": "[encoded data removed]",
            "text/plain": [
              "<PIL.Image.Image image mode=L size=48x48 at 0x7FB89ACC69E8>"
            ]
          },
          "metadata": {
            "tags": []
          }
        },
        {
          "output_type": "stream",
          "text": [
            "(48, 48)\n",
            "Happy\n",
            "[[106 101  95 ... 151  90 102]\n",
            " [106 100  92 ...  99 124 132]\n",
            " [103  97  74 ... 114 136 123]\n",
            " ...\n",
            " [ 30  45  45 ...  10   7   8]\n",
            " [ 30  38  36 ...  11   9   8]\n",
            " [ 29  35  35 ...  11  10   9]]\n",
            "/n/n/n/n/n/n/n\n"
          ],
          "name": "stdout"
        },
        {
          "output_type": "display_data",
          "data": {
            "image/png": "[encoded data removed]",
            "text/plain": [
              "<PIL.Image.Image image mode=L size=48x48 at 0x7FB89ACC69E8>"
            ]
          },
          "metadata": {
            "tags": []
          }
        },
        {
          "output_type": "stream",
          "text": [
            "(48, 48)\n",
            "Happy\n",
            "[[161   6  80  80]\n",
            " [283 124  82  82]]\n",
            "[[ 11   8   5 ...  72  70  64]\n",
            " [ 11   9   7 ...  71  67  65]\n",
            " [ 11  10   8 ...  68  67  67]\n",
            " ...\n",
            " [116 127 167 ...  38  42  44]\n",
            " [131 143 184 ...  44  45  59]\n",
            " [173 179 198 ...  42  39  64]]\n",
            "/n/n/n/n/n/n/n\n"
          ],
          "name": "stdout"
        },
        {
          "output_type": "display_data",
          "data": {
            "image/png": "[encoded data removed]",
            "text/plain": [
              "<PIL.Image.Image image mode=L size=48x48 at 0x7FB89A4B6C50>"
            ]
          },
          "metadata": {
            "tags": []
          }
        },
        {
          "output_type": "stream",
          "text": [
            "(48, 48)\n",
            "Happy\n",
            "[[109 103 100 ...  70  80 120]\n",
            " [108 103  93 ...  95  96 107]\n",
            " [107 102  84 ... 115 100  94]\n",
            " ...\n",
            " [ 28  29  29 ...  14  12   9]\n",
            " [ 28  28  28 ...  17  12  11]\n",
            " [ 26  28  28 ...  19  14  14]]\n",
            "/n/n/n/n/n/n/n\n"
          ],
          "name": "stdout"
        },
        {
          "output_type": "display_data",
          "data": {
            "image/png": "[encoded data removed]",
            "text/plain": [
              "<PIL.Image.Image image mode=L size=48x48 at 0x7FB89A4B6198>"
            ]
          },
          "metadata": {
            "tags": []
          }
        },
        {
          "output_type": "stream",
          "text": [
            "(48, 48)\n",
            "Happy\n",
            "[[161   7  80  80]\n",
            " [284 124  82  82]]\n",
            "[[ 11   9   7 ...  72  70  64]\n",
            " [ 11  10   8 ...  71  67  66]\n",
            " [ 11  10   8 ...  68  68  68]\n",
            " ...\n",
            " [127 148 189 ...  42  52  56]\n",
            " [164 173 199 ...  37  52  67]\n",
            " [201 203 206 ...  37  53  72]]\n",
            "/n/n/n/n/n/n/n\n"
          ],
          "name": "stdout"
        },
        {
          "output_type": "display_data",
          "data": {
            "image/png": "[encoded data removed]",
            "text/plain": [
              "<PIL.Image.Image image mode=L size=48x48 at 0x7FB8A79B7A90>"
            ]
          },
          "metadata": {
            "tags": []
          }
        },
        {
          "output_type": "stream",
          "text": [
            "(48, 48)\n",
            "Happy\n",
            "[[104 103  84 ...  79 124 132]\n",
            " [103  96  61 ...  93 110 137]\n",
            " [102  85  43 ... 100  99 148]\n",
            " ...\n",
            " [ 29  29  32 ...  12   9   7]\n",
            " [ 29  29  31 ...  12  10   8]\n",
            " [ 28  26  31 ...  14  12  10]]\n",
            "/n/n/n/n/n/n/n\n"
          ],
          "name": "stdout"
        },
        {
          "output_type": "display_data",
          "data": {
            "image/png": "[encoded data removed]",
            "text/plain": [
              "<PIL.Image.Image image mode=L size=48x48 at 0x7FB89A4DCB38>"
            ]
          },
          "metadata": {
            "tags": []
          }
        },
        {
          "output_type": "stream",
          "text": [
            "(48, 48)\n",
            "Happy\n",
            "[[160   7  81  81]\n",
            " [285 126  80  80]]\n",
            "[[ 12  11   9 ...  71  68  64]\n",
            " [ 12  11  10 ...  71  68  65]\n",
            " [ 12  11  10 ...  68  68  67]\n",
            " ...\n",
            " [150 157 181 ...  43  63  59]\n",
            " [189 196 200 ...  40  64  71]\n",
            " [209 213 210 ...  50  72  80]]\n",
            "/n/n/n/n/n/n/n\n"
          ],
          "name": "stdout"
        },
        {
          "output_type": "display_data",
          "data": {
            "image/png": "[encoded data removed]",
            "text/plain": [
              "<PIL.Image.Image image mode=L size=48x48 at 0x7FB89A4DCB38>"
            ]
          },
          "metadata": {
            "tags": []
          }
        },
        {
          "output_type": "stream",
          "text": [
            "(48, 48)\n",
            "Happy\n",
            "[[ 81  38  10 ... 103  99 106]\n",
            " [ 73  27   9 ... 117 103  88]\n",
            " [ 74  27   9 ... 113 111  79]\n",
            " ...\n",
            " [ 30  43  58 ...  12  11   9]\n",
            " [ 30  43  51 ...  14  12   9]\n",
            " [ 30  38  45 ...  17  12  11]]\n",
            "/n/n/n/n/n/n/n\n"
          ],
          "name": "stdout"
        },
        {
          "output_type": "display_data",
          "data": {
            "image/png": "[encoded data removed]",
            "text/plain": [
              "<PIL.Image.Image image mode=L size=48x48 at 0x7FB89A409EB8>"
            ]
          },
          "metadata": {
            "tags": []
          }
        },
        {
          "output_type": "stream",
          "text": [
            "(48, 48)\n",
            "Happy\n",
            "[[159   8  79  79]\n",
            " [285 125  82  82]]\n",
            "[[ 12  10  10 ...  78  74  71]\n",
            " [ 13  10  10 ...  77  74  70]\n",
            " [ 13  11  10 ...  79  76  72]\n",
            " ...\n",
            " [121 120 141 ...  56  43  38]\n",
            " [137 142 160 ...  65  51  40]\n",
            " [177 183 192 ...  72  53  36]]\n",
            "/n/n/n/n/n/n/n\n"
          ],
          "name": "stdout"
        },
        {
          "output_type": "display_data",
          "data": {
            "image/png": "[encoded data removed]",
            "text/plain": [
              "<PIL.Image.Image image mode=L size=48x48 at 0x7FB89A409EB8>"
            ]
          },
          "metadata": {
            "tags": []
          }
        },
        {
          "output_type": "stream",
          "text": [
            "(48, 48)\n",
            "Neutral\n",
            "[[ 97  61  18 ... 118 123 122]\n",
            " [ 85  40  11 ... 121 148 122]\n",
            " [ 68  25  10 ...  93 143 166]\n",
            " ...\n",
            " [ 56  65  64 ...  10   8   8]\n",
            " [ 47  64  66 ...  12  10  10]\n",
            " [ 42  59  61 ...  15  12  11]]\n",
            "/n/n/n/n/n/n/n\n"
          ],
          "name": "stdout"
        },
        {
          "output_type": "display_data",
          "data": {
            "image/png": "[encoded data removed]",
            "text/plain": [
              "<PIL.Image.Image image mode=L size=48x48 at 0x7FB89ACC6F60>"
            ]
          },
          "metadata": {
            "tags": []
          }
        },
        {
          "output_type": "stream",
          "text": [
            "(48, 48)\n",
            "Happy\n",
            "[[158   9  78  78]\n",
            " [284 124  84  84]]\n",
            "[[ 15  12  10 ...  80  78  75]\n",
            " [ 13  13  11 ...  80  80  78]\n",
            " [ 13  12  10 ...  77  81  79]\n",
            " ...\n",
            " [122 121 123 ...  46  51  47]\n",
            " [127 132 141 ...  59  60  57]\n",
            " [158 169 178 ...  57  67  65]]\n",
            "/n/n/n/n/n/n/n\n"
          ],
          "name": "stdout"
        },
        {
          "output_type": "display_data",
          "data": {
            "image/png": "[encoded data removed]",
            "text/plain": [
              "<PIL.Image.Image image mode=L size=48x48 at 0x7FB89AD51E10>"
            ]
          },
          "metadata": {
            "tags": []
          }
        },
        {
          "output_type": "stream",
          "text": [
            "(48, 48)\n",
            "Neutral\n",
            "[[106  94  50 ...  99 117 135]\n",
            " [104  84  37 ... 116 125 159]\n",
            " [ 97  64  19 ... 138 114 142]\n",
            " ...\n",
            " [ 45  41  35 ...  10  10   9]\n",
            " [ 63  44  29 ...  12  11  11]\n",
            " [ 63  54  37 ...  12  11  11]]\n",
            "/n/n/n/n/n/n/n\n"
          ],
          "name": "stdout"
        },
        {
          "output_type": "display_data",
          "data": {
            "image/png": "[encoded data removed]",
            "text/plain": [
              "<PIL.Image.Image image mode=L size=48x48 at 0x7FB89A7655F8>"
            ]
          },
          "metadata": {
            "tags": []
          }
        },
        {
          "output_type": "stream",
          "text": [
            "(48, 48)\n",
            "Happy\n",
            "[[160  10  77  77]\n",
            " [285 127  81  81]]\n",
            "[[ 10  10   8 ...  79  77  73]\n",
            " [ 10   9   8 ...  81  79  76]\n",
            " [ 10   9   8 ...  81  78  78]\n",
            " ...\n",
            " [130 170 203 ...  50  44  35]\n",
            " [143 187 213 ...  57  53  43]\n",
            " [168 200 215 ...  67  59  42]]\n",
            "/n/n/n/n/n/n/n\n"
          ],
          "name": "stdout"
        },
        {
          "output_type": "display_data",
          "data": {
            "image/png": "[encoded data removed]",
            "text/plain": [
              "<PIL.Image.Image image mode=L size=48x48 at 0x7FB89A746400>"
            ]
          },
          "metadata": {
            "tags": []
          }
        },
        {
          "output_type": "stream",
          "text": [
            "(48, 48)\n",
            "Happy\n",
            "[[ 28   8  15 ... 101 138 146]\n",
            " [ 18  10  16 ...  87 123 179]\n",
            " [ 10  12  15 ...  88  99 170]\n",
            " ...\n",
            " [113 101 100 ...  12  11  10]\n",
            " [ 86  97 104 ...  15  13  10]\n",
            " [ 46  70 106 ...  17  14  10]]\n",
            "/n/n/n/n/n/n/n\n"
          ],
          "name": "stdout"
        },
        {
          "output_type": "display_data",
          "data": {
            "image/png": "[encoded data removed]",
            "text/plain": [
              "<PIL.Image.Image image mode=L size=48x48 at 0x7FB89AD163C8>"
            ]
          },
          "metadata": {
            "tags": []
          }
        },
        {
          "output_type": "stream",
          "text": [
            "(48, 48)\n",
            "Happy\n",
            "[[160  10  78  78]\n",
            " [285 128  80  80]]\n",
            "[[ 10   9   7 ...  75  72  70]\n",
            " [ 10   9   7 ...  78  75  73]\n",
            " [  9   8   7 ...  78  78  74]\n",
            " ...\n",
            " [159 202 213 ...  48  39  42]\n",
            " [176 213 214 ...  54  40  50]\n",
            " [196 213 214 ...  54  38  51]]\n",
            "/n/n/n/n/n/n/n\n"
          ],
          "name": "stdout"
        },
        {
          "output_type": "display_data",
          "data": {
            "image/png": "[encoded data removed]",
            "text/plain": [
              "<PIL.Image.Image image mode=L size=48x48 at 0x7FB89AAF29B0>"
            ]
          },
          "metadata": {
            "tags": []
          }
        },
        {
          "output_type": "stream",
          "text": [
            "(48, 48)\n",
            "Happy\n",
            "[[ 17  11  17 ... 113  90 128]\n",
            " [ 12  14  16 ... 122  87 104]\n",
            " [ 10  14  14 ... 125 101  90]\n",
            " ...\n",
            " [102 100 104 ...  14  12  11]\n",
            " [101 101 100 ...  16  15  11]\n",
            " [ 97 103  93 ...  17  17  13]]\n",
            "/n/n/n/n/n/n/n\n"
          ],
          "name": "stdout"
        },
        {
          "output_type": "display_data",
          "data": {
            "image/png": "[encoded data removed]",
            "text/plain": [
              "<PIL.Image.Image image mode=L size=48x48 at 0x7FB8A7A32630>"
            ]
          },
          "metadata": {
            "tags": []
          }
        },
        {
          "output_type": "stream",
          "text": [
            "(48, 48)\n",
            "Happy\n",
            "[[158   9  80  80]\n",
            " [286 127  83  83]]\n",
            "[[ 11  10   9 ...  79  75  71]\n",
            " [ 10  10   9 ...  79  77  72]\n",
            " [ 11  10   9 ...  80  77  74]\n",
            " ...\n",
            " [124 130 182 ...  52  38  49]\n",
            " [155 162 191 ...  54  40  58]\n",
            " [205 206 207 ...  60  38  59]]\n",
            "/n/n/n/n/n/n/n\n"
          ],
          "name": "stdout"
        },
        {
          "output_type": "display_data",
          "data": {
            "image/png": "[encoded data removed]",
            "text/plain": [
              "<PIL.Image.Image image mode=L size=48x48 at 0x7FB89ACC62B0>"
            ]
          },
          "metadata": {
            "tags": []
          }
        },
        {
          "output_type": "stream",
          "text": [
            "(48, 48)\n",
            "Happy\n",
            "[[ 16  16  16 ... 151 186 175]\n",
            " [ 15  15  15 ... 137 174 196]\n",
            " [ 12  12  14 ... 168 195 220]\n",
            " ...\n",
            " [ 94  92  88 ...   8   8   8]\n",
            " [ 87  85  82 ...   9   8   8]\n",
            " [ 84  82  78 ...   9   8   8]]\n",
            "/n/n/n/n/n/n/n\n"
          ],
          "name": "stdout"
        },
        {
          "output_type": "display_data",
          "data": {
            "image/png": "[encoded data removed]",
            "text/plain": [
              "<PIL.Image.Image image mode=L size=48x48 at 0x7FB89A746A58>"
            ]
          },
          "metadata": {
            "tags": []
          }
        },
        {
          "output_type": "stream",
          "text": [
            "(48, 48)\n",
            "Happy\n",
            "[[158   9  80  80]\n",
            " [286 128  81  81]]\n",
            "[[ 11   9   9 ...  79  74  68]\n",
            " [ 10  10   9 ...  79  75  70]\n",
            " [ 11   9   9 ...  80  77  72]\n",
            " ...\n",
            " [116 135 181 ...  46  39  47]\n",
            " [135 152 194 ...  49  44  59]\n",
            " [184 189 201 ...  53  43  65]]\n",
            "/n/n/n/n/n/n/n\n"
          ],
          "name": "stdout"
        },
        {
          "output_type": "display_data",
          "data": {
            "image/png": "[encoded data removed]",
            "text/plain": [
              "<PIL.Image.Image image mode=L size=48x48 at 0x7FB89A7460B8>"
            ]
          },
          "metadata": {
            "tags": []
          }
        },
        {
          "output_type": "stream",
          "text": [
            "(48, 48)\n",
            "Happy\n",
            "[[ 15  15  16 ... 142 136 145]\n",
            " [ 14  14  15 ... 123 173 144]\n",
            " [ 12  12  12 ... 118 184 167]\n",
            " ...\n",
            " [ 87  86  84 ...   9   8   8]\n",
            " [ 82  82  80 ...  10   8   8]\n",
            " [ 80  79  78 ...  11   9   8]]\n",
            "/n/n/n/n/n/n/n\n"
          ],
          "name": "stdout"
        },
        {
          "output_type": "display_data",
          "data": {
            "image/png": "[encoded data removed]",
            "text/plain": [
              "<PIL.Image.Image image mode=L size=48x48 at 0x7FB89A76A240>"
            ]
          },
          "metadata": {
            "tags": []
          }
        },
        {
          "output_type": "stream",
          "text": [
            "(48, 48)\n",
            "Happy\n",
            "[[159  11  78  78]\n",
            " [285 128  82  82]]\n",
            "[[  9   9   9 ...  80  79  73]\n",
            " [ 10   9   8 ...  80  79  74]\n",
            " [ 10   9   8 ...  79  79  75]\n",
            " ...\n",
            " [148 193 203 ...  51  37  37]\n",
            " [165 206 208 ...  54  42  50]\n",
            " [184 207 209 ...  59  44  53]]\n",
            "/n/n/n/n/n/n/n\n"
          ],
          "name": "stdout"
        },
        {
          "output_type": "display_data",
          "data": {
            "image/png": "[encoded data removed]",
            "text/plain": [
              "<PIL.Image.Image image mode=L size=48x48 at 0x7FB89AB79F28>"
            ]
          },
          "metadata": {
            "tags": []
          }
        },
        {
          "output_type": "stream",
          "text": [
            "(48, 48)\n",
            "Happy\n",
            "[[ 32  19  15 ... 146 124 154]\n",
            " [ 19  17  15 ... 150 152 142]\n",
            " [ 15  12  12 ... 143 177 156]\n",
            " ...\n",
            " [107 101  85 ...   9   8   8]\n",
            " [ 78 104  86 ...  10   8   8]\n",
            " [ 71  99  85 ...  10   8   8]]\n",
            "/n/n/n/n/n/n/n\n"
          ],
          "name": "stdout"
        },
        {
          "output_type": "display_data",
          "data": {
            "image/png": "[encoded data removed]",
            "text/plain": [
              "<PIL.Image.Image image mode=L size=48x48 at 0x7FB89AB79F28>"
            ]
          },
          "metadata": {
            "tags": []
          }
        },
        {
          "output_type": "stream",
          "text": [
            "(48, 48)\n",
            "Happy\n",
            "[[158  11  79  79]\n",
            " [284 128  82  82]]\n",
            "[[ 10   9   9 ...  80  77  71]\n",
            " [ 10   9   9 ...  80  77  72]\n",
            " [ 10  10   8 ...  80  78  73]\n",
            " ...\n",
            " [131 182 208 ...  50  43  50]\n",
            " [152 194 212 ...  53  44  58]\n",
            " [189 201 209 ...  56  44  59]]\n",
            "/n/n/n/n/n/n/n\n"
          ],
          "name": "stdout"
        },
        {
          "output_type": "display_data",
          "data": {
            "image/png": "[encoded data removed]",
            "text/plain": [
              "<PIL.Image.Image image mode=L size=48x48 at 0x7FB89AE394E0>"
            ]
          },
          "metadata": {
            "tags": []
          }
        },
        {
          "output_type": "stream",
          "text": [
            "(48, 48)\n",
            "Happy\n",
            "[[ 66  31  19 ... 142 124 132]\n",
            " [ 72  23  18 ... 137 155 135]\n",
            " [ 50  16  16 ... 129 166 159]\n",
            " ...\n",
            " [ 37  94 137 ...  10   8   8]\n",
            " [ 37  28  84 ...  11  10   8]\n",
            " [ 37  26  59 ...  11  10   8]]\n",
            "/n/n/n/n/n/n/n\n"
          ],
          "name": "stdout"
        },
        {
          "output_type": "display_data",
          "data": {
            "image/png": "[encoded data removed]",
            "text/plain": [
              "<PIL.Image.Image image mode=L size=48x48 at 0x7FB89AE039E8>"
            ]
          },
          "metadata": {
            "tags": []
          }
        },
        {
          "output_type": "stream",
          "text": [
            "(48, 48)\n",
            "Happy\n",
            "[[156   9  81  81]\n",
            " [283 128  82  82]]\n",
            "[[ 11  11  10 ...  77  71  66]\n",
            " [ 11  11  10 ...  79  72  66]\n",
            " [ 11  11  10 ...  79  74  68]\n",
            " ...\n",
            " [118 114 141 ...  43  43  46]\n",
            " [127 128 157 ...  45  50  60]\n",
            " [167 171 182 ...  47  50  68]]\n",
            "/n/n/n/n/n/n/n\n"
          ],
          "name": "stdout"
        },
        {
          "output_type": "display_data",
          "data": {
            "image/png": "[encoded data removed]",
            "text/plain": [
              "<PIL.Image.Image image mode=L size=48x48 at 0x7FB89A905BA8>"
            ]
          },
          "metadata": {
            "tags": []
          }
        },
        {
          "output_type": "stream",
          "text": [
            "(48, 48)\n",
            "Neutral\n",
            "[[ 96  47  19 ... 144 124 113]\n",
            " [ 95  36  15 ... 123 151 137]\n",
            " [ 72  23  12 ... 121 151 162]\n",
            " ...\n",
            " [ 36  31  23 ...  11  10   8]\n",
            " [ 36  37  38 ...  12  11   9]\n",
            " [ 36  37  36 ...  14  11  10]]\n",
            "/n/n/n/n/n/n/n\n"
          ],
          "name": "stdout"
        },
        {
          "output_type": "display_data",
          "data": {
            "image/png": "[encoded data removed]",
            "text/plain": [
              "<PIL.Image.Image image mode=L size=48x48 at 0x7FB88D3AFEB8>"
            ]
          },
          "metadata": {
            "tags": []
          }
        },
        {
          "output_type": "stream",
          "text": [
            "(48, 48)\n",
            "Happy\n",
            "[[156  11  81  81]\n",
            " [283 130  80  80]]\n",
            "[[ 11  11   9 ...  77  71  66]\n",
            " [ 11  11   9 ...  77  72  70]\n",
            " [ 12  10  10 ...  78  73  70]\n",
            " ...\n",
            " [167 171 182 ...  45  56  68]\n",
            " [207 211 208 ...  44  54  75]\n",
            " [214 215 213 ...  39  59  84]]\n",
            "/n/n/n/n/n/n/n\n"
          ],
          "name": "stdout"
        },
        {
          "output_type": "display_data",
          "data": {
            "image/png": "[encoded data removed]",
            "text/plain": [
              "<PIL.Image.Image image mode=L size=48x48 at 0x7FB88D3AFC88>"
            ]
          },
          "metadata": {
            "tags": []
          }
        },
        {
          "output_type": "stream",
          "text": [
            "(48, 48)\n",
            "Happy\n",
            "[[ 23  11  14 ... 109 107 130]\n",
            " [ 19  10  12 ... 121 118 124]\n",
            " [ 17  11  11 ... 122 110 109]\n",
            " ...\n",
            " [ 36  54  31 ...  14  12  11]\n",
            " [ 36  36  32 ...  18  14  11]\n",
            " [ 33  33  31 ...  22  17  11]]\n",
            "/n/n/n/n/n/n/n\n"
          ],
          "name": "stdout"
        },
        {
          "output_type": "display_data",
          "data": {
            "image/png": "[encoded data removed]",
            "text/plain": [
              "<PIL.Image.Image image mode=L size=48x48 at 0x7FB89A866BE0>"
            ]
          },
          "metadata": {
            "tags": []
          }
        },
        {
          "output_type": "stream",
          "text": [
            "(48, 48)\n",
            "Happy\n",
            "[[156  11  81  81]\n",
            " [282 130  81  81]]\n",
            "[[ 11  11  10 ...  75  70  66]\n",
            " [ 11  11   9 ...  75  72  70]\n",
            " [ 11  11  10 ...  77  72  70]\n",
            " ...\n",
            " [144 150 178 ...  45  54  59]\n",
            " [192 195 199 ...  45  56  71]\n",
            " [214 216 213 ...  43  56  78]]\n",
            "/n/n/n/n/n/n/n\n"
          ],
          "name": "stdout"
        },
        {
          "output_type": "display_data",
          "data": {
            "image/png": "[encoded data removed]",
            "text/plain": [
              "<PIL.Image.Image image mode=L size=48x48 at 0x7FB89AB9BC50>"
            ]
          },
          "metadata": {
            "tags": []
          }
        },
        {
          "output_type": "stream",
          "text": [
            "(48, 48)\n",
            "Happy\n",
            "[[ 57  16  14 ...  89 123 129]\n",
            " [ 40  11  11 ... 123 123 130]\n",
            " [ 36  11  11 ... 129 106 116]\n",
            " ...\n",
            " [ 35  36  36 ...  17  14  11]\n",
            " [ 33  33  33 ...  21  15  11]\n",
            " [ 33  32  32 ...  23  18  12]]\n",
            "/n/n/n/n/n/n/n\n"
          ],
          "name": "stdout"
        },
        {
          "output_type": "display_data",
          "data": {
            "image/png": "[encoded data removed]",
            "text/plain": [
              "<PIL.Image.Image image mode=L size=48x48 at 0x7FB89AA60908>"
            ]
          },
          "metadata": {
            "tags": []
          }
        },
        {
          "output_type": "stream",
          "text": [
            "(48, 48)\n",
            "Happy\n",
            "[[156  11  81  81]\n",
            " [282 130  81  81]]\n",
            "[[ 11  11  10 ...  75  68  65]\n",
            " [ 11  11   9 ...  75  71  68]\n",
            " [ 11  11   9 ...  75  72  70]\n",
            " ...\n",
            " [135 155 193 ...  49  52  43]\n",
            " [182 188 201 ...  52  66  54]\n",
            " [213 213 209 ...  51  71  68]]\n",
            "/n/n/n/n/n/n/n\n"
          ],
          "name": "stdout"
        },
        {
          "output_type": "display_data",
          "data": {
            "image/png": "[encoded data removed]",
            "text/plain": [
              "<PIL.Image.Image image mode=L size=48x48 at 0x7FB8A79DF550>"
            ]
          },
          "metadata": {
            "tags": []
          }
        },
        {
          "output_type": "stream",
          "text": [
            "(48, 48)\n",
            "Happy\n",
            "[[ 87  44  12 ... 102 136 141]\n",
            " [ 78  37  11 ... 117 120 152]\n",
            " [ 77  31  10 ... 132 111 136]\n",
            " ...\n",
            " [ 36  36  36 ...  16  12  11]\n",
            " [ 35  35  35 ...  18  12  10]\n",
            " [ 34  34  33 ...  21  15  11]]\n",
            "/n/n/n/n/n/n/n\n"
          ],
          "name": "stdout"
        },
        {
          "output_type": "display_data",
          "data": {
            "image/png": "[encoded data removed]",
            "text/plain": [
              "<PIL.Image.Image image mode=L size=48x48 at 0x7FB89A76B898>"
            ]
          },
          "metadata": {
            "tags": []
          }
        },
        {
          "output_type": "stream",
          "text": [
            "(48, 48)\n",
            "Happy\n",
            "[[154  11  82  82]\n",
            " [282 131  80  80]]\n",
            "[[ 11  11  11 ...  79  74  67]\n",
            " [ 11  12  11 ...  79  75  70]\n",
            " [ 12  12  11 ...  79  75  72]\n",
            " ...\n",
            " [153 157 167 ...  50  61  56]\n",
            " [196 202 206 ...  49  66  68]\n",
            " [215 216 215 ...  47  70  80]]\n",
            "/n/n/n/n/n/n/n\n"
          ],
          "name": "stdout"
        },
        {
          "output_type": "display_data",
          "data": {
            "image/png": "[encoded data removed]",
            "text/plain": [
              "<PIL.Image.Image image mode=L size=48x48 at 0x7FB89AB22470>"
            ]
          },
          "metadata": {
            "tags": []
          }
        },
        {
          "output_type": "stream",
          "text": [
            "(48, 48)\n",
            "Happy\n",
            "[[ 80  39  11 ... 109 111 134]\n",
            " [ 79  35  10 ... 125 124 115]\n",
            " [ 68  25  11 ... 136 121  99]\n",
            " ...\n",
            " [ 46  47  38 ...  15  14  12]\n",
            " [ 43  45  40 ...  19  15  11]\n",
            " [ 40  43  41 ...  22  16  11]]\n",
            "/n/n/n/n/n/n/n\n"
          ],
          "name": "stdout"
        },
        {
          "output_type": "display_data",
          "data": {
            "image/png": "[encoded data removed]",
            "text/plain": [
              "<PIL.Image.Image image mode=L size=48x48 at 0x7FB89AB81F98>"
            ]
          },
          "metadata": {
            "tags": []
          }
        },
        {
          "output_type": "stream",
          "text": [
            "(48, 48)\n",
            "Happy\n",
            "[[155  11  81  81]\n",
            " [280 130  82  82]]\n",
            "[[ 11  11  11 ...  77  71  65]\n",
            " [ 12  11  11 ...  78  71  66]\n",
            " [ 12  11  10 ...  78  73  70]\n",
            " ...\n",
            " [122 153 198 ...  47  49  42]\n",
            " [159 177 202 ...  56  61  47]\n",
            " [203 205 207 ...  57  72  60]]\n",
            "/n/n/n/n/n/n/n\n"
          ],
          "name": "stdout"
        },
        {
          "output_type": "display_data",
          "data": {
            "image/png": "[encoded data removed]",
            "text/plain": [
              "<PIL.Image.Image image mode=L size=48x48 at 0x7FB89A3EEAC8>"
            ]
          },
          "metadata": {
            "tags": []
          }
        },
        {
          "output_type": "stream",
          "text": [
            "(48, 48)\n",
            "Happy\n",
            "[[104 102  84 ...  88 104 124]\n",
            " [102  94  71 ... 101 118 125]\n",
            " [101  94  67 ... 123 122 121]\n",
            " ...\n",
            " [ 57  58  38 ...  19  15  11]\n",
            " [ 45  51  43 ...  22  16  11]\n",
            " [ 36  49  46 ...  23  19  15]]\n",
            "/n/n/n/n/n/n/n\n"
          ],
          "name": "stdout"
        },
        {
          "output_type": "display_data",
          "data": {
            "image/png": "[encoded data removed]",
            "text/plain": [
              "<PIL.Image.Image image mode=L size=48x48 at 0x7FB89AA4C908>"
            ]
          },
          "metadata": {
            "tags": []
          }
        },
        {
          "output_type": "stream",
          "text": [
            "(48, 48)\n",
            "Happy\n",
            "[[154  12  80  80]\n",
            " [280 130  82  82]]\n",
            "[[ 12  11  11 ...  79  80  74]\n",
            " [ 12  12  11 ...  79  80  75]\n",
            " [ 14  11  11 ...  78  79  77]\n",
            " ...\n",
            " [116 129 173 ...  45  44  46]\n",
            " [145 156 187 ...  49  52  59]\n",
            " [193 196 202 ...  49  53  67]]\n",
            "/n/n/n/n/n/n/n\n"
          ],
          "name": "stdout"
        },
        {
          "output_type": "display_data",
          "data": {
            "image/png": "[encoded data removed]",
            "text/plain": [
              "<PIL.Image.Image image mode=L size=48x48 at 0x7FB89AA4C908>"
            ]
          },
          "metadata": {
            "tags": []
          }
        },
        {
          "output_type": "stream",
          "text": [
            "(48, 48)\n",
            "Happy\n",
            "[[107 101  57 ... 101 131 138]\n",
            " [100  82  42 ...  97 110 134]\n",
            " [ 96  78  37 ... 120 122 133]\n",
            " ...\n",
            " [127 129 115 ...  18  14  11]\n",
            " [ 71  89 112 ...  19  14  10]\n",
            " [ 36  36  76 ...  21  16  12]]\n",
            "/n/n/n/n/n/n/n\n"
          ],
          "name": "stdout"
        },
        {
          "output_type": "display_data",
          "data": {
            "image/png": "[encoded data removed]",
            "text/plain": [
              "<PIL.Image.Image image mode=L size=48x48 at 0x7FB89AB792E8>"
            ]
          },
          "metadata": {
            "tags": []
          }
        },
        {
          "output_type": "stream",
          "text": [
            "(48, 48)\n",
            "Happy\n",
            "[[155  12  79  79]\n",
            " [282 131  80  80]]\n",
            "[[ 11  11  10 ...  80  78  71]\n",
            " [ 11  10   9 ...  81  78  72]\n",
            " [ 11  10   9 ...  79  78  73]\n",
            " ...\n",
            " [132 171 193 ...  37  42  51]\n",
            " [141 187 206 ...  40  39  43]\n",
            " [157 200 214 ...  43  51  56]]\n",
            "/n/n/n/n/n/n/n\n"
          ],
          "name": "stdout"
        },
        {
          "output_type": "display_data",
          "data": {
            "image/png": "[encoded data removed]",
            "text/plain": [
              "<PIL.Image.Image image mode=L size=48x48 at 0x7FB89AB79358>"
            ]
          },
          "metadata": {
            "tags": []
          }
        },
        {
          "output_type": "stream",
          "text": [
            "(48, 48)\n",
            "Happy\n",
            "[[ 13  13  16 ...  95 126 143]\n",
            " [ 12  12  12 ... 117 123 135]\n",
            " [ 12  13  11 ... 127 122 124]\n",
            " ...\n",
            " [109 108 107 ...  12  12  11]\n",
            " [108 107 104 ...  16  14  11]\n",
            " [107 104 102 ...  18  12  10]]\n",
            "/n/n/n/n/n/n/n\n"
          ],
          "name": "stdout"
        },
        {
          "output_type": "display_data",
          "data": {
            "image/png": "[encoded data removed]",
            "text/plain": [
              "<PIL.Image.Image image mode=L size=48x48 at 0x7FB89ABDC320>"
            ]
          },
          "metadata": {
            "tags": []
          }
        },
        {
          "output_type": "stream",
          "text": [
            "(48, 48)\n",
            "Happy\n",
            "[[153  12  80  80]\n",
            " [281 131  81  81]]\n",
            "[[ 13  11  11 ...  81  81  74]\n",
            " [ 13  12  11 ...  80  80  75]\n",
            " [ 15  12  11 ...  80  81  77]\n",
            " ...\n",
            " [115 129 170 ...  42  38  39]\n",
            " [115 136 184 ...  46  44  51]\n",
            " [146 163 195 ...  49  45  61]]\n",
            "/n/n/n/n/n/n/n\n"
          ],
          "name": "stdout"
        },
        {
          "output_type": "display_data",
          "data": {
            "image/png": "[encoded data removed]",
            "text/plain": [
              "<PIL.Image.Image image mode=L size=48x48 at 0x7FB8A7A24DD8>"
            ]
          },
          "metadata": {
            "tags": []
          }
        },
        {
          "output_type": "stream",
          "text": [
            "(48, 48)\n",
            "Happy\n",
            "[[ 12  10  11 ... 102 116 150]\n",
            " [ 10  10  10 ... 118 125 147]\n",
            " [ 11   9  10 ... 127 119 145]\n",
            " ...\n",
            " [107 104 102 ...  15  13  11]\n",
            " [101  99  97 ...  14  10  10]\n",
            " [ 97  96  94 ...  16  11  10]]\n",
            "/n/n/n/n/n/n/n\n"
          ],
          "name": "stdout"
        },
        {
          "output_type": "display_data",
          "data": {
            "image/png": "[encoded data removed]",
            "text/plain": [
              "<PIL.Image.Image image mode=L size=48x48 at 0x7FB8A7A24AC8>"
            ]
          },
          "metadata": {
            "tags": []
          }
        },
        {
          "output_type": "stream",
          "text": [
            "(48, 48)\n",
            "Happy\n",
            "[[154  13  79  79]\n",
            " [282 130  84  84]]\n",
            "[[ 11  11  11 ...  81  81  74]\n",
            " [ 12  11   9 ...  80  80  75]\n",
            " [ 11  11  10 ...  80  82  78]\n",
            " ...\n",
            " [128 165 194 ...  40  38  43]\n",
            " [134 181 207 ...  43  42  44]\n",
            " [155 193 214 ...  46  49  59]]\n",
            "/n/n/n/n/n/n/n\n"
          ],
          "name": "stdout"
        },
        {
          "output_type": "display_data",
          "data": {
            "image/png": "[encoded data removed]",
            "text/plain": [
              "<PIL.Image.Image image mode=L size=48x48 at 0x7FB89AC3C710>"
            ]
          },
          "metadata": {
            "tags": []
          }
        },
        {
          "output_type": "stream",
          "text": [
            "(48, 48)\n",
            "Happy\n",
            "[[ 11  12  11 ... 159 196 195]\n",
            " [ 10  11  11 ... 181 201 187]\n",
            " [ 10  11  11 ... 158 211 220]\n",
            " ...\n",
            " [ 87  85  85 ...   9  10  10]\n",
            " [ 78  81  81 ...   9   9   9]\n",
            " [ 74  85  80 ...   9  11  11]]\n",
            "/n/n/n/n/n/n/n\n"
          ],
          "name": "stdout"
        },
        {
          "output_type": "display_data",
          "data": {
            "image/png": "[encoded data removed]",
            "text/plain": [
              "<PIL.Image.Image image mode=L size=48x48 at 0x7FB89AC3C6D8>"
            ]
          },
          "metadata": {
            "tags": []
          }
        },
        {
          "output_type": "stream",
          "text": [
            "(48, 48)\n",
            "Happy\n",
            "[[153  13  80  80]\n",
            " [282 132  82  82]]\n",
            "[[ 13  11  11 ...  81  81  72]\n",
            " [ 15  12  11 ...  81  80  73]\n",
            " [ 15  11  11 ...  80  81  74]\n",
            " ...\n",
            " [116 144 187 ...  40  40  43]\n",
            " [130 157 198 ...  45  51  56]\n",
            " [173 184 203 ...  45  54  68]]\n",
            "/n/n/n/n/n/n/n\n"
          ],
          "name": "stdout"
        },
        {
          "output_type": "display_data",
          "data": {
            "image/png": "[encoded data removed]",
            "text/plain": [
              "<PIL.Image.Image image mode=L size=48x48 at 0x7FB89AC3C6D8>"
            ]
          },
          "metadata": {
            "tags": []
          }
        },
        {
          "output_type": "stream",
          "text": [
            "(48, 48)\n",
            "Happy\n",
            "[[ 10  11  11 ... 151 157 194]\n",
            " [ 10  11  11 ... 159 139 175]\n",
            " [  9  11  11 ... 172 158 167]\n",
            " ...\n",
            " [ 87  80  80 ...  10   9  10]\n",
            " [ 87  77  77 ...   9   9   9]\n",
            " [ 89  75  73 ...  10   9   9]]\n",
            "/n/n/n/n/n/n/n\n"
          ],
          "name": "stdout"
        },
        {
          "output_type": "display_data",
          "data": {
            "image/png": "[encoded data removed]",
            "text/plain": [
              "<PIL.Image.Image image mode=L size=48x48 at 0x7FB89AC313C8>"
            ]
          },
          "metadata": {
            "tags": []
          }
        },
        {
          "output_type": "stream",
          "text": [
            "(48, 48)\n",
            "Happy\n",
            "[[153  12  80  80]\n",
            " [281 131  83  83]]\n",
            "[[ 13  11  11 ...  81  80  71]\n",
            " [ 13  11  11 ...  81  81  72]\n",
            " [ 15  12  11 ...  81  80  73]\n",
            " ...\n",
            " [120 135 169 ...  40  42  50]\n",
            " [116 144 187 ...  40  40  43]\n",
            " [130 157 198 ...  45  51  56]]\n",
            "/n/n/n/n/n/n/n\n"
          ],
          "name": "stdout"
        },
        {
          "output_type": "display_data",
          "data": {
            "image/png": "[encoded data removed]",
            "text/plain": [
              "<PIL.Image.Image image mode=L size=48x48 at 0x7FB89A765EF0>"
            ]
          },
          "metadata": {
            "tags": []
          }
        },
        {
          "output_type": "stream",
          "text": [
            "(48, 48)\n",
            "Happy\n",
            "[[ 20  11  12 ... 116 153 188]\n",
            " [ 12  10  11 ... 151 157 194]\n",
            " [ 10  10  11 ... 159 139 175]\n",
            " ...\n",
            " [ 89  87  80 ...  10   9  10]\n",
            " [ 86  87  77 ...   9   9   9]\n",
            " [ 80  89  75 ...  10   9   9]]\n",
            "/n/n/n/n/n/n/n\n"
          ],
          "name": "stdout"
        },
        {
          "output_type": "display_data",
          "data": {
            "image/png": "[encoded data removed]",
            "text/plain": [
              "<PIL.Image.Image image mode=L size=48x48 at 0x7FB8A79FB7F0>"
            ]
          },
          "metadata": {
            "tags": []
          }
        },
        {
          "output_type": "stream",
          "text": [
            "(48, 48)\n",
            "Happy\n",
            "[[154  15  80  80]\n",
            " [281 132  82  82]]\n",
            "[[ 12  11   9 ...  81  73  71]\n",
            " [ 11  11  11 ...  79  76  71]\n",
            " [ 12  11  11 ...  78  76  71]\n",
            " ...\n",
            " [182 212 213 ...  61  60  42]\n",
            " [198 210 215 ...  65  73  52]\n",
            " [210 209 211 ...  66  82  65]]\n",
            "/n/n/n/n/n/n/n\n"
          ],
          "name": "stdout"
        },
        {
          "output_type": "display_data",
          "data": {
            "image/png": "[encoded data removed]",
            "text/plain": [
              "<PIL.Image.Image image mode=L size=48x48 at 0x7FB8A79FB6D8>"
            ]
          },
          "metadata": {
            "tags": []
          }
        },
        {
          "output_type": "stream",
          "text": [
            "(48, 48)\n",
            "Happy\n",
            "[[ 38  15  16 ... 135 139 171]\n",
            " [ 35  15  15 ... 155 153 153]\n",
            " [ 24  11  12 ... 150 160 145]\n",
            " ...\n",
            " [ 89  88  82 ...  10  10  10]\n",
            " [ 85  88  80 ...  10  10   9]\n",
            " [ 77  88  80 ...  11   9   9]]\n",
            "/n/n/n/n/n/n/n\n"
          ],
          "name": "stdout"
        },
        {
          "output_type": "display_data",
          "data": {
            "image/png": "[encoded data removed]",
            "text/plain": [
              "<PIL.Image.Image image mode=L size=48x48 at 0x7FB89ACC62E8>"
            ]
          },
          "metadata": {
            "tags": []
          }
        },
        {
          "output_type": "stream",
          "text": [
            "(48, 48)\n",
            "Happy\n",
            "[[275  98 214 214]]\n",
            "[[148 139 134 ...  63  75 109]\n",
            " [153 149 145 ...  60  72 108]\n",
            " [158 163 162 ...  58  67 106]\n",
            " ...\n",
            " [150 148 145 ... 167 167 166]\n",
            " [163 151 145 ... 167 167 166]\n",
            " [174 163 151 ... 167 167 167]]\n",
            "/n/n/n/n/n/n/n\n"
          ],
          "name": "stdout"
        },
        {
          "output_type": "display_data",
          "data": {
            "image/png": "[encoded data removed]",
            "text/plain": [
              "<PIL.Image.Image image mode=L size=48x48 at 0x7FB89ACC62E8>"
            ]
          },
          "metadata": {
            "tags": []
          }
        },
        {
          "output_type": "stream",
          "text": [
            "(48, 48)\n",
            "Neutral\n",
            "[[276  97 212 212]]\n",
            "[[144 137 131 ...  27  53  66]\n",
            " [142 135 129 ...  27  52  63]\n",
            " [150 146 142 ...  27  50  61]\n",
            " ...\n",
            " [145 145 145 ... 164 162 160]\n",
            " [146 146 145 ... 167 166 165]\n",
            " [143 146 144 ... 167 167 167]]\n",
            "/n/n/n/n/n/n/n\n"
          ],
          "name": "stdout"
        },
        {
          "output_type": "display_data",
          "data": {
            "image/png": "[encoded data removed]",
            "text/plain": [
              "<PIL.Image.Image image mode=L size=48x48 at 0x7FB89A342940>"
            ]
          },
          "metadata": {
            "tags": []
          }
        },
        {
          "output_type": "stream",
          "text": [
            "(48, 48)\n",
            "Neutral\n",
            "[[276  97 216 216]]\n",
            "[[144 137 131 ... 115 126 136]\n",
            " [142 135 129 ... 111 122 132]\n",
            " [150 146 142 ... 108 121 131]\n",
            " ...\n",
            " [164 152 146 ... 166 167 166]\n",
            " [176 163 152 ... 167 167 167]\n",
            " [189 177 163 ... 167 167 167]]\n",
            "/n/n/n/n/n/n/n\n"
          ],
          "name": "stdout"
        },
        {
          "output_type": "display_data",
          "data": {
            "image/png": "[encoded data removed]",
            "text/plain": [
              "<PIL.Image.Image image mode=L size=48x48 at 0x7FB89ACC62E8>"
            ]
          },
          "metadata": {
            "tags": []
          }
        },
        {
          "output_type": "stream",
          "text": [
            "(48, 48)\n",
            "Neutral\n",
            "[[278 100 211 211]]\n",
            "[[158 156 157 ...  29  47  77]\n",
            " [165 165 162 ...  29  47  75]\n",
            " [167 170 166 ...  29  47  75]\n",
            " ...\n",
            " [147 145 145 ... 167 167 167]\n",
            " [147 147 145 ... 167 167 167]\n",
            " [148 145 145 ... 167 167 167]]\n",
            "/n/n/n/n/n/n/n\n"
          ],
          "name": "stdout"
        },
        {
          "output_type": "display_data",
          "data": {
            "image/png": "[encoded data removed]",
            "text/plain": [
              "<PIL.Image.Image image mode=L size=48x48 at 0x7FB89ABDCF28>"
            ]
          },
          "metadata": {
            "tags": []
          }
        },
        {
          "output_type": "stream",
          "text": [
            "(48, 48)\n",
            "Neutral\n",
            "[[279  99 209 209]]\n",
            "[[129 134 137 ...  15  25  43]\n",
            " [157 157 152 ...  15  25  43]\n",
            " [165 163 155 ...  15  25  43]\n",
            " ...\n",
            " [145 147 147 ... 162 159 157]\n",
            " [146 146 146 ... 165 163 160]\n",
            " [146 145 146 ... 167 167 165]]\n",
            "/n/n/n/n/n/n/n\n"
          ],
          "name": "stdout"
        },
        {
          "output_type": "display_data",
          "data": {
            "image/png": "[encoded data removed]",
            "text/plain": [
              "<PIL.Image.Image image mode=L size=48x48 at 0x7FB89AC38080>"
            ]
          },
          "metadata": {
            "tags": []
          }
        },
        {
          "output_type": "stream",
          "text": [
            "(48, 48)\n",
            "Neutral\n",
            "[[282 102 202 202]]\n",
            "[[142 115 100 ...   6   6   9]\n",
            " [148 121 106 ...   6   6   9]\n",
            " [149 124 111 ...   6   6   9]\n",
            " ...\n",
            " [149 149 149 ... 153 144 136]\n",
            " [150 150 149 ... 156 156 153]\n",
            " [149 149 149 ... 162 159 158]]\n",
            "/n/n/n/n/n/n/n\n"
          ],
          "name": "stdout"
        },
        {
          "output_type": "display_data",
          "data": {
            "image/png": "[encoded data removed]",
            "text/plain": [
              "<PIL.Image.Image image mode=L size=48x48 at 0x7FB89A427048>"
            ]
          },
          "metadata": {
            "tags": []
          }
        },
        {
          "output_type": "stream",
          "text": [
            "(48, 48)\n",
            "Neutral\n"
          ],
          "name": "stdout"
        },
        {
          "output_type": "error",
          "ename": "KeyboardInterrupt",
          "evalue": "ignored",
          "traceback": [
            "\u001b[0;31m---------------------------------------------------------------------------\u001b[0m",
            "\u001b[0;31mKeyboardInterrupt\u001b[0m                         Traceback (most recent call last)",
            "\u001b[0;32m<ipython-input-95-1a95d68908cc>\u001b[0m in \u001b[0;36m<module>\u001b[0;34m()\u001b[0m\n\u001b[0;32m----> 1\u001b[0;31m \u001b[0mvideoToMoodDetection\u001b[0m\u001b[0;34m(\u001b[0m\u001b[0;34m'/content/video.mp4'\u001b[0m\u001b[0;34m)\u001b[0m\u001b[0;34m\u001b[0m\u001b[0;34m\u001b[0m\u001b[0m\n\u001b[0m",
            "\u001b[0;32m<ipython-input-94-77c630ebcc66>\u001b[0m in \u001b[0;36mvideoToMoodDetection\u001b[0;34m(video_path)\u001b[0m\n\u001b[1;32m     14\u001b[0m     \u001b[0mGray_img\u001b[0m \u001b[0;34m=\u001b[0m \u001b[0mcv2\u001b[0m\u001b[0;34m.\u001b[0m\u001b[0mcvtColor\u001b[0m\u001b[0;34m(\u001b[0m\u001b[0mframe\u001b[0m\u001b[0;34m,\u001b[0m \u001b[0mcv2\u001b[0m\u001b[0;34m.\u001b[0m\u001b[0mCOLOR_BGR2GRAY\u001b[0m\u001b[0;34m)\u001b[0m\u001b[0;34m\u001b[0m\u001b[0;34m\u001b[0m\u001b[0m\n\u001b[1;32m     15\u001b[0m \u001b[0;34m\u001b[0m\u001b[0m\n\u001b[0;32m---> 16\u001b[0;31m     \u001b[0mfaces\u001b[0m \u001b[0;34m=\u001b[0m \u001b[0mface_casecade\u001b[0m\u001b[0;34m.\u001b[0m\u001b[0mdetectMultiScale\u001b[0m\u001b[0;34m(\u001b[0m\u001b[0mGray_img\u001b[0m\u001b[0;34m,\u001b[0m \u001b[0;36m1.3\u001b[0m\u001b[0;34m,\u001b[0m \u001b[0;36m5\u001b[0m\u001b[0;34m)\u001b[0m\u001b[0;34m\u001b[0m\u001b[0;34m\u001b[0m\u001b[0m\n\u001b[0m\u001b[1;32m     17\u001b[0m \u001b[0;34m\u001b[0m\u001b[0m\n\u001b[1;32m     18\u001b[0m     \u001b[0mprint\u001b[0m\u001b[0;34m(\u001b[0m\u001b[0mfaces\u001b[0m\u001b[0;34m)\u001b[0m\u001b[0;34m\u001b[0m\u001b[0;34m\u001b[0m\u001b[0m\n",
            "\u001b[0;31mKeyboardInterrupt\u001b[0m: "
          ]
        }
      ]
    },
    {
      "cell_type": "markdown",
      "metadata": {
        "id": "qFRa-zu9xfw_"
      },
      "source": [
        "**pixel to image**"
      ]
    },
    {
      "cell_type": "code",
      "metadata": {
        "colab": {
          "base_uri": "https://localhost:8080/",
          "height": 320
        },
        "id": "_eAaZJeKxc7g",
        "outputId": "beea6d64-0bb9-4437-b65a-1b3d4d128a12"
      },
      "source": [
        "import matplotlib.pyplot as plt\r\n",
        "\r\n",
        "single_image = np.array(x_test_data[13]*255)\r\n",
        "print(single_image.shape)\r\n",
        "single_image = np.reshape(single_image,(48,48),order = 'C')\r\n",
        "print(single_image.shape)\r\n",
        "plt.imshow(single_image, cmap='gray', vmin=0, vmax=255)\r\n",
        "# s_img = np.array(single_image, shape=(48,48))"
      ],
      "execution_count": null,
      "outputs": [
        {
          "output_type": "stream",
          "text": [
            "(48, 48, 1)\n",
            "(48, 48)\n"
          ],
          "name": "stdout"
        },
        {
          "output_type": "execute_result",
          "data": {
            "text/plain": [
              "<matplotlib.image.AxesImage at 0x7f6b2ba65e48>"
            ]
          },
          "metadata": {
            "tags": []
          },
          "execution_count": 31
        },
        {
          "output_type": "display_data",
          "data": {
            "image/png": "[encoded data removed]",
            "text/plain": [
              "<Figure size 432x288 with 1 Axes>"
            ]
          },
          "metadata": {
            "tags": [],
            "needs_background": "light"
          }
        }
      ]
    }
  ]
}